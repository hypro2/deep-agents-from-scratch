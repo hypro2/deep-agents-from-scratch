{
 "cells": [
  {
   "cell_type": "code",
   "execution_count": 1,
   "id": "38cb48f0",
   "metadata": {},
   "outputs": [],
   "source": [
    "import os\n",
    "\n",
    "from dotenv import load_dotenv\n",
    "\n",
    "load_dotenv(os.path.join(\".\", \".env\"), override=True)\n",
    "\n",
    "%load_ext autoreload\n",
    "%autoreload 2"
   ]
  },
  {
   "cell_type": "markdown",
   "id": "09dd8911",
   "metadata": {
    "vscode": {
     "languageId": "plaintext"
    }
   },
   "source": [
    "## 계획: 할 일 목록\n",
    "\n",
    "![Screenshot 2025-08-15 at 11.41.46 AM.png](첨부 파일:e94d5803-050b-4502-b784-f520a96c322b.png)\n",
    "\n",
    "많은 에이전트들은 장기적이고 복잡한 작업을 수행하는 데 필수적인 내비게이션 도구로 TODO 목록을 사용합니다. Claude Code는 [계획 모드](https://www.anthropic.com/engineering/claude-code-best-practices)를 활용하여 작업을 실행하기 전에 구조화된 TODO 목록을 생성하며, [Claude Code 프롬프트](https://cchistory.mariozechner.at/)를 기반으로 한 `TodoWrite`라는 특정 도구를 사용합니다. 각 TODO 항목은 두 가지 핵심 구성 요소로 이루어집니다: 내용(짧고 구체적인 작업 설명)과 상태(보류 중, 진행 중, 완료됨).\n",
    "\n",
    "TODO 목록의 어려움은 컨텍스트 창이 커짐에 따라 주의를 유지하는 데 있습니다. 평균적인 Manus 작업은 약 50개의 도구 호출을 사용하며, 이는 상당한 [컨텍스트 부패](https://research.trychroma.com/context-rot) 위험을 초래합니다. 에이전트는 긴 대화나 복잡한 작업 중 주제에서 벗어나거나 초기 목표를 잊기 쉽습니다. Manus와 같은 에이전트는 TODO 목록을 지속적으로 재작성하고 업데이트함으로써 컨텍스트 종료 시점에 목표를 효과적으로 상기시켜 [작업에 집중](https://manus.im/blog/Context-Engineering-for-AI-Agents-Lessons-from-Building-Manus)하고 임무 이탈을 방지합니다.\n",
    "\n",
    "<!-- 아래 스타일은 동일한 글머리 기호 목록 내 항목 간 간격을 줄입니다. 노트북당 한 번 실행 -->\n",
    "<style>\n",
    "/* JupyterLab + classic notebook */\n",
    ".jp-RenderedHTMLCommon ul, .text_cell_render ul { margin-top: .25em; margin-bottom: .35em; padding-left: 1.2em; }\n",
    ".jp-RenderedHTMLCommon ul ul, .text_cell_render ul ul { margin-top: .15em; margin-bottom: .15em; padding-left: 1.0em; }\n",
    ".jp-RenderedHTMLCommon li, .text_cell_render li { margin: .1em 0; }\n",
    "</style>"
   ]
  },
  {
   "cell_type": "markdown",
   "id": "5971d1d7-a8e3-45cf-be54-5db30a3b0809",
   "metadata": {},
   "source": [
    "### 상태\n",
    "\n",
    "이전 강의와 마찬가지로 커스텀 상태를 가진 `create_react_agent`를 사용할 것입니다.\n",
    "\n",
    "상태 객체는 워크플로우의 서로 다른 단계 간에 컨텍스트를 저장하고 전달하는 주요 메커니즘 역할을 합니다. 상태는 그래프의 스키마와 상태 업데이트 적용 방식을 지정하는 리듀서 함수로 구성됩니다.\n",
    "\n",
    "DeepAgent 스키마에는 세 가지 주요 요소가 정의되어 있습니다: **`messages`**, **`todo`**, **`files`**.  \n",
    "\n",
    "- **`messages`**는 첫 번째 강의에서 설명한 `AgentState`에서 상속됩니다.\n",
    "  - `add_messages` 리듀서는 새 메시지를 메시지 목록 끝에 추가합니다.  \n",
    "- **`todo`**는 `Todo` 작업 목록입니다. 각 작업은 설명(`content`)과 상태(`status`: pending, in_progress, completed)를 가집니다.\n",
    "  - 사용자 정의 리듀서가 정의되지 않아, 업데이트 시 목록이 덮어쓰기됩니다.\n",
    "- **`files`**는 상태 내에 포함된 가상 파일 시스템으로, 다음 강의에서 살펴볼 예정입니다.  \n"
   ]
  },
  {
   "cell_type": "code",
   "execution_count": 2,
   "id": "57472a38",
   "metadata": {},
   "outputs": [
    {
     "name": "stdout",
     "output_type": "stream",
     "text": [
      "Overwriting ./src/deep_agents_from_scratch/state.py\n"
     ]
    }
   ],
   "source": [
    "%%writefile ./src/deep_agents_from_scratch/state.py\n",
    "\"\"\"TODO 추적 및 가상 파일 시스템을 지원하는 심층 에이전트용 상태 관리.\n",
    "\n",
    "이 모듈은 다음을 지원하는 확장된 에이전트 상태 구조를 정의합니다:\n",
    "- TODO 목록을 통한 작업 계획 및 진행 상황 추적\n",
    "- 상태에 저장된 가상 파일 시스템을 통한 컨텍스트 오프로딩\n",
    "- 리듀서 함수를 통한 효율적인 상태 병합\n",
    "\"\"\"\n",
    "\n",
    "from typing import Annotated, Literal, NotRequired\n",
    "from typing_extensions import TypedDict\n",
    "\n",
    "from langgraph.prebuilt.chat_agent_executor import AgentState\n",
    "\n",
    "\n",
    "class Todo(TypedDict):\n",
    "    \"\"\" 워크플로우를 통해 진행 상황을 추적하기 위한 구조화된 작업 항목.\n",
    "\n",
    "    Attributes:\n",
    "        content: 작업에 대한 간결하고 구체적인 설명\n",
    "        status: Current state - pending, in_progress, or completed\n",
    "    \"\"\"\n",
    "\n",
    "    content: str\n",
    "    status: Literal[\"pending\", \"in_progress\", \"completed\"]\n",
    "\n",
    "\n",
    "def file_reducer(left, right):\n",
    "    \"\"\"두 파일 사전(dictionary)을 병합하며, 오른쪽이 우선합니다.\n",
    "\n",
    "    에이전트 상태의 files 필드에 대한 리듀서 함수로 사용되며,\n",
    "    가상 파일 시스템에 대한 증분 업데이트를 가능하게 합니다.\n",
    "    \n",
    "    Args:\n",
    "        left: 왼쪽 사전 (기존 파일)\n",
    "        right: 오른쪽 사전 (새/업데이트된 파일)\n",
    "\n",
    "    Returns:\n",
    "        오른쪽 값이 왼쪽 값을 덮어쓴 병합된 사전\n",
    "    \"\"\"\n",
    "    if left is None:\n",
    "        return right\n",
    "    elif right is None:\n",
    "        return left\n",
    "    else:\n",
    "        return {**left, **right}\n",
    "\n",
    "\n",
    "class DeepAgentState(AgentState):\n",
    "    \"\"\"작업 추적 및 가상 파일 시스템을 포함하는 확장 에이전트 상태.\n",
    "\n",
    "    LangGraph의 AgentState를 상속하며 다음을 추가합니다:\n",
    "    - todos: 작업 계획 및 진행 상황 추적을 위한 할 일 항목 목록\n",
    "    - files: 파일명을 콘텐츠에 매핑하는 딕셔너리로 저장된 가상 파일 시스템\n",
    "    \"\"\"\n",
    "\n",
    "    todos: NotRequired[list[Todo]]\n",
    "    files: Annotated[NotRequired[dict[str, str]], file_reducer]"
   ]
  },
  {
   "cell_type": "markdown",
   "id": "93c1a330",
   "metadata": {},
   "source": [
    "### 도구 설명  - 할 일 도구\n",
    "위에서 설명한 바와 같이, 장시간 실행되는 에이전트는 할 일 목록을 활용하여 작업을 계속 진행할 수 있습니다. 이를 가능하게 하기 위해 `write_todo` 및 `read_todo`라는 할 일 도구가 생성됩니다. 아래의 도구 설명은 LLM에 제공되며, 할 일 목록을 언제 사용해야 하는지, 목록에 무엇이 포함되는지, 그리고 목록을 읽고 업데이트하는 방법을 상세히 설명합니다.   \n",
    "참고: 목록에는 개별 작업이 포함되지만, 목록 전체를 재작성하는 방식으로 업데이트됩니다. 이를 통해 LLM은 작업 진행 상황에 따라 작업을 재고할 수 있습니다. \n",
    "\n"
   ]
  },
  {
   "cell_type": "code",
   "execution_count": 3,
   "id": "797bbfc9",
   "metadata": {},
   "outputs": [
    {
     "data": {
      "text/html": [
       "<pre style=\"white-space:pre;overflow-x:auto;line-height:normal;font-family:Menlo,'DejaVu Sans Mono',consolas,'Courier New',monospace\"><span style=\"color: #000080; text-decoration-color: #000080\">╭──────────────────────────────────────────────────── </span><span style=\"color: #008000; text-decoration-color: #008000; font-weight: bold\">Prompt</span><span style=\"color: #000080; text-decoration-color: #000080\"> ─────────────────────────────────────────────────────╮</span>\n",
       "<span style=\"color: #000080; text-decoration-color: #000080\">│</span>                                                                                                                 <span style=\"color: #000080; text-decoration-color: #000080\">│</span>\n",
       "<span style=\"color: #000080; text-decoration-color: #000080\">│</span>  복잡한 워크플로우의 진행 상황을 추적하기 위해 구조화된 작업 목록을 생성하고 관리합니다.                        <span style=\"color: #000080; text-decoration-color: #000080\">│</span>\n",
       "<span style=\"color: #000080; text-decoration-color: #000080\">│</span>                                                                                                                 <span style=\"color: #000080; text-decoration-color: #000080\">│</span>\n",
       "<span style=\"color: #000080; text-decoration-color: #000080\">│</span>  <span style=\"color: #800080; text-decoration-color: #800080; font-weight: bold\">## 사용 시점</span>                                                                                                   <span style=\"color: #000080; text-decoration-color: #000080\">│</span>\n",
       "<span style=\"color: #000080; text-decoration-color: #000080\">│</span>  - 조정이 필요한 다단계 또는 간단하지 않은 작업                                                                 <span style=\"color: #000080; text-decoration-color: #000080\">│</span>\n",
       "<span style=\"color: #000080; text-decoration-color: #000080\">│</span>  - 사용자가 여러 작업을 제공하거나 명시적으로 할 일 목록을 요청할 때                                            <span style=\"color: #000080; text-decoration-color: #000080\">│</span>\n",
       "<span style=\"color: #000080; text-decoration-color: #000080\">│</span>  - 별도의 지시가 없는 한 단일의 사소한 작업에는 사용을 피하세요                                                 <span style=\"color: #000080; text-decoration-color: #000080\">│</span>\n",
       "<span style=\"color: #000080; text-decoration-color: #000080\">│</span>                                                                                                                 <span style=\"color: #000080; text-decoration-color: #000080\">│</span>\n",
       "<span style=\"color: #000080; text-decoration-color: #000080\">│</span>  <span style=\"color: #800080; text-decoration-color: #800080; font-weight: bold\">## 구조</span>                                                                                                        <span style=\"color: #000080; text-decoration-color: #000080\">│</span>\n",
       "<span style=\"color: #000080; text-decoration-color: #000080\">│</span>  - 여러 할 일 객체(내용, 상태, ID)를 포함하는 하나의 목록을 유지합니다.                                         <span style=\"color: #000080; text-decoration-color: #000080\">│</span>\n",
       "<span style=\"color: #000080; text-decoration-color: #000080\">│</span>  - 명확하고 실행 가능한 내용 설명을 사용하세요                                                                  <span style=\"color: #000080; text-decoration-color: #000080\">│</span>\n",
       "<span style=\"color: #000080; text-decoration-color: #000080\">│</span>  - 상태는 반드시 pending, in_progress, 또는 completed여야 합니다.                                               <span style=\"color: #000080; text-decoration-color: #000080\">│</span>\n",
       "<span style=\"color: #000080; text-decoration-color: #000080\">│</span>                                                                                                                 <span style=\"color: #000080; text-decoration-color: #000080\">│</span>\n",
       "<span style=\"color: #000080; text-decoration-color: #000080\">│</span>  <span style=\"color: #800080; text-decoration-color: #800080; font-weight: bold\">## 모범 사례</span>                                                                                                   <span style=\"color: #000080; text-decoration-color: #000080\">│</span>\n",
       "<span style=\"color: #000080; text-decoration-color: #000080\">│</span>  - 한 번에 하나의 작업만 in_progress 상태일 수 있습니다.                                                        <span style=\"color: #000080; text-decoration-color: #000080\">│</span>\n",
       "<span style=\"color: #000080; text-decoration-color: #000080\">│</span>  - 작업이 완전히 완료되면 즉시 completed로 표시하세요                                                           <span style=\"color: #000080; text-decoration-color: #000080\">│</span>\n",
       "<span style=\"color: #000080; text-decoration-color: #000080\">│</span>  - 변경 시 항상 업데이트된 전체 목록을 보내세요                                                                 <span style=\"color: #000080; text-decoration-color: #000080\">│</span>\n",
       "<span style=\"color: #000080; text-decoration-color: #000080\">│</span>  - 목록을 집중적으로 유지하기 위해 관련 없는 항목은 제거하세요                                                  <span style=\"color: #000080; text-decoration-color: #000080\">│</span>\n",
       "<span style=\"color: #000080; text-decoration-color: #000080\">│</span>                                                                                                                 <span style=\"color: #000080; text-decoration-color: #000080\">│</span>\n",
       "<span style=\"color: #000080; text-decoration-color: #000080\">│</span>  <span style=\"color: #800080; text-decoration-color: #800080; font-weight: bold\">## 진행 상황 업데이트</span>                                                                                          <span style=\"color: #000080; text-decoration-color: #000080\">│</span>\n",
       "<span style=\"color: #000080; text-decoration-color: #000080\">│</span>  - 작업 상태를 변경하거나 내용을 편집하려면 TodoWrite를 다시 호출하세요                                         <span style=\"color: #000080; text-decoration-color: #000080\">│</span>\n",
       "<span style=\"color: #000080; text-decoration-color: #000080\">│</span>  - 실시간 진행 상황을 반영하세요. 완료를 일괄 처리하지 마세요.                                                  <span style=\"color: #000080; text-decoration-color: #000080\">│</span>\n",
       "<span style=\"color: #000080; text-decoration-color: #000080\">│</span>  - 작업이 막히면 in_progress 상태를 유지하고, 방해 요소를 설명하는 새 작업을 추가하세요                         <span style=\"color: #000080; text-decoration-color: #000080\">│</span>\n",
       "<span style=\"color: #000080; text-decoration-color: #000080\">│</span>                                                                                                                 <span style=\"color: #000080; text-decoration-color: #000080\">│</span>\n",
       "<span style=\"color: #000080; text-decoration-color: #000080\">│</span>  <span style=\"color: #800080; text-decoration-color: #800080; font-weight: bold\">## 매개변수</span>                                                                                                    <span style=\"color: #000080; text-decoration-color: #000080\">│</span>\n",
       "<span style=\"color: #000080; text-decoration-color: #000080\">│</span>  - todos: 내용(content)과 상태(status) 필드를 가진 TODO 항목의 목록                                             <span style=\"color: #000080; text-decoration-color: #000080\">│</span>\n",
       "<span style=\"color: #000080; text-decoration-color: #000080\">│</span>                                                                                                                 <span style=\"color: #000080; text-decoration-color: #000080\">│</span>\n",
       "<span style=\"color: #000080; text-decoration-color: #000080\">│</span>  <span style=\"color: #800080; text-decoration-color: #800080; font-weight: bold\">## 반환값</span>                                                                                                      <span style=\"color: #000080; text-decoration-color: #000080\">│</span>\n",
       "<span style=\"color: #000080; text-decoration-color: #000080\">│</span>  에이전트 상태를 새 할 일 목록으로 업데이트합니다.                                                              <span style=\"color: #000080; text-decoration-color: #000080\">│</span>\n",
       "<span style=\"color: #000080; text-decoration-color: #000080\">│</span>                                                                                                                 <span style=\"color: #000080; text-decoration-color: #000080\">│</span>\n",
       "<span style=\"color: #000080; text-decoration-color: #000080\">╰─────────────────────────────────────────────────────────────────────────────────────────────────────────────────╯</span>\n",
       "</pre>\n"
      ],
      "text/plain": [
       "\u001b[34m╭─\u001b[0m\u001b[34m───────────────────────────────────────────────────\u001b[0m\u001b[34m \u001b[0m\u001b[1;32mPrompt\u001b[0m\u001b[34m \u001b[0m\u001b[34m────────────────────────────────────────────────────\u001b[0m\u001b[34m─╮\u001b[0m\n",
       "\u001b[34m│\u001b[0m                                                                                                                 \u001b[34m│\u001b[0m\n",
       "\u001b[34m│\u001b[0m  복잡한 워크플로우의 진행 상황을 추적하기 위해 구조화된 작업 목록을 생성하고 관리합니다.                        \u001b[34m│\u001b[0m\n",
       "\u001b[34m│\u001b[0m                                                                                                                 \u001b[34m│\u001b[0m\n",
       "\u001b[34m│\u001b[0m  \u001b[1;35m## 사용 시점\u001b[0m                                                                                                   \u001b[34m│\u001b[0m\n",
       "\u001b[34m│\u001b[0m  - 조정이 필요한 다단계 또는 간단하지 않은 작업                                                                 \u001b[34m│\u001b[0m\n",
       "\u001b[34m│\u001b[0m  - 사용자가 여러 작업을 제공하거나 명시적으로 할 일 목록을 요청할 때                                            \u001b[34m│\u001b[0m\n",
       "\u001b[34m│\u001b[0m  - 별도의 지시가 없는 한 단일의 사소한 작업에는 사용을 피하세요                                                 \u001b[34m│\u001b[0m\n",
       "\u001b[34m│\u001b[0m                                                                                                                 \u001b[34m│\u001b[0m\n",
       "\u001b[34m│\u001b[0m  \u001b[1;35m## 구조\u001b[0m                                                                                                        \u001b[34m│\u001b[0m\n",
       "\u001b[34m│\u001b[0m  - 여러 할 일 객체(내용, 상태, ID)를 포함하는 하나의 목록을 유지합니다.                                         \u001b[34m│\u001b[0m\n",
       "\u001b[34m│\u001b[0m  - 명확하고 실행 가능한 내용 설명을 사용하세요                                                                  \u001b[34m│\u001b[0m\n",
       "\u001b[34m│\u001b[0m  - 상태는 반드시 pending, in_progress, 또는 completed여야 합니다.                                               \u001b[34m│\u001b[0m\n",
       "\u001b[34m│\u001b[0m                                                                                                                 \u001b[34m│\u001b[0m\n",
       "\u001b[34m│\u001b[0m  \u001b[1;35m## 모범 사례\u001b[0m                                                                                                   \u001b[34m│\u001b[0m\n",
       "\u001b[34m│\u001b[0m  - 한 번에 하나의 작업만 in_progress 상태일 수 있습니다.                                                        \u001b[34m│\u001b[0m\n",
       "\u001b[34m│\u001b[0m  - 작업이 완전히 완료되면 즉시 completed로 표시하세요                                                           \u001b[34m│\u001b[0m\n",
       "\u001b[34m│\u001b[0m  - 변경 시 항상 업데이트된 전체 목록을 보내세요                                                                 \u001b[34m│\u001b[0m\n",
       "\u001b[34m│\u001b[0m  - 목록을 집중적으로 유지하기 위해 관련 없는 항목은 제거하세요                                                  \u001b[34m│\u001b[0m\n",
       "\u001b[34m│\u001b[0m                                                                                                                 \u001b[34m│\u001b[0m\n",
       "\u001b[34m│\u001b[0m  \u001b[1;35m## 진행 상황 업데이트\u001b[0m                                                                                          \u001b[34m│\u001b[0m\n",
       "\u001b[34m│\u001b[0m  - 작업 상태를 변경하거나 내용을 편집하려면 TodoWrite를 다시 호출하세요                                         \u001b[34m│\u001b[0m\n",
       "\u001b[34m│\u001b[0m  - 실시간 진행 상황을 반영하세요. 완료를 일괄 처리하지 마세요.                                                  \u001b[34m│\u001b[0m\n",
       "\u001b[34m│\u001b[0m  - 작업이 막히면 in_progress 상태를 유지하고, 방해 요소를 설명하는 새 작업을 추가하세요                         \u001b[34m│\u001b[0m\n",
       "\u001b[34m│\u001b[0m                                                                                                                 \u001b[34m│\u001b[0m\n",
       "\u001b[34m│\u001b[0m  \u001b[1;35m## 매개변수\u001b[0m                                                                                                    \u001b[34m│\u001b[0m\n",
       "\u001b[34m│\u001b[0m  - todos: 내용(content)과 상태(status) 필드를 가진 TODO 항목의 목록                                             \u001b[34m│\u001b[0m\n",
       "\u001b[34m│\u001b[0m                                                                                                                 \u001b[34m│\u001b[0m\n",
       "\u001b[34m│\u001b[0m  \u001b[1;35m## 반환값\u001b[0m                                                                                                      \u001b[34m│\u001b[0m\n",
       "\u001b[34m│\u001b[0m  에이전트 상태를 새 할 일 목록으로 업데이트합니다.                                                              \u001b[34m│\u001b[0m\n",
       "\u001b[34m│\u001b[0m                                                                                                                 \u001b[34m│\u001b[0m\n",
       "\u001b[34m╰─────────────────────────────────────────────────────────────────────────────────────────────────────────────────╯\u001b[0m\n"
      ]
     },
     "metadata": {},
     "output_type": "display_data"
    }
   ],
   "source": [
    "from notebooks.utils import show_prompt\n",
    "\n",
    "from deep_agents_from_scratch.prompts import WRITE_TODOS_DESCRIPTION\n",
    "\n",
    "show_prompt(WRITE_TODOS_DESCRIPTION)"
   ]
  },
  {
   "cell_type": "markdown",
   "id": "0b87dea8",
   "metadata": {},
   "source": [
    "### 할 일 도구 쓰기 및 읽기  \n",
    "\n",
    "아래에서 **`write_todos`** 및 **`read_todos`** 도구를 생성합니다:  \n",
    "**`write_todos`** 도구는 LLM으로부터 할 일 목록을 인수로 받아 상태에 기록하며, 기존 목록을 덮어씁니다. 이후 기록된 목록을 포함하는 `ToolMessage`를 반환합니다. 목록을 작성하면 해당 정보가 `messages`에 저장된 대화 기록을 통해 LLM에 제공됩니다. 이는 LLM이 생성한 도구 호출과 반환된 `ToolMessage` 모두에 적용됩니다.  \n",
    "\n",
    "**`read_todos`** 도구는 상태에서 할 일 목록을 읽고 `ToolMessage`로 반환합니다. LLM 컨텍스트의 정보를 새로 고치는 데 사용할 수 있습니다.  \n",
    "\n",
    "\n",
    "이 도구들은 이전 강의에서 논의된 기능들을 사용합니다:\n",
    "\n",
    "- 그래프 상태에 대한 도구 접근을 제공하는 `InjectedState`.\n",
    "- 상태 값을 업데이트하는 `Command`.\n"
   ]
  },
  {
   "cell_type": "code",
   "execution_count": 4,
   "id": "2c7a2dd9",
   "metadata": {},
   "outputs": [
    {
     "name": "stdout",
     "output_type": "stream",
     "text": [
      "Overwriting ./src/deep_agents_from_scratch/todo_tools.py\n"
     ]
    }
   ],
   "source": [
    "%%writefile ./src/deep_agents_from_scratch/todo_tools.py\n",
    "\"\"\"작업 계획 및 진행 상황 추적을 위한 TODO 관리 도구.\n",
    "\n",
    "이 모듈은 구조화된 작업 목록을 생성하고 관리하는 도구를 제공하여\n",
    "에이전트가 복잡한 워크플로를 계획하고 다단계 작업을 통해 진행 상황을 추적할 수 있도록 합니다.\n",
    "\"\"\"\n",
    "\n",
    "from typing import Annotated\n",
    "\n",
    "from langchain_core.messages import ToolMessage\n",
    "from langchain_core.tools import InjectedToolCallId, tool\n",
    "from langgraph.prebuilt import InjectedState\n",
    "from langgraph.types import Command\n",
    "\n",
    "from deep_agents_from_scratch.prompts import WRITE_TODOS_DESCRIPTION\n",
    "from deep_agents_from_scratch.state import DeepAgentState, Todo\n",
    "\n",
    "\n",
    "@tool(description=WRITE_TODOS_DESCRIPTION,parse_docstring=True)\n",
    "def write_todos(\n",
    "    todos: list[Todo], tool_call_id: Annotated[str, InjectedToolCallId]\n",
    ") -> Command:\n",
    "    \"\"\"작업 계획 및 추적을 위해 에이전트의 TODO 목록을 생성하거나 업데이트합니다.\n",
    "\n",
    "    Args:\n",
    "        todos: 내용과 상태가 포함된 할 일 항목 목록\n",
    "        tool_call_id: 메시지 응답을 위한 도구 호출 식별자\n",
    "\n",
    "    Returns:\n",
    "        새로운 TODO 목록으로 에이전트 상태를 업데이트하는 명령어\n",
    "    \"\"\"\n",
    "    return Command(\n",
    "        update={\n",
    "            \"todos\": todos,\n",
    "            \"messages\": [\n",
    "                ToolMessage(f\"Updated todo list to {todos}\", tool_call_id=tool_call_id)\n",
    "            ],\n",
    "        }\n",
    "    )\n",
    "\n",
    "\n",
    "@tool(parse_docstring=True)\n",
    "def read_todos(\n",
    "    state: Annotated[DeepAgentState, InjectedState],\n",
    "    tool_call_id: Annotated[str, InjectedToolCallId],\n",
    ") -> str:\n",
    "    \"\"\"에이전트 상태에서 현재 TODO 목록을 읽습니다.\n",
    "\n",
    "    이 도구를 통해 에이전트는 현재 TODO 목록을 조회하고 검토하여\n",
    "    남은 작업에 집중하고 복잡한 워크플로우를 통해 진행 상황을 추적할 수 있습니다.\n",
    "\n",
    "    Args:\n",
    "        state: 현재 TODO 목록을 포함하는 주입된 에이전트 상태\n",
    "        tool_call_id: 메시지 추적을 위한 주입된 도구 호출 식별자\n",
    "\n",
    "    Returns:\n",
    "        현재 TODO 목록의 형식화된 문자열 표현\n",
    "    \"\"\"\n",
    "    todos = state.get(\"todos\", [])\n",
    "    if not todos:\n",
    "        return \"No todos currently in the list.\"\n",
    "\n",
    "    result = \"Current TODO List:\\n\"\n",
    "    for i, todo in enumerate(todos, 1):\n",
    "        status_emoji = {\"pending\": \"⏳\", \"in_progress\": \"🔄\", \"completed\": \"✅\"}\n",
    "        emoji = status_emoji.get(todo[\"status\"], \"❓\")\n",
    "        result += f\"{i}. {emoji} {todo['content']} ({todo['status']})\\n\"\n",
    "\n",
    "    return result.strip()"
   ]
  },
  {
   "cell_type": "markdown",
   "id": "038dca59",
   "metadata": {},
   "source": [
    "### 그래프  \n",
    "\n",
    "첫 번째 강의에서와 마찬가지로 `create_react_agent`를 사용해 에이전트를 구축할 것입니다.  에이전트가 할 일 목록을 활용하도록 만드는 데 집중할 예정입니다. 각 작업 후 할 일 목록을 다시 확인하는 Manus 접근법을 따르며, 위에서 방금 생성한 도구들을 활용할 것입니다."
   ]
  },
  {
   "cell_type": "code",
   "execution_count": 5,
   "id": "7c41f8fb",
   "metadata": {},
   "outputs": [
    {
     "data": {
      "text/html": [
       "<pre style=\"white-space:pre;overflow-x:auto;line-height:normal;font-family:Menlo,'DejaVu Sans Mono',consolas,'Courier New',monospace\"><span style=\"color: #000080; text-decoration-color: #000080\">╭──────────────────────────────────────────────────── </span><span style=\"color: #008000; text-decoration-color: #008000; font-weight: bold\">Prompt</span><span style=\"color: #000080; text-decoration-color: #000080\"> ─────────────────────────────────────────────────────╮</span>\n",
       "<span style=\"color: #000080; text-decoration-color: #000080\">│</span>                                                                                                                 <span style=\"color: #000080; text-decoration-color: #000080\">│</span>\n",
       "<span style=\"color: #000080; text-decoration-color: #000080\">│</span>  사용자의 요청에 따라:                                                                                          <span style=\"color: #000080; text-decoration-color: #000080\">│</span>\n",
       "<span style=\"color: #000080; text-decoration-color: #000080\">│</span>  1. 도구 설명에 따라 사용자 요청 시작 시 write_todos 도구를 사용하여 TODO를 생성합니다.                         <span style=\"color: #000080; text-decoration-color: #000080\">│</span>\n",
       "<span style=\"color: #000080; text-decoration-color: #000080\">│</span>  2. TODO를 완료한 후, read_todos를 사용하여 계획을 상기하기 위해 TODO 목록을 읽습니다.                          <span style=\"color: #000080; text-decoration-color: #000080\">│</span>\n",
       "<span style=\"color: #000080; text-decoration-color: #000080\">│</span>  3. 수행한 작업과 TODO를 성찰합니다.                                                                            <span style=\"color: #000080; text-decoration-color: #000080\">│</span>\n",
       "<span style=\"color: #000080; text-decoration-color: #000080\">│</span>  4. 작업을 완료됨으로 표시하고 다음 TODO로 진행합니다.                                                          <span style=\"color: #000080; text-decoration-color: #000080\">│</span>\n",
       "<span style=\"color: #000080; text-decoration-color: #000080\">│</span>  5. 모든 TODO를 완료할 때까지 이 과정을 계속합니다.                                                             <span style=\"color: #000080; text-decoration-color: #000080\">│</span>\n",
       "<span style=\"color: #000080; text-decoration-color: #000080\">│</span>                                                                                                                 <span style=\"color: #000080; text-decoration-color: #000080\">│</span>\n",
       "<span style=\"color: #000080; text-decoration-color: #000080\">│</span>  중요: 모든 사용자 요청에 대해 항상 TODO 연구 계획을 수립하고 위 지침에 따라 연구를 수행하세요.                 <span style=\"color: #000080; text-decoration-color: #000080\">│</span>\n",
       "<span style=\"color: #000080; text-decoration-color: #000080\">│</span>  중요: 추적해야 할 TODO의 수를 최소화하기 위해 연구 작업을 *단일 TODO*로 묶는 것을 목표로 하세요.               <span style=\"color: #000080; text-decoration-color: #000080\">│</span>\n",
       "<span style=\"color: #000080; text-decoration-color: #000080\">│</span>                                                                                                                 <span style=\"color: #000080; text-decoration-color: #000080\">│</span>\n",
       "<span style=\"color: #000080; text-decoration-color: #000080\">│</span>                                                                                                                 <span style=\"color: #000080; text-decoration-color: #000080\">│</span>\n",
       "<span style=\"color: #000080; text-decoration-color: #000080\">╰─────────────────────────────────────────────────────────────────────────────────────────────────────────────────╯</span>\n",
       "</pre>\n"
      ],
      "text/plain": [
       "\u001b[34m╭─\u001b[0m\u001b[34m───────────────────────────────────────────────────\u001b[0m\u001b[34m \u001b[0m\u001b[1;32mPrompt\u001b[0m\u001b[34m \u001b[0m\u001b[34m────────────────────────────────────────────────────\u001b[0m\u001b[34m─╮\u001b[0m\n",
       "\u001b[34m│\u001b[0m                                                                                                                 \u001b[34m│\u001b[0m\n",
       "\u001b[34m│\u001b[0m  사용자의 요청에 따라:                                                                                          \u001b[34m│\u001b[0m\n",
       "\u001b[34m│\u001b[0m  1. 도구 설명에 따라 사용자 요청 시작 시 write_todos 도구를 사용하여 TODO를 생성합니다.                         \u001b[34m│\u001b[0m\n",
       "\u001b[34m│\u001b[0m  2. TODO를 완료한 후, read_todos를 사용하여 계획을 상기하기 위해 TODO 목록을 읽습니다.                          \u001b[34m│\u001b[0m\n",
       "\u001b[34m│\u001b[0m  3. 수행한 작업과 TODO를 성찰합니다.                                                                            \u001b[34m│\u001b[0m\n",
       "\u001b[34m│\u001b[0m  4. 작업을 완료됨으로 표시하고 다음 TODO로 진행합니다.                                                          \u001b[34m│\u001b[0m\n",
       "\u001b[34m│\u001b[0m  5. 모든 TODO를 완료할 때까지 이 과정을 계속합니다.                                                             \u001b[34m│\u001b[0m\n",
       "\u001b[34m│\u001b[0m                                                                                                                 \u001b[34m│\u001b[0m\n",
       "\u001b[34m│\u001b[0m  중요: 모든 사용자 요청에 대해 항상 TODO 연구 계획을 수립하고 위 지침에 따라 연구를 수행하세요.                 \u001b[34m│\u001b[0m\n",
       "\u001b[34m│\u001b[0m  중요: 추적해야 할 TODO의 수를 최소화하기 위해 연구 작업을 *단일 TODO*로 묶는 것을 목표로 하세요.               \u001b[34m│\u001b[0m\n",
       "\u001b[34m│\u001b[0m                                                                                                                 \u001b[34m│\u001b[0m\n",
       "\u001b[34m│\u001b[0m                                                                                                                 \u001b[34m│\u001b[0m\n",
       "\u001b[34m╰─────────────────────────────────────────────────────────────────────────────────────────────────────────────────╯\u001b[0m\n"
      ]
     },
     "metadata": {},
     "output_type": "display_data"
    }
   ],
   "source": [
    "from deep_agents_from_scratch.prompts import TODO_USAGE_INSTRUCTIONS\n",
    "\n",
    "show_prompt(TODO_USAGE_INSTRUCTIONS)"
   ]
  },
  {
   "cell_type": "code",
   "execution_count": 6,
   "id": "95c0fc53",
   "metadata": {},
   "outputs": [
    {
     "data": {
      "image/png": "[encoded data removed]",
      "text/plain": [
       "<IPython.core.display.Image object>"
      ]
     },
     "metadata": {},
     "output_type": "display_data"
    }
   ],
   "source": [
    "from IPython.display import Image, display\n",
    "from langchain.chat_models import init_chat_model\n",
    "from langchain_core.tools import tool\n",
    "from langgraph.prebuilt import create_react_agent\n",
    "from notebooks.utils import format_messages\n",
    "\n",
    "from deep_agents_from_scratch.prompts import TODO_USAGE_INSTRUCTIONS\n",
    "from deep_agents_from_scratch.state import DeepAgentState\n",
    "from deep_agents_from_scratch.todo_tools import read_todos, write_todos\n",
    "\n",
    "# Mock search result\n",
    "search_result = \"\"\"모델 컨텍스트 프로토콜(MCP)은 Anthropic이 개발한 개방형 표준 프로토콜로, \n",
    "AI 모델과 도구, 데이터베이스, 기타 서비스와 같은 외부 시스템 간의 원활한 통합을 가능하게 합니다. \n",
    "이는 표준화된 통신 계층 역할을 하여 AI 모델이 다양한 출처의 데이터에 일관되고 효율적인 방식으로 접근하고 활용할 수 있도록 합니다. 본질적으로 MCP는 데이터 교환을 위한 통합 언어를 제공함으로써\n",
    "AI 어시스턴트를 외부 서비스에 연결하는 과정을 단순화합니다.\"\"\"\n",
    "\n",
    "\n",
    "# Mock search tool\n",
    "@tool(parse_docstring=True)\n",
    "def web_search(\n",
    "    query: str,\n",
    "):\n",
    "    \"\"\"특정 주제에 대한 정보를 웹에서 검색합니다.\n",
    "\n",
    "    이 도구는 웹 검색을 수행하고 주어진 쿼리에 대한 관련 결과를 반환합니다.\n",
    "    인터넷에서 어떤 주제에 대한 정보를 수집해야 할 때 사용하세요.\n",
    "\n",
    "    Args:\n",
    "        query: 검색 쿼리 문자열. 찾고자 하는 정보에 대해 구체적이고 명확하게 작성하세요.\n",
    "\n",
    "    Returns:\n",
    "        검색 엔진에서 반환된 검색 결과.\n",
    "\n",
    "    Example:\n",
    "        web_search(“의료 분야에서의 머신 러닝 응용”)\n",
    "    \"\"\"\n",
    "    return search_result\n",
    "\n",
    "\n",
    "# Create agent using create_react_agent directly\n",
    "model = init_chat_model(model=\"openai:gpt-4.1-mini\", temperature=0.0)\n",
    "tools = [write_todos, web_search, read_todos]\n",
    "\n",
    "# Add mock research instructions\n",
    "SIMPLE_RESEARCH_INSTRUCTIONS = \"\"\"중요: web_search 도구에 단 한 번만 호출을 수행하고, 해당 도구가 제공하는 결과를 사용하여 사용자의 질문에 답변하십시오.\"\"\"\n",
    "\n",
    "# Create agent\n",
    "agent = create_react_agent(\n",
    "    model,\n",
    "    tools,\n",
    "    prompt=TODO_USAGE_INSTRUCTIONS\n",
    "    + \"\\n\\n\"\n",
    "    + \"=\" * 80\n",
    "    + \"\\n\\n\"\n",
    "    + SIMPLE_RESEARCH_INSTRUCTIONS,\n",
    "    state_schema=DeepAgentState,\n",
    ")\n",
    "\n",
    "# Show the agent\n",
    "display(Image(agent.get_graph(xray=True).draw_mermaid_png()))"
   ]
  },
  {
   "cell_type": "markdown",
   "id": "0f2a042e",
   "metadata": {},
   "source": [
    "상태에 `todos`가 없고 사용자 연구 요청이 있는 상태로 그래프를 시작합니다. "
   ]
  },
  {
   "cell_type": "code",
   "execution_count": 7,
   "id": "3d2648f0",
   "metadata": {},
   "outputs": [
    {
     "data": {
      "text/html": [
       "<pre style=\"white-space:pre;overflow-x:auto;line-height:normal;font-family:Menlo,'DejaVu Sans Mono',consolas,'Courier New',monospace\"><span style=\"color: #000080; text-decoration-color: #000080\">╭─────────────────────────────────────────────────── 🧑 Human ────────────────────────────────────────────────────╮</span>\n",
       "<span style=\"color: #000080; text-decoration-color: #000080\">│</span> 모델 컨텍스트 프로토콜(MCP)에 대한 간략한 요약을 제공해 주세요.                                                 <span style=\"color: #000080; text-decoration-color: #000080\">│</span>\n",
       "<span style=\"color: #000080; text-decoration-color: #000080\">╰─────────────────────────────────────────────────────────────────────────────────────────────────────────────────╯</span>\n",
       "</pre>\n"
      ],
      "text/plain": [
       "\u001b[34m╭─\u001b[0m\u001b[34m──────────────────────────────────────────────────\u001b[0m\u001b[34m 🧑 Human \u001b[0m\u001b[34m───────────────────────────────────────────────────\u001b[0m\u001b[34m─╮\u001b[0m\n",
       "\u001b[34m│\u001b[0m 모델 컨텍스트 프로토콜(MCP)에 대한 간략한 요약을 제공해 주세요.                                                 \u001b[34m│\u001b[0m\n",
       "\u001b[34m╰─────────────────────────────────────────────────────────────────────────────────────────────────────────────────╯\u001b[0m\n"
      ]
     },
     "metadata": {},
     "output_type": "display_data"
    },
    {
     "data": {
      "text/html": [
       "<pre style=\"white-space:pre;overflow-x:auto;line-height:normal;font-family:Menlo,'DejaVu Sans Mono',consolas,'Courier New',monospace\"><span style=\"color: #c0c0c0; text-decoration-color: #c0c0c0\">╭───────────────────────────────────────────────────── 📝 AI ─────────────────────────────────────────────────────╮</span>\n",
       "<span style=\"color: #c0c0c0; text-decoration-color: #c0c0c0\">│</span>                                                                                                                 <span style=\"color: #c0c0c0; text-decoration-color: #c0c0c0\">│</span>\n",
       "<span style=\"color: #c0c0c0; text-decoration-color: #c0c0c0\">│</span>                                                                                                                 <span style=\"color: #c0c0c0; text-decoration-color: #c0c0c0\">│</span>\n",
       "<span style=\"color: #c0c0c0; text-decoration-color: #c0c0c0\">│</span> 🔧 Tool Call: write_todos                                                                                       <span style=\"color: #c0c0c0; text-decoration-color: #c0c0c0\">│</span>\n",
       "<span style=\"color: #c0c0c0; text-decoration-color: #c0c0c0\">│</span>    Args: {                                                                                                      <span style=\"color: #c0c0c0; text-decoration-color: #c0c0c0\">│</span>\n",
       "<span style=\"color: #c0c0c0; text-decoration-color: #c0c0c0\">│</span>   \"todos\": [                                                                                                    <span style=\"color: #c0c0c0; text-decoration-color: #c0c0c0\">│</span>\n",
       "<span style=\"color: #c0c0c0; text-decoration-color: #c0c0c0\">│</span>     {                                                                                                           <span style=\"color: #c0c0c0; text-decoration-color: #c0c0c0\">│</span>\n",
       "<span style=\"color: #c0c0c0; text-decoration-color: #c0c0c0\">│</span>       \"content\": \"모델 컨텍스트 프로토콜(MCP)에 대한 신뢰할 수 있는 최신 정보를 웹에서 검색한다.\",              <span style=\"color: #c0c0c0; text-decoration-color: #c0c0c0\">│</span>\n",
       "<span style=\"color: #c0c0c0; text-decoration-color: #c0c0c0\">│</span>       \"status\": \"pending\"                                                                                       <span style=\"color: #c0c0c0; text-decoration-color: #c0c0c0\">│</span>\n",
       "<span style=\"color: #c0c0c0; text-decoration-color: #c0c0c0\">│</span>     }                                                                                                           <span style=\"color: #c0c0c0; text-decoration-color: #c0c0c0\">│</span>\n",
       "<span style=\"color: #c0c0c0; text-decoration-color: #c0c0c0\">│</span>   ]                                                                                                             <span style=\"color: #c0c0c0; text-decoration-color: #c0c0c0\">│</span>\n",
       "<span style=\"color: #c0c0c0; text-decoration-color: #c0c0c0\">│</span> }                                                                                                               <span style=\"color: #c0c0c0; text-decoration-color: #c0c0c0\">│</span>\n",
       "<span style=\"color: #c0c0c0; text-decoration-color: #c0c0c0\">│</span>    ID: call_9Cf6LPCcxBK1IDTvLzwi2XFY                                                                            <span style=\"color: #c0c0c0; text-decoration-color: #c0c0c0\">│</span>\n",
       "<span style=\"color: #c0c0c0; text-decoration-color: #c0c0c0\">╰─────────────────────────────────────────────────────────────────────────────────────────────────────────────────╯</span>\n",
       "</pre>\n"
      ],
      "text/plain": [
       "\u001b[37m╭─\u001b[0m\u001b[37m────────────────────────────────────────────────────\u001b[0m\u001b[37m 📝 AI \u001b[0m\u001b[37m────────────────────────────────────────────────────\u001b[0m\u001b[37m─╮\u001b[0m\n",
       "\u001b[37m│\u001b[0m                                                                                                                 \u001b[37m│\u001b[0m\n",
       "\u001b[37m│\u001b[0m                                                                                                                 \u001b[37m│\u001b[0m\n",
       "\u001b[37m│\u001b[0m 🔧 Tool Call: write_todos                                                                                       \u001b[37m│\u001b[0m\n",
       "\u001b[37m│\u001b[0m    Args: {                                                                                                      \u001b[37m│\u001b[0m\n",
       "\u001b[37m│\u001b[0m   \"todos\": [                                                                                                    \u001b[37m│\u001b[0m\n",
       "\u001b[37m│\u001b[0m     {                                                                                                           \u001b[37m│\u001b[0m\n",
       "\u001b[37m│\u001b[0m       \"content\": \"모델 컨텍스트 프로토콜(MCP)에 대한 신뢰할 수 있는 최신 정보를 웹에서 검색한다.\",              \u001b[37m│\u001b[0m\n",
       "\u001b[37m│\u001b[0m       \"status\": \"pending\"                                                                                       \u001b[37m│\u001b[0m\n",
       "\u001b[37m│\u001b[0m     }                                                                                                           \u001b[37m│\u001b[0m\n",
       "\u001b[37m│\u001b[0m   ]                                                                                                             \u001b[37m│\u001b[0m\n",
       "\u001b[37m│\u001b[0m }                                                                                                               \u001b[37m│\u001b[0m\n",
       "\u001b[37m│\u001b[0m    ID: call_9Cf6LPCcxBK1IDTvLzwi2XFY                                                                            \u001b[37m│\u001b[0m\n",
       "\u001b[37m╰─────────────────────────────────────────────────────────────────────────────────────────────────────────────────╯\u001b[0m\n"
      ]
     },
     "metadata": {},
     "output_type": "display_data"
    },
    {
     "data": {
      "text/html": [
       "<pre style=\"white-space:pre;overflow-x:auto;line-height:normal;font-family:Menlo,'DejaVu Sans Mono',consolas,'Courier New',monospace\"><span style=\"color: #808000; text-decoration-color: #808000\">╭──────────────────────────────────────────────── 🔧 Tool Output ─────────────────────────────────────────────────╮</span>\n",
       "<span style=\"color: #808000; text-decoration-color: #808000\">│</span> Updated todo list to [{'content': '모델 컨텍스트 프로토콜(MCP)에 대한 신뢰할 수 있는 최신 정보를 웹에서         <span style=\"color: #808000; text-decoration-color: #808000\">│</span>\n",
       "<span style=\"color: #808000; text-decoration-color: #808000\">│</span> 검색한다.', 'status': 'pending'}]                                                                               <span style=\"color: #808000; text-decoration-color: #808000\">│</span>\n",
       "<span style=\"color: #808000; text-decoration-color: #808000\">╰─────────────────────────────────────────────────────────────────────────────────────────────────────────────────╯</span>\n",
       "</pre>\n"
      ],
      "text/plain": [
       "\u001b[33m╭─\u001b[0m\u001b[33m───────────────────────────────────────────────\u001b[0m\u001b[33m 🔧 Tool Output \u001b[0m\u001b[33m────────────────────────────────────────────────\u001b[0m\u001b[33m─╮\u001b[0m\n",
       "\u001b[33m│\u001b[0m Updated todo list to [{'content': '모델 컨텍스트 프로토콜(MCP)에 대한 신뢰할 수 있는 최신 정보를 웹에서         \u001b[33m│\u001b[0m\n",
       "\u001b[33m│\u001b[0m 검색한다.', 'status': 'pending'}]                                                                               \u001b[33m│\u001b[0m\n",
       "\u001b[33m╰─────────────────────────────────────────────────────────────────────────────────────────────────────────────────╯\u001b[0m\n"
      ]
     },
     "metadata": {},
     "output_type": "display_data"
    },
    {
     "data": {
      "text/html": [
       "<pre style=\"white-space:pre;overflow-x:auto;line-height:normal;font-family:Menlo,'DejaVu Sans Mono',consolas,'Courier New',monospace\"><span style=\"color: #c0c0c0; text-decoration-color: #c0c0c0\">╭───────────────────────────────────────────────────── 📝 AI ─────────────────────────────────────────────────────╮</span>\n",
       "<span style=\"color: #c0c0c0; text-decoration-color: #c0c0c0\">│</span>                                                                                                                 <span style=\"color: #c0c0c0; text-decoration-color: #c0c0c0\">│</span>\n",
       "<span style=\"color: #c0c0c0; text-decoration-color: #c0c0c0\">│</span>                                                                                                                 <span style=\"color: #c0c0c0; text-decoration-color: #c0c0c0\">│</span>\n",
       "<span style=\"color: #c0c0c0; text-decoration-color: #c0c0c0\">│</span> 🔧 Tool Call: write_todos                                                                                       <span style=\"color: #c0c0c0; text-decoration-color: #c0c0c0\">│</span>\n",
       "<span style=\"color: #c0c0c0; text-decoration-color: #c0c0c0\">│</span>    Args: {                                                                                                      <span style=\"color: #c0c0c0; text-decoration-color: #c0c0c0\">│</span>\n",
       "<span style=\"color: #c0c0c0; text-decoration-color: #c0c0c0\">│</span>   \"todos\": [                                                                                                    <span style=\"color: #c0c0c0; text-decoration-color: #c0c0c0\">│</span>\n",
       "<span style=\"color: #c0c0c0; text-decoration-color: #c0c0c0\">│</span>     {                                                                                                           <span style=\"color: #c0c0c0; text-decoration-color: #c0c0c0\">│</span>\n",
       "<span style=\"color: #c0c0c0; text-decoration-color: #c0c0c0\">│</span>       \"content\": \"모델 컨텍스트 프로토콜(MCP)에 대한 신뢰할 수 있는 최신 정보를 웹에서 검색한다.\",              <span style=\"color: #c0c0c0; text-decoration-color: #c0c0c0\">│</span>\n",
       "<span style=\"color: #c0c0c0; text-decoration-color: #c0c0c0\">│</span>       \"status\": \"in_progress\"                                                                                   <span style=\"color: #c0c0c0; text-decoration-color: #c0c0c0\">│</span>\n",
       "<span style=\"color: #c0c0c0; text-decoration-color: #c0c0c0\">│</span>     }                                                                                                           <span style=\"color: #c0c0c0; text-decoration-color: #c0c0c0\">│</span>\n",
       "<span style=\"color: #c0c0c0; text-decoration-color: #c0c0c0\">│</span>   ]                                                                                                             <span style=\"color: #c0c0c0; text-decoration-color: #c0c0c0\">│</span>\n",
       "<span style=\"color: #c0c0c0; text-decoration-color: #c0c0c0\">│</span> }                                                                                                               <span style=\"color: #c0c0c0; text-decoration-color: #c0c0c0\">│</span>\n",
       "<span style=\"color: #c0c0c0; text-decoration-color: #c0c0c0\">│</span>    ID: call_D4Lsjm5ZJlLrPTIVoIjLZgSb                                                                            <span style=\"color: #c0c0c0; text-decoration-color: #c0c0c0\">│</span>\n",
       "<span style=\"color: #c0c0c0; text-decoration-color: #c0c0c0\">╰─────────────────────────────────────────────────────────────────────────────────────────────────────────────────╯</span>\n",
       "</pre>\n"
      ],
      "text/plain": [
       "\u001b[37m╭─\u001b[0m\u001b[37m────────────────────────────────────────────────────\u001b[0m\u001b[37m 📝 AI \u001b[0m\u001b[37m────────────────────────────────────────────────────\u001b[0m\u001b[37m─╮\u001b[0m\n",
       "\u001b[37m│\u001b[0m                                                                                                                 \u001b[37m│\u001b[0m\n",
       "\u001b[37m│\u001b[0m                                                                                                                 \u001b[37m│\u001b[0m\n",
       "\u001b[37m│\u001b[0m 🔧 Tool Call: write_todos                                                                                       \u001b[37m│\u001b[0m\n",
       "\u001b[37m│\u001b[0m    Args: {                                                                                                      \u001b[37m│\u001b[0m\n",
       "\u001b[37m│\u001b[0m   \"todos\": [                                                                                                    \u001b[37m│\u001b[0m\n",
       "\u001b[37m│\u001b[0m     {                                                                                                           \u001b[37m│\u001b[0m\n",
       "\u001b[37m│\u001b[0m       \"content\": \"모델 컨텍스트 프로토콜(MCP)에 대한 신뢰할 수 있는 최신 정보를 웹에서 검색한다.\",              \u001b[37m│\u001b[0m\n",
       "\u001b[37m│\u001b[0m       \"status\": \"in_progress\"                                                                                   \u001b[37m│\u001b[0m\n",
       "\u001b[37m│\u001b[0m     }                                                                                                           \u001b[37m│\u001b[0m\n",
       "\u001b[37m│\u001b[0m   ]                                                                                                             \u001b[37m│\u001b[0m\n",
       "\u001b[37m│\u001b[0m }                                                                                                               \u001b[37m│\u001b[0m\n",
       "\u001b[37m│\u001b[0m    ID: call_D4Lsjm5ZJlLrPTIVoIjLZgSb                                                                            \u001b[37m│\u001b[0m\n",
       "\u001b[37m╰─────────────────────────────────────────────────────────────────────────────────────────────────────────────────╯\u001b[0m\n"
      ]
     },
     "metadata": {},
     "output_type": "display_data"
    },
    {
     "data": {
      "text/html": [
       "<pre style=\"white-space:pre;overflow-x:auto;line-height:normal;font-family:Menlo,'DejaVu Sans Mono',consolas,'Courier New',monospace\"><span style=\"color: #808000; text-decoration-color: #808000\">╭──────────────────────────────────────────────── 🔧 Tool Output ─────────────────────────────────────────────────╮</span>\n",
       "<span style=\"color: #808000; text-decoration-color: #808000\">│</span> Updated todo list to [{'content': '모델 컨텍스트 프로토콜(MCP)에 대한 신뢰할 수 있는 최신 정보를 웹에서         <span style=\"color: #808000; text-decoration-color: #808000\">│</span>\n",
       "<span style=\"color: #808000; text-decoration-color: #808000\">│</span> 검색한다.', 'status': 'in_progress'}]                                                                           <span style=\"color: #808000; text-decoration-color: #808000\">│</span>\n",
       "<span style=\"color: #808000; text-decoration-color: #808000\">╰─────────────────────────────────────────────────────────────────────────────────────────────────────────────────╯</span>\n",
       "</pre>\n"
      ],
      "text/plain": [
       "\u001b[33m╭─\u001b[0m\u001b[33m───────────────────────────────────────────────\u001b[0m\u001b[33m 🔧 Tool Output \u001b[0m\u001b[33m────────────────────────────────────────────────\u001b[0m\u001b[33m─╮\u001b[0m\n",
       "\u001b[33m│\u001b[0m Updated todo list to [{'content': '모델 컨텍스트 프로토콜(MCP)에 대한 신뢰할 수 있는 최신 정보를 웹에서         \u001b[33m│\u001b[0m\n",
       "\u001b[33m│\u001b[0m 검색한다.', 'status': 'in_progress'}]                                                                           \u001b[33m│\u001b[0m\n",
       "\u001b[33m╰─────────────────────────────────────────────────────────────────────────────────────────────────────────────────╯\u001b[0m\n"
      ]
     },
     "metadata": {},
     "output_type": "display_data"
    },
    {
     "data": {
      "text/html": [
       "<pre style=\"white-space:pre;overflow-x:auto;line-height:normal;font-family:Menlo,'DejaVu Sans Mono',consolas,'Courier New',monospace\"><span style=\"color: #c0c0c0; text-decoration-color: #c0c0c0\">╭───────────────────────────────────────────────────── 📝 AI ─────────────────────────────────────────────────────╮</span>\n",
       "<span style=\"color: #c0c0c0; text-decoration-color: #c0c0c0\">│</span>                                                                                                                 <span style=\"color: #c0c0c0; text-decoration-color: #c0c0c0\">│</span>\n",
       "<span style=\"color: #c0c0c0; text-decoration-color: #c0c0c0\">│</span>                                                                                                                 <span style=\"color: #c0c0c0; text-decoration-color: #c0c0c0\">│</span>\n",
       "<span style=\"color: #c0c0c0; text-decoration-color: #c0c0c0\">│</span> 🔧 Tool Call: web_search                                                                                        <span style=\"color: #c0c0c0; text-decoration-color: #c0c0c0\">│</span>\n",
       "<span style=\"color: #c0c0c0; text-decoration-color: #c0c0c0\">│</span>    Args: {                                                                                                      <span style=\"color: #c0c0c0; text-decoration-color: #c0c0c0\">│</span>\n",
       "<span style=\"color: #c0c0c0; text-decoration-color: #c0c0c0\">│</span>   \"query\": \"Model Context Protocol MCP\"                                                                         <span style=\"color: #c0c0c0; text-decoration-color: #c0c0c0\">│</span>\n",
       "<span style=\"color: #c0c0c0; text-decoration-color: #c0c0c0\">│</span> }                                                                                                               <span style=\"color: #c0c0c0; text-decoration-color: #c0c0c0\">│</span>\n",
       "<span style=\"color: #c0c0c0; text-decoration-color: #c0c0c0\">│</span>    ID: call_5KGbowWOvzGwhtf8cFSvie0y                                                                            <span style=\"color: #c0c0c0; text-decoration-color: #c0c0c0\">│</span>\n",
       "<span style=\"color: #c0c0c0; text-decoration-color: #c0c0c0\">╰─────────────────────────────────────────────────────────────────────────────────────────────────────────────────╯</span>\n",
       "</pre>\n"
      ],
      "text/plain": [
       "\u001b[37m╭─\u001b[0m\u001b[37m────────────────────────────────────────────────────\u001b[0m\u001b[37m 📝 AI \u001b[0m\u001b[37m────────────────────────────────────────────────────\u001b[0m\u001b[37m─╮\u001b[0m\n",
       "\u001b[37m│\u001b[0m                                                                                                                 \u001b[37m│\u001b[0m\n",
       "\u001b[37m│\u001b[0m                                                                                                                 \u001b[37m│\u001b[0m\n",
       "\u001b[37m│\u001b[0m 🔧 Tool Call: web_search                                                                                        \u001b[37m│\u001b[0m\n",
       "\u001b[37m│\u001b[0m    Args: {                                                                                                      \u001b[37m│\u001b[0m\n",
       "\u001b[37m│\u001b[0m   \"query\": \"Model Context Protocol MCP\"                                                                         \u001b[37m│\u001b[0m\n",
       "\u001b[37m│\u001b[0m }                                                                                                               \u001b[37m│\u001b[0m\n",
       "\u001b[37m│\u001b[0m    ID: call_5KGbowWOvzGwhtf8cFSvie0y                                                                            \u001b[37m│\u001b[0m\n",
       "\u001b[37m╰─────────────────────────────────────────────────────────────────────────────────────────────────────────────────╯\u001b[0m\n"
      ]
     },
     "metadata": {},
     "output_type": "display_data"
    },
    {
     "data": {
      "text/html": [
       "<pre style=\"white-space:pre;overflow-x:auto;line-height:normal;font-family:Menlo,'DejaVu Sans Mono',consolas,'Courier New',monospace\"><span style=\"color: #808000; text-decoration-color: #808000\">╭──────────────────────────────────────────────── 🔧 Tool Output ─────────────────────────────────────────────────╮</span>\n",
       "<span style=\"color: #808000; text-decoration-color: #808000\">│</span> 모델 컨텍스트 프로토콜(MCP)은 Anthropic이 개발한 개방형 표준 프로토콜로,                                        <span style=\"color: #808000; text-decoration-color: #808000\">│</span>\n",
       "<span style=\"color: #808000; text-decoration-color: #808000\">│</span> AI 모델과 도구, 데이터베이스, 기타 서비스와 같은 외부 시스템 간의 원활한 통합을 가능하게 합니다.                <span style=\"color: #808000; text-decoration-color: #808000\">│</span>\n",
       "<span style=\"color: #808000; text-decoration-color: #808000\">│</span> 이는 표준화된 통신 계층 역할을 하여 AI 모델이 다양한 출처의 데이터에 일관되고 효율적인 방식으로 접근하고 활용할 <span style=\"color: #808000; text-decoration-color: #808000\">│</span>\n",
       "<span style=\"color: #808000; text-decoration-color: #808000\">│</span> 수 있도록 합니다. 본질적으로 MCP는 데이터 교환을 위한 통합 언어를 제공함으로써                                  <span style=\"color: #808000; text-decoration-color: #808000\">│</span>\n",
       "<span style=\"color: #808000; text-decoration-color: #808000\">│</span> AI 어시스턴트를 외부 서비스에 연결하는 과정을 단순화합니다.                                                     <span style=\"color: #808000; text-decoration-color: #808000\">│</span>\n",
       "<span style=\"color: #808000; text-decoration-color: #808000\">╰─────────────────────────────────────────────────────────────────────────────────────────────────────────────────╯</span>\n",
       "</pre>\n"
      ],
      "text/plain": [
       "\u001b[33m╭─\u001b[0m\u001b[33m───────────────────────────────────────────────\u001b[0m\u001b[33m 🔧 Tool Output \u001b[0m\u001b[33m────────────────────────────────────────────────\u001b[0m\u001b[33m─╮\u001b[0m\n",
       "\u001b[33m│\u001b[0m 모델 컨텍스트 프로토콜(MCP)은 Anthropic이 개발한 개방형 표준 프로토콜로,                                        \u001b[33m│\u001b[0m\n",
       "\u001b[33m│\u001b[0m AI 모델과 도구, 데이터베이스, 기타 서비스와 같은 외부 시스템 간의 원활한 통합을 가능하게 합니다.                \u001b[33m│\u001b[0m\n",
       "\u001b[33m│\u001b[0m 이는 표준화된 통신 계층 역할을 하여 AI 모델이 다양한 출처의 데이터에 일관되고 효율적인 방식으로 접근하고 활용할 \u001b[33m│\u001b[0m\n",
       "\u001b[33m│\u001b[0m 수 있도록 합니다. 본질적으로 MCP는 데이터 교환을 위한 통합 언어를 제공함으로써                                  \u001b[33m│\u001b[0m\n",
       "\u001b[33m│\u001b[0m AI 어시스턴트를 외부 서비스에 연결하는 과정을 단순화합니다.                                                     \u001b[33m│\u001b[0m\n",
       "\u001b[33m╰─────────────────────────────────────────────────────────────────────────────────────────────────────────────────╯\u001b[0m\n"
      ]
     },
     "metadata": {},
     "output_type": "display_data"
    },
    {
     "data": {
      "text/html": [
       "<pre style=\"white-space:pre;overflow-x:auto;line-height:normal;font-family:Menlo,'DejaVu Sans Mono',consolas,'Courier New',monospace\"><span style=\"color: #c0c0c0; text-decoration-color: #c0c0c0\">╭───────────────────────────────────────────────────── 📝 AI ─────────────────────────────────────────────────────╮</span>\n",
       "<span style=\"color: #c0c0c0; text-decoration-color: #c0c0c0\">│</span>                                                                                                                 <span style=\"color: #c0c0c0; text-decoration-color: #c0c0c0\">│</span>\n",
       "<span style=\"color: #c0c0c0; text-decoration-color: #c0c0c0\">│</span>                                                                                                                 <span style=\"color: #c0c0c0; text-decoration-color: #c0c0c0\">│</span>\n",
       "<span style=\"color: #c0c0c0; text-decoration-color: #c0c0c0\">│</span> 🔧 Tool Call: write_todos                                                                                       <span style=\"color: #c0c0c0; text-decoration-color: #c0c0c0\">│</span>\n",
       "<span style=\"color: #c0c0c0; text-decoration-color: #c0c0c0\">│</span>    Args: {                                                                                                      <span style=\"color: #c0c0c0; text-decoration-color: #c0c0c0\">│</span>\n",
       "<span style=\"color: #c0c0c0; text-decoration-color: #c0c0c0\">│</span>   \"todos\": [                                                                                                    <span style=\"color: #c0c0c0; text-decoration-color: #c0c0c0\">│</span>\n",
       "<span style=\"color: #c0c0c0; text-decoration-color: #c0c0c0\">│</span>     {                                                                                                           <span style=\"color: #c0c0c0; text-decoration-color: #c0c0c0\">│</span>\n",
       "<span style=\"color: #c0c0c0; text-decoration-color: #c0c0c0\">│</span>       \"content\": \"모델 컨텍스트 프로토콜(MCP)에 대한 신뢰할 수 있는 최신 정보를 웹에서 검색한다.\",              <span style=\"color: #c0c0c0; text-decoration-color: #c0c0c0\">│</span>\n",
       "<span style=\"color: #c0c0c0; text-decoration-color: #c0c0c0\">│</span>       \"status\": \"completed\"                                                                                     <span style=\"color: #c0c0c0; text-decoration-color: #c0c0c0\">│</span>\n",
       "<span style=\"color: #c0c0c0; text-decoration-color: #c0c0c0\">│</span>     }                                                                                                           <span style=\"color: #c0c0c0; text-decoration-color: #c0c0c0\">│</span>\n",
       "<span style=\"color: #c0c0c0; text-decoration-color: #c0c0c0\">│</span>   ]                                                                                                             <span style=\"color: #c0c0c0; text-decoration-color: #c0c0c0\">│</span>\n",
       "<span style=\"color: #c0c0c0; text-decoration-color: #c0c0c0\">│</span> }                                                                                                               <span style=\"color: #c0c0c0; text-decoration-color: #c0c0c0\">│</span>\n",
       "<span style=\"color: #c0c0c0; text-decoration-color: #c0c0c0\">│</span>    ID: call_FTeQ384k3irrckrsHndLmkhe                                                                            <span style=\"color: #c0c0c0; text-decoration-color: #c0c0c0\">│</span>\n",
       "<span style=\"color: #c0c0c0; text-decoration-color: #c0c0c0\">╰─────────────────────────────────────────────────────────────────────────────────────────────────────────────────╯</span>\n",
       "</pre>\n"
      ],
      "text/plain": [
       "\u001b[37m╭─\u001b[0m\u001b[37m────────────────────────────────────────────────────\u001b[0m\u001b[37m 📝 AI \u001b[0m\u001b[37m────────────────────────────────────────────────────\u001b[0m\u001b[37m─╮\u001b[0m\n",
       "\u001b[37m│\u001b[0m                                                                                                                 \u001b[37m│\u001b[0m\n",
       "\u001b[37m│\u001b[0m                                                                                                                 \u001b[37m│\u001b[0m\n",
       "\u001b[37m│\u001b[0m 🔧 Tool Call: write_todos                                                                                       \u001b[37m│\u001b[0m\n",
       "\u001b[37m│\u001b[0m    Args: {                                                                                                      \u001b[37m│\u001b[0m\n",
       "\u001b[37m│\u001b[0m   \"todos\": [                                                                                                    \u001b[37m│\u001b[0m\n",
       "\u001b[37m│\u001b[0m     {                                                                                                           \u001b[37m│\u001b[0m\n",
       "\u001b[37m│\u001b[0m       \"content\": \"모델 컨텍스트 프로토콜(MCP)에 대한 신뢰할 수 있는 최신 정보를 웹에서 검색한다.\",              \u001b[37m│\u001b[0m\n",
       "\u001b[37m│\u001b[0m       \"status\": \"completed\"                                                                                     \u001b[37m│\u001b[0m\n",
       "\u001b[37m│\u001b[0m     }                                                                                                           \u001b[37m│\u001b[0m\n",
       "\u001b[37m│\u001b[0m   ]                                                                                                             \u001b[37m│\u001b[0m\n",
       "\u001b[37m│\u001b[0m }                                                                                                               \u001b[37m│\u001b[0m\n",
       "\u001b[37m│\u001b[0m    ID: call_FTeQ384k3irrckrsHndLmkhe                                                                            \u001b[37m│\u001b[0m\n",
       "\u001b[37m╰─────────────────────────────────────────────────────────────────────────────────────────────────────────────────╯\u001b[0m\n"
      ]
     },
     "metadata": {},
     "output_type": "display_data"
    },
    {
     "data": {
      "text/html": [
       "<pre style=\"white-space:pre;overflow-x:auto;line-height:normal;font-family:Menlo,'DejaVu Sans Mono',consolas,'Courier New',monospace\"><span style=\"color: #808000; text-decoration-color: #808000\">╭──────────────────────────────────────────────── 🔧 Tool Output ─────────────────────────────────────────────────╮</span>\n",
       "<span style=\"color: #808000; text-decoration-color: #808000\">│</span> Updated todo list to [{'content': '모델 컨텍스트 프로토콜(MCP)에 대한 신뢰할 수 있는 최신 정보를 웹에서         <span style=\"color: #808000; text-decoration-color: #808000\">│</span>\n",
       "<span style=\"color: #808000; text-decoration-color: #808000\">│</span> 검색한다.', 'status': 'completed'}]                                                                             <span style=\"color: #808000; text-decoration-color: #808000\">│</span>\n",
       "<span style=\"color: #808000; text-decoration-color: #808000\">╰─────────────────────────────────────────────────────────────────────────────────────────────────────────────────╯</span>\n",
       "</pre>\n"
      ],
      "text/plain": [
       "\u001b[33m╭─\u001b[0m\u001b[33m───────────────────────────────────────────────\u001b[0m\u001b[33m 🔧 Tool Output \u001b[0m\u001b[33m────────────────────────────────────────────────\u001b[0m\u001b[33m─╮\u001b[0m\n",
       "\u001b[33m│\u001b[0m Updated todo list to [{'content': '모델 컨텍스트 프로토콜(MCP)에 대한 신뢰할 수 있는 최신 정보를 웹에서         \u001b[33m│\u001b[0m\n",
       "\u001b[33m│\u001b[0m 검색한다.', 'status': 'completed'}]                                                                             \u001b[33m│\u001b[0m\n",
       "\u001b[33m╰─────────────────────────────────────────────────────────────────────────────────────────────────────────────────╯\u001b[0m\n"
      ]
     },
     "metadata": {},
     "output_type": "display_data"
    },
    {
     "data": {
      "text/html": [
       "<pre style=\"white-space:pre;overflow-x:auto;line-height:normal;font-family:Menlo,'DejaVu Sans Mono',consolas,'Courier New',monospace\"><span style=\"color: #c0c0c0; text-decoration-color: #c0c0c0\">╭───────────────────────────────────────────────────── 📝 AI ─────────────────────────────────────────────────────╮</span>\n",
       "<span style=\"color: #c0c0c0; text-decoration-color: #c0c0c0\">│</span> 모델 컨텍스트 프로토콜(MCP)은 Anthropic이 개발한 개방형 표준 프로토콜로, AI 모델과 도구, 데이터베이스, 기타     <span style=\"color: #c0c0c0; text-decoration-color: #c0c0c0\">│</span>\n",
       "<span style=\"color: #c0c0c0; text-decoration-color: #c0c0c0\">│</span> 서비스와 같은 외부 시스템 간의 원활한 통합을 가능하게 합니다. MCP는 표준화된 통신 계층 역할을 하여 AI 모델이    <span style=\"color: #c0c0c0; text-decoration-color: #c0c0c0\">│</span>\n",
       "<span style=\"color: #c0c0c0; text-decoration-color: #c0c0c0\">│</span> 다양한 출처의 데이터에 일관되고 효율적인 방식으로 접근하고 활용할 수 있도록 하며, 데이터 교환을 위한 통합       <span style=\"color: #c0c0c0; text-decoration-color: #c0c0c0\">│</span>\n",
       "<span style=\"color: #c0c0c0; text-decoration-color: #c0c0c0\">│</span> 언어를 제공함으로써 AI 어시스턴트를 외부 서비스에 연결하는 과정을 단순화합니다.                                 <span style=\"color: #c0c0c0; text-decoration-color: #c0c0c0\">│</span>\n",
       "<span style=\"color: #c0c0c0; text-decoration-color: #c0c0c0\">╰─────────────────────────────────────────────────────────────────────────────────────────────────────────────────╯</span>\n",
       "</pre>\n"
      ],
      "text/plain": [
       "\u001b[37m╭─\u001b[0m\u001b[37m────────────────────────────────────────────────────\u001b[0m\u001b[37m 📝 AI \u001b[0m\u001b[37m────────────────────────────────────────────────────\u001b[0m\u001b[37m─╮\u001b[0m\n",
       "\u001b[37m│\u001b[0m 모델 컨텍스트 프로토콜(MCP)은 Anthropic이 개발한 개방형 표준 프로토콜로, AI 모델과 도구, 데이터베이스, 기타     \u001b[37m│\u001b[0m\n",
       "\u001b[37m│\u001b[0m 서비스와 같은 외부 시스템 간의 원활한 통합을 가능하게 합니다. MCP는 표준화된 통신 계층 역할을 하여 AI 모델이    \u001b[37m│\u001b[0m\n",
       "\u001b[37m│\u001b[0m 다양한 출처의 데이터에 일관되고 효율적인 방식으로 접근하고 활용할 수 있도록 하며, 데이터 교환을 위한 통합       \u001b[37m│\u001b[0m\n",
       "\u001b[37m│\u001b[0m 언어를 제공함으로써 AI 어시스턴트를 외부 서비스에 연결하는 과정을 단순화합니다.                                 \u001b[37m│\u001b[0m\n",
       "\u001b[37m╰─────────────────────────────────────────────────────────────────────────────────────────────────────────────────╯\u001b[0m\n"
      ]
     },
     "metadata": {},
     "output_type": "display_data"
    }
   ],
   "source": [
    "# Example usage\n",
    "result = agent.invoke(\n",
    "    {\n",
    "        \"messages\": [\n",
    "            {\n",
    "                \"role\": \"user\",\n",
    "                \"content\": \"모델 컨텍스트 프로토콜(MCP)에 대한 간략한 요약을 제공해 주세요.\",\n",
    "            }\n",
    "        ],\n",
    "        \"todos\": [],\n",
    "    }\n",
    ")\n",
    "\n",
    "format_messages(result[\"messages\"])"
   ]
  },
  {
   "cell_type": "markdown",
   "id": "a1ee40fd",
   "metadata": {},
   "source": [
    "Trace: \n",
    "https://smith.langchain.com/public/7e771e79-8996-4833-8242-2b3559c2c1d7/r\n",
    "<!-- https://smith.langchain.com/public/57e530e5-c3bb-4ed6-aff6-c57d06158fe9/r  -->"
   ]
  },
  {
   "cell_type": "markdown",
   "id": "b8b01e32",
   "metadata": {},
   "source": []
  },
  {
   "cell_type": "code",
   "execution_count": null,
   "id": "50b93063-f081-4ae6-803c-26d12d36aeed",
   "metadata": {},
   "outputs": [],
   "source": []
  }
 ],
 "metadata": {
  "kernelspec": {
   "display_name": "deep-agents-from-scratch",
   "language": "python",
   "name": "python3"
  },
  "language_info": {
   "codemirror_mode": {
    "name": "ipython",
    "version": 3
   },
   "file_extension": ".py",
   "mimetype": "text/x-python",
   "name": "python",
   "nbconvert_exporter": "python",
   "pygments_lexer": "ipython3",
   "version": "3.11.11"
  }
 },
 "nbformat": 4,
 "nbformat_minor": 5
}
