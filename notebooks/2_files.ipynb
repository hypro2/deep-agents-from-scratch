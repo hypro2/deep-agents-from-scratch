{
 "cells": [
  {
   "cell_type": "code",
   "execution_count": 1,
   "id": "8aabb159",
   "metadata": {},
   "outputs": [],
   "source": [
    "import os\n",
    "\n",
    "from dotenv import load_dotenv\n",
    "\n",
    "load_dotenv(os.path.join(\".\", \".env\"), override=True)\n",
    "\n",
    "%load_ext autoreload\n",
    "%autoreload 2"
   ]
  },
  {
   "cell_type": "markdown",
   "id": "78a407e4",
   "metadata": {},
   "source": [
    "## 컨텍스트 오프로딩: 파일 시스템\n",
    "\n",
    "<img src=\"./assets/agent_header_files.png\" width=\"800\" style=\"display:block; margin-left:0;\">\n",
    "\n",
    "복잡한 작업 중에는 에이전트 컨텍스트 창이 급속히 커질 수 있습니다. 평균적인 Manus 작업은 약 50회의 도구 호출을 사용하며, 이로 인해 상당한 양의 컨텍스트가 축적됩니다. 이러한 증가를 관리하는 강력한 기법은 파일 시스템 작업을 통한 **컨텍스트 오프로딩**입니다. 에이전트는 모든 도구 호출 관측값과 중간 결과를 컨텍스트 창에 직접 저장하기보다, 정보를 전략적으로 파일에 저장하고 [필요할 때 불러올 수 있습니다](https://blog.langchain.com/context-engineering-for-agents/). 이를 통해 집중력을 유지하면서 중요한 정보에 대한 접근성을 보존할 수 있습니다.\n",
    "\n",
    "이 접근법은 [Manus](https://manus.im/blog/Context-Engineering-for-AI-Agents-Lessons-from-Building-Manus) 및 [Hugging Face Open Deep Research](https://huggingface.co/blog/open-deep-research)와 같은 생산 시스템에서 성공적으로 구현되었습니다. Anthropic의 [다중 에이전트 연구 시스템](https://www.anthropic.com/engineering/multi-agent-research-system#:~:text=Subagent%20output%20to%20a%20filesystem%20to%20minimize%20the%20%E2%80%98game%20of%20telephone.%E2%80%99)은 또 다른 설득력 있는 사례를 제공합니다. 여기서 서브에이전트는 작업을 외부 시스템에 저장하고 경량 참조를 코디네이터로 전달합니다. 이는 여러 에이전트를 거치며 정보가 왜곡되는 '전화놀이 효과'를 방지하면서, 새로 생성된 서브에이전트가 깨끗한 컨텍스트로 시작하고 필요 시 메모리에서 연구 계획과 같은 저장된 컨텍스트를 검색할 수 있게 합니다.\n",
    "\n",
    "샌드박스 환경에서 토큰 중심 컨텍스트를 파일에 기록함으로써 에이전트는 메모리를 효율적으로 관리하면서도 필요 시 상세 정보를 검색할 수 있는 능력을 유지합니다. 이 패턴은 특히 코드, 보고서, 데이터 시각화와 같은 구조화된 출력물에서 유용합니다. 이러한 경우 일반 조정자를 통한 필터링보다 특수화된 프롬프트가 더 나은 결과를 생성하며, 지속적인 관리 없이 중간 결과를 보존해야 하는 장기 연구 작업에도 적합합니다."
   ]
  },
  {
   "cell_type": "markdown",
   "id": "c9854e27-f800-4563-9ed1-82837039cf97",
   "metadata": {},
   "source": [
    "### 파일 도구\n",
    "\n",
    "본 구현은 LangGraph 상태 내에서 기존 파일 시스템을 모방하는 가상 파일 시스템 방식을 사용합니다. 핵심 개념은 키가 모의 파일 경로를 나타내고 값이 파일 내용을 포함하는 간단한 사전(dictionary)을 활용하는 것입니다. 이 방식은 단일 에이전트 대화 내 컨텍스트 유지에 이상적인 스레드 단위의 단기적 지속성을 제공하지만, 서로 다른 대화 스레드 간에 지속되어야 하는 정보에는 적합하지 않습니다. 파일 작업은 LangGraph의 `Command` 타입을 활용하여 에이전트 상태를 업데이트하므로, 도구가 가상 파일 시스템을 수정하고 에이전트 실행 전반에 걸쳐 적절한 상태 관리를 유지할 수 있습니다.\n",
    "\n",
    "가상 파일 시스템에서 작동하는 세 가지 파일 도구—`ls`, `read_file`, `write_file`—를 구축하게 됩니다.\n",
    "\n",
    "**사용법:** \n",
    "- LLM이 지속하고자 하는 정보를 컨텍스트에 보유할 경우, `write_file`로 파일을 작성합니다. 이후 동일 에이전트나 하위 에이전트가 `read_file`로 해당 정보를 검색할 수 있습니다.\n",
    "- 도구 호출 시 데이터를 파일에 작성하고, 도구 호출 반환 메시지를 통해 LLM에 파일명을 제공할 수 있습니다. LLM은 이후 일부 또는 전체 내용을 읽기로 결정하거나, 데이터를 처리하기 위해 다른 도구를 적용할 수 있습니다.\n",
    "- 사용 가능한 파일 목록을 보려면 `ls`를 사용하세요.\n",
    "\n",
    "읽기/쓰기 도구는 줄바꿈으로 구분된 일반 텍스트(`str.splitlines()`로 파싱됨)를 기대합니다.\n",
    "\n",
    "아래 프롬프트의 설명은 해당 도구들의 작동 방식을 상세히 기술합니다:"
   ]
  },
  {
   "cell_type": "code",
   "execution_count": 2,
   "id": "abe282a0",
   "metadata": {},
   "outputs": [
    {
     "data": {
      "text/html": [
       "<pre style=\"white-space:pre;overflow-x:auto;line-height:normal;font-family:Menlo,'DejaVu Sans Mono',consolas,'Courier New',monospace\"><span style=\"color: #000080; text-decoration-color: #000080\">╭──────────────────────────────────────────────────── </span><span style=\"color: #008000; text-decoration-color: #008000; font-weight: bold\">Prompt</span><span style=\"color: #000080; text-decoration-color: #000080\"> ─────────────────────────────────────────────────────╮</span>\n",
       "<span style=\"color: #000080; text-decoration-color: #000080\">│</span>                                                                                                                 <span style=\"color: #000080; text-decoration-color: #000080\">│</span>\n",
       "<span style=\"color: #000080; text-decoration-color: #000080\">│</span>  에이전트 상태에 저장된 가상 파일 시스템의 모든 파일을 나열합니다.                                              <span style=\"color: #000080; text-decoration-color: #000080\">│</span>\n",
       "<span style=\"color: #000080; text-decoration-color: #000080\">│</span>                                                                                                                 <span style=\"color: #000080; text-decoration-color: #000080\">│</span>\n",
       "<span style=\"color: #000080; text-decoration-color: #000080\">│</span>  현재 에이전트 메모리에 어떤 파일이 있는지 보여줍니다. 다른 파일 작업을 하기 전에 현재 상황을 파악하고 파일     <span style=\"color: #000080; text-decoration-color: #000080\">│</span>\n",
       "<span style=\"color: #000080; text-decoration-color: #000080\">│</span>  구성을 인지하는 데 사용하세요.                                                                                 <span style=\"color: #000080; text-decoration-color: #000080\">│</span>\n",
       "<span style=\"color: #000080; text-decoration-color: #000080\">│</span>                                                                                                                 <span style=\"color: #000080; text-decoration-color: #000080\">│</span>\n",
       "<span style=\"color: #000080; text-decoration-color: #000080\">│</span>  매개변수가 필요 없습니다 - ls()를 호출하기만 하면 사용 가능한 모든 파일을 볼 수 있습니다.                      <span style=\"color: #000080; text-decoration-color: #000080\">│</span>\n",
       "<span style=\"color: #000080; text-decoration-color: #000080\">│</span>                                                                                                                 <span style=\"color: #000080; text-decoration-color: #000080\">│</span>\n",
       "<span style=\"color: #000080; text-decoration-color: #000080\">╰─────────────────────────────────────────────────────────────────────────────────────────────────────────────────╯</span>\n",
       "</pre>\n"
      ],
      "text/plain": [
       "\u001b[34m╭─\u001b[0m\u001b[34m───────────────────────────────────────────────────\u001b[0m\u001b[34m \u001b[0m\u001b[1;32mPrompt\u001b[0m\u001b[34m \u001b[0m\u001b[34m────────────────────────────────────────────────────\u001b[0m\u001b[34m─╮\u001b[0m\n",
       "\u001b[34m│\u001b[0m                                                                                                                 \u001b[34m│\u001b[0m\n",
       "\u001b[34m│\u001b[0m  에이전트 상태에 저장된 가상 파일 시스템의 모든 파일을 나열합니다.                                              \u001b[34m│\u001b[0m\n",
       "\u001b[34m│\u001b[0m                                                                                                                 \u001b[34m│\u001b[0m\n",
       "\u001b[34m│\u001b[0m  현재 에이전트 메모리에 어떤 파일이 있는지 보여줍니다. 다른 파일 작업을 하기 전에 현재 상황을 파악하고 파일     \u001b[34m│\u001b[0m\n",
       "\u001b[34m│\u001b[0m  구성을 인지하는 데 사용하세요.                                                                                 \u001b[34m│\u001b[0m\n",
       "\u001b[34m│\u001b[0m                                                                                                                 \u001b[34m│\u001b[0m\n",
       "\u001b[34m│\u001b[0m  매개변수가 필요 없습니다 - ls()를 호출하기만 하면 사용 가능한 모든 파일을 볼 수 있습니다.                      \u001b[34m│\u001b[0m\n",
       "\u001b[34m│\u001b[0m                                                                                                                 \u001b[34m│\u001b[0m\n",
       "\u001b[34m╰─────────────────────────────────────────────────────────────────────────────────────────────────────────────────╯\u001b[0m\n"
      ]
     },
     "metadata": {},
     "output_type": "display_data"
    }
   ],
   "source": [
    "from notebooks.utils import show_prompt\n",
    "\n",
    "from deep_agents_from_scratch.prompts import (\n",
    "    LS_DESCRIPTION,\n",
    "    READ_FILE_DESCRIPTION,\n",
    "    WRITE_FILE_DESCRIPTION,\n",
    ")\n",
    "\n",
    "show_prompt(LS_DESCRIPTION)"
   ]
  },
  {
   "cell_type": "code",
   "execution_count": 3,
   "id": "8dc7bb26",
   "metadata": {},
   "outputs": [
    {
     "data": {
      "text/html": [
       "<pre style=\"white-space:pre;overflow-x:auto;line-height:normal;font-family:Menlo,'DejaVu Sans Mono',consolas,'Courier New',monospace\"><span style=\"color: #000080; text-decoration-color: #000080\">╭──────────────────────────────────────────────────── </span><span style=\"color: #008000; text-decoration-color: #008000; font-weight: bold\">Prompt</span><span style=\"color: #000080; text-decoration-color: #000080\"> ─────────────────────────────────────────────────────╮</span>\n",
       "<span style=\"color: #000080; text-decoration-color: #000080\">│</span>                                                                                                                 <span style=\"color: #000080; text-decoration-color: #000080\">│</span>\n",
       "<span style=\"color: #000080; text-decoration-color: #000080\">│</span>  가상 파일 시스템의 파일에서 내용을 읽으며, 선택적으로 페이지네이션을 사용합니다.                               <span style=\"color: #000080; text-decoration-color: #000080\">│</span>\n",
       "<span style=\"color: #000080; text-decoration-color: #000080\">│</span>                                                                                                                 <span style=\"color: #000080; text-decoration-color: #000080\">│</span>\n",
       "<span style=\"color: #000080; text-decoration-color: #000080\">│</span>  이 도구는 줄 번호와 함께 파일 내용을 반환하며(`cat -n`과 유사), 컨텍스트 오버플로우를 피하기 위해 큰 파일을    <span style=\"color: #000080; text-decoration-color: #000080\">│</span>\n",
       "<span style=\"color: #000080; text-decoration-color: #000080\">│</span>  청크 단위로 읽는 것을 지원합니다.                                                                              <span style=\"color: #000080; text-decoration-color: #000080\">│</span>\n",
       "<span style=\"color: #000080; text-decoration-color: #000080\">│</span>                                                                                                                 <span style=\"color: #000080; text-decoration-color: #000080\">│</span>\n",
       "<span style=\"color: #000080; text-decoration-color: #000080\">│</span>  매개변수:                                                                                                      <span style=\"color: #000080; text-decoration-color: #000080\">│</span>\n",
       "<span style=\"color: #000080; text-decoration-color: #000080\">│</span>  - file_path (필수): 읽고 싶은 파일의 경로                                                                      <span style=\"color: #000080; text-decoration-color: #000080\">│</span>\n",
       "<span style=\"color: #000080; text-decoration-color: #000080\">│</span>  - offset (선택, 기본값=0): 읽기 시작할 줄 번호                                                                 <span style=\"color: #000080; text-decoration-color: #000080\">│</span>\n",
       "<span style=\"color: #000080; text-decoration-color: #000080\">│</span>  - limit (선택, 기본값=2000): 읽을 최대 줄 수                                                                   <span style=\"color: #000080; text-decoration-color: #000080\">│</span>\n",
       "<span style=\"color: #000080; text-decoration-color: #000080\">│</span>                                                                                                                 <span style=\"color: #000080; text-decoration-color: #000080\">│</span>\n",
       "<span style=\"color: #000080; text-decoration-color: #000080\">│</span>  수정하기 전에 기존 내용을 이해하는 데 필수적입니다. 파일을 편집하기 전에는 항상 읽으세요.                      <span style=\"color: #000080; text-decoration-color: #000080\">│</span>\n",
       "<span style=\"color: #000080; text-decoration-color: #000080\">│</span>                                                                                                                 <span style=\"color: #000080; text-decoration-color: #000080\">│</span>\n",
       "<span style=\"color: #000080; text-decoration-color: #000080\">╰─────────────────────────────────────────────────────────────────────────────────────────────────────────────────╯</span>\n",
       "</pre>\n"
      ],
      "text/plain": [
       "\u001b[34m╭─\u001b[0m\u001b[34m───────────────────────────────────────────────────\u001b[0m\u001b[34m \u001b[0m\u001b[1;32mPrompt\u001b[0m\u001b[34m \u001b[0m\u001b[34m────────────────────────────────────────────────────\u001b[0m\u001b[34m─╮\u001b[0m\n",
       "\u001b[34m│\u001b[0m                                                                                                                 \u001b[34m│\u001b[0m\n",
       "\u001b[34m│\u001b[0m  가상 파일 시스템의 파일에서 내용을 읽으며, 선택적으로 페이지네이션을 사용합니다.                               \u001b[34m│\u001b[0m\n",
       "\u001b[34m│\u001b[0m                                                                                                                 \u001b[34m│\u001b[0m\n",
       "\u001b[34m│\u001b[0m  이 도구는 줄 번호와 함께 파일 내용을 반환하며(`cat -n`과 유사), 컨텍스트 오버플로우를 피하기 위해 큰 파일을    \u001b[34m│\u001b[0m\n",
       "\u001b[34m│\u001b[0m  청크 단위로 읽는 것을 지원합니다.                                                                              \u001b[34m│\u001b[0m\n",
       "\u001b[34m│\u001b[0m                                                                                                                 \u001b[34m│\u001b[0m\n",
       "\u001b[34m│\u001b[0m  매개변수:                                                                                                      \u001b[34m│\u001b[0m\n",
       "\u001b[34m│\u001b[0m  - file_path (필수): 읽고 싶은 파일의 경로                                                                      \u001b[34m│\u001b[0m\n",
       "\u001b[34m│\u001b[0m  - offset (선택, 기본값=0): 읽기 시작할 줄 번호                                                                 \u001b[34m│\u001b[0m\n",
       "\u001b[34m│\u001b[0m  - limit (선택, 기본값=2000): 읽을 최대 줄 수                                                                   \u001b[34m│\u001b[0m\n",
       "\u001b[34m│\u001b[0m                                                                                                                 \u001b[34m│\u001b[0m\n",
       "\u001b[34m│\u001b[0m  수정하기 전에 기존 내용을 이해하는 데 필수적입니다. 파일을 편집하기 전에는 항상 읽으세요.                      \u001b[34m│\u001b[0m\n",
       "\u001b[34m│\u001b[0m                                                                                                                 \u001b[34m│\u001b[0m\n",
       "\u001b[34m╰─────────────────────────────────────────────────────────────────────────────────────────────────────────────────╯\u001b[0m\n"
      ]
     },
     "metadata": {},
     "output_type": "display_data"
    }
   ],
   "source": [
    "show_prompt(READ_FILE_DESCRIPTION)"
   ]
  },
  {
   "cell_type": "code",
   "execution_count": 4,
   "id": "2de27788",
   "metadata": {},
   "outputs": [
    {
     "data": {
      "text/html": [
       "<pre style=\"white-space:pre;overflow-x:auto;line-height:normal;font-family:Menlo,'DejaVu Sans Mono',consolas,'Courier New',monospace\"><span style=\"color: #000080; text-decoration-color: #000080\">╭──────────────────────────────────────────────────── </span><span style=\"color: #008000; text-decoration-color: #008000; font-weight: bold\">Prompt</span><span style=\"color: #000080; text-decoration-color: #000080\"> ─────────────────────────────────────────────────────╮</span>\n",
       "<span style=\"color: #000080; text-decoration-color: #000080\">│</span>                                                                                                                 <span style=\"color: #000080; text-decoration-color: #000080\">│</span>\n",
       "<span style=\"color: #000080; text-decoration-color: #000080\">│</span>  가상 파일 시스템에 새 파일을 생성하거나 기존 파일을 완전히 덮어씁니다.                                         <span style=\"color: #000080; text-decoration-color: #000080\">│</span>\n",
       "<span style=\"color: #000080; text-decoration-color: #000080\">│</span>                                                                                                                 <span style=\"color: #000080; text-decoration-color: #000080\">│</span>\n",
       "<span style=\"color: #000080; text-decoration-color: #000080\">│</span>  이 도구는 새 파일을 만들거나 전체 파일 내용을 교체합니다. 초기 파일 생성이나 전체 재작성에 사용하세요. 파일은  <span style=\"color: #000080; text-decoration-color: #000080\">│</span>\n",
       "<span style=\"color: #000080; text-decoration-color: #000080\">│</span>  에이전트 상태에 영구적으로 저장됩니다.                                                                         <span style=\"color: #000080; text-decoration-color: #000080\">│</span>\n",
       "<span style=\"color: #000080; text-decoration-color: #000080\">│</span>                                                                                                                 <span style=\"color: #000080; text-decoration-color: #000080\">│</span>\n",
       "<span style=\"color: #000080; text-decoration-color: #000080\">│</span>  매개변수:                                                                                                      <span style=\"color: #000080; text-decoration-color: #000080\">│</span>\n",
       "<span style=\"color: #000080; text-decoration-color: #000080\">│</span>  - file_path (필수): 파일을 생성하거나 덮어쓸 경로                                                              <span style=\"color: #000080; text-decoration-color: #000080\">│</span>\n",
       "<span style=\"color: #000080; text-decoration-color: #000080\">│</span>  - content (필수): 파일에 쓸 전체 내용                                                                          <span style=\"color: #000080; text-decoration-color: #000080\">│</span>\n",
       "<span style=\"color: #000080; text-decoration-color: #000080\">│</span>                                                                                                                 <span style=\"color: #000080; text-decoration-color: #000080\">│</span>\n",
       "<span style=\"color: #000080; text-decoration-color: #000080\">│</span>  중요: 이 작업은 파일의 전체 내용을 교체합니다.                                                                 <span style=\"color: #000080; text-decoration-color: #000080\">│</span>\n",
       "<span style=\"color: #000080; text-decoration-color: #000080\">│</span>                                                                                                                 <span style=\"color: #000080; text-decoration-color: #000080\">│</span>\n",
       "<span style=\"color: #000080; text-decoration-color: #000080\">╰─────────────────────────────────────────────────────────────────────────────────────────────────────────────────╯</span>\n",
       "</pre>\n"
      ],
      "text/plain": [
       "\u001b[34m╭─\u001b[0m\u001b[34m───────────────────────────────────────────────────\u001b[0m\u001b[34m \u001b[0m\u001b[1;32mPrompt\u001b[0m\u001b[34m \u001b[0m\u001b[34m────────────────────────────────────────────────────\u001b[0m\u001b[34m─╮\u001b[0m\n",
       "\u001b[34m│\u001b[0m                                                                                                                 \u001b[34m│\u001b[0m\n",
       "\u001b[34m│\u001b[0m  가상 파일 시스템에 새 파일을 생성하거나 기존 파일을 완전히 덮어씁니다.                                         \u001b[34m│\u001b[0m\n",
       "\u001b[34m│\u001b[0m                                                                                                                 \u001b[34m│\u001b[0m\n",
       "\u001b[34m│\u001b[0m  이 도구는 새 파일을 만들거나 전체 파일 내용을 교체합니다. 초기 파일 생성이나 전체 재작성에 사용하세요. 파일은  \u001b[34m│\u001b[0m\n",
       "\u001b[34m│\u001b[0m  에이전트 상태에 영구적으로 저장됩니다.                                                                         \u001b[34m│\u001b[0m\n",
       "\u001b[34m│\u001b[0m                                                                                                                 \u001b[34m│\u001b[0m\n",
       "\u001b[34m│\u001b[0m  매개변수:                                                                                                      \u001b[34m│\u001b[0m\n",
       "\u001b[34m│\u001b[0m  - file_path (필수): 파일을 생성하거나 덮어쓸 경로                                                              \u001b[34m│\u001b[0m\n",
       "\u001b[34m│\u001b[0m  - content (필수): 파일에 쓸 전체 내용                                                                          \u001b[34m│\u001b[0m\n",
       "\u001b[34m│\u001b[0m                                                                                                                 \u001b[34m│\u001b[0m\n",
       "\u001b[34m│\u001b[0m  중요: 이 작업은 파일의 전체 내용을 교체합니다.                                                                 \u001b[34m│\u001b[0m\n",
       "\u001b[34m│\u001b[0m                                                                                                                 \u001b[34m│\u001b[0m\n",
       "\u001b[34m╰─────────────────────────────────────────────────────────────────────────────────────────────────────────────────╯\u001b[0m\n"
      ]
     },
     "metadata": {},
     "output_type": "display_data"
    }
   ],
   "source": [
    "show_prompt(WRITE_FILE_DESCRIPTION)"
   ]
  },
  {
   "cell_type": "markdown",
   "id": "6d581826",
   "metadata": {},
   "source": [
    "아래에서 이 함수들을 구현해 보겠습니다. 두 가지 주목할 점이 있습니다. 첫 번째는 `@tool(description=PROMPT)`의 사용입니다. \n",
    "\n",
    "도구 데코레이터에 `description=“xyz”`가 포함되면 “xyz”가 LLM으로 전송되고 문서 문자열은 생략된다는 점을 유의하세요. \n",
    "\n",
    "긴 설명은 별도의 프롬프트 파일에 두는 것이 더 편리한 경우가 많습니다. 이렇게 하면 도구의 작동 방식과 해당 애플리케이션에서의 사용법을 모두 설명할 공간을 확보할 수 있습니다. \n",
    "\n",
    "두 번째는 오류 메시지입니다. 이 메시지들은 인간 사용자가 아닌 LLM을 대상으로 합니다. 에이전트 시스템에서 LLM은 오류 메시지의 정보를 활용하여 작업을 재시도할 수 있습니다. "
   ]
  },
  {
   "cell_type": "code",
   "execution_count": 5,
   "id": "9b7f3968",
   "metadata": {},
   "outputs": [
    {
     "name": "stdout",
     "output_type": "stream",
     "text": [
      "Overwriting ./src/deep_agents_from_scratch/file_tools.py\n"
     ]
    }
   ],
   "source": [
    "%%writefile ./src/deep_agents_from_scratch/file_tools.py\n",
    "\"\"\"Virtual file system tools for agent state management.\n",
    "\n",
    "This module provides tools for managing a virtual filesystem stored in agent state,\n",
    "enabling context offloading and information persistence across agent interactions.\n",
    "\"\"\"\n",
    "\n",
    "from typing import Annotated\n",
    "\n",
    "from langchain_core.messages import ToolMessage\n",
    "from langchain_core.tools import InjectedToolCallId, tool\n",
    "from langgraph.prebuilt import InjectedState\n",
    "from langgraph.types import Command\n",
    "\n",
    "from deep_agents_from_scratch.prompts import (\n",
    "    LS_DESCRIPTION,\n",
    "    READ_FILE_DESCRIPTION,\n",
    "    WRITE_FILE_DESCRIPTION,\n",
    ")\n",
    "from deep_agents_from_scratch.state import DeepAgentState\n",
    "\n",
    "\n",
    "@tool(description=LS_DESCRIPTION)\n",
    "def ls(state: Annotated[DeepAgentState, InjectedState]) -> list[str]:\n",
    "    \"\"\"List all files in the virtual filesystem.\"\"\"\n",
    "    return list(state.get(\"files\", {}).keys())\n",
    "\n",
    "\n",
    "@tool(description=READ_FILE_DESCRIPTION, parse_docstring=True)\n",
    "def read_file(\n",
    "    file_path: str,\n",
    "    state: Annotated[DeepAgentState, InjectedState],\n",
    "    offset: int = 0,\n",
    "    limit: int = 2000,\n",
    ") -> str:\n",
    "    \"\"\"Read file content from virtual filesystem with optional offset and limit.\n",
    "\n",
    "    Args:\n",
    "        file_path: Path to the file to read\n",
    "        state: Agent state containing virtual filesystem (injected in tool node)\n",
    "        offset: Line number to start reading from (default: 0)\n",
    "        limit: Maximum number of lines to read (default: 2000)\n",
    "\n",
    "    Returns:\n",
    "        Formatted file content with line numbers, or error message if file not found\n",
    "    \"\"\"\n",
    "    files = state.get(\"files\", {})\n",
    "    if file_path not in files:\n",
    "        return f\"Error: File '{file_path}' not found\"\n",
    "\n",
    "    content = files[file_path]\n",
    "    if not content:\n",
    "        return \"System reminder: File exists but has empty contents\"\n",
    "\n",
    "    lines = content.splitlines()\n",
    "    start_idx = offset\n",
    "    end_idx = min(start_idx + limit, len(lines))\n",
    "\n",
    "    if start_idx >= len(lines):\n",
    "        return f\"Error: Line offset {offset} exceeds file length ({len(lines)} lines)\"\n",
    "\n",
    "    result_lines = []\n",
    "    for i in range(start_idx, end_idx):\n",
    "        line_content = lines[i][:2000]  # Truncate long lines\n",
    "        result_lines.append(f\"{i + 1:6d}\\t{line_content}\")\n",
    "\n",
    "    return \"\\n\".join(result_lines)\n",
    "\n",
    "\n",
    "@tool(description=WRITE_FILE_DESCRIPTION, parse_docstring=True)\n",
    "def write_file(\n",
    "    file_path: str,\n",
    "    content: str,\n",
    "    state: Annotated[DeepAgentState, InjectedState],\n",
    "    tool_call_id: Annotated[str, InjectedToolCallId],\n",
    ") -> Command:\n",
    "    \"\"\"Write content to a file in the virtual filesystem.\n",
    "\n",
    "    Args:\n",
    "        file_path: Path where the file should be created/updated\n",
    "        content: Content to write to the file\n",
    "        state: Agent state containing virtual filesystem (injected in tool node)\n",
    "        tool_call_id: Tool call identifier for message response (injected in tool node)\n",
    "\n",
    "    Returns:\n",
    "        Command to update agent state with new file content\n",
    "    \"\"\"\n",
    "    files = state.get(\"files\", {})\n",
    "    files[file_path] = content\n",
    "    return Command(\n",
    "        update={\n",
    "            \"files\": files,\n",
    "            \"messages\": [\n",
    "                ToolMessage(f\"Updated file {file_path}\", tool_call_id=tool_call_id)\n",
    "            ],\n",
    "        }\n",
    "    )"
   ]
  },
  {
   "cell_type": "markdown",
   "id": "d557741d-20c4-434e-b565-0dfd2729f7af",
   "metadata": {},
   "source": [
    "# 상태와 리듀서 재검토\n",
    "이전 노트북에서 파일 상태와 리듀서를 정의했지만 설명하지 않았습니다. 여기서 설명하겠습니다.\n",
    "\n",
    "`DeepAgentState`에서 `files`는 키와 값을 가진 사전으로 정의됩니다.\n",
    "\n",
    " 앞서 언급했듯이 키는 파일명이고 값은 파일 내용입니다. `write_files`의 `Command`가 실행될 때 `file_reducer`를 통해 `files`가 상태에 추가됩니다.\n",
    " \n",
    "  이 리듀서에서 `left`는 상태에 존재하는 기존 파일이고 `right`는 새로운 값입니다. 마지막 문장은 새 값이 기존 값을 덮어쓰도록 허용합니다:\n",
    "  \n",
    "   `{**left, **right}`. Python은 먼저 `left`를 풀고, 그다음 `right`를 풉니다. `right`의 중복 키는 `left`의 이전 값을 덮어씁니다.\n",
    "\n",
    "```python\n",
    "def file_reducer(left, right):\n",
    "    “”\"두 파일 사전(dictionary)을 병합하며, 오른쪽 값이 우선 적용됩니다.\n",
    "\n",
    "    에이전트 상태의 files 필드에 대한 리듀서 함수로 사용되며,\n",
    "    가상 파일 시스템에 대한 증분 업데이트를 가능하게 합니다.\n",
    "\n",
    "    인수:\n",
    "        left: 왼쪽 사전 (기존 파일)\n",
    "        right: 오른쪽 사전 (새/업데이트된 파일)\n",
    "\n",
    "    반환값:\n",
    "        오른쪽 값이 왼쪽 값을 덮어쓴 병합된 사전\n",
    "    “”\"\n",
    "    if left is None:\n",
    "        return right\n",
    "    elif right is None:\n",
    "        return left\n",
    "    else:\n",
    "        return {**left, **right}\n",
    "\n",
    "\n",
    "class DeepAgentState(AgentState):\n",
    "    “”\"작업 추적 및 가상 파일 시스템을 포함하는 확장 에이전트 상태.\n",
    "\n",
    "    LangGraph의 AgentState를 상속하며 다음을 추가합니다:\n",
    "    - todos: 작업 계획 및 진행 상황 추적을 위한 할 일 항목 목록\n",
    "    - files: 파일명을 콘텐츠에 매핑하는 딕셔너리로 저장된 가상 파일 시스템\n",
    "    “”\"\n",
    "\n",
    "    todos: NotRequired[list[Todo]]\n",
    "    files: Annotated[NotRequired[dict[str, str]], file_reducer]\n",
    "```"
   ]
  },
  {
   "cell_type": "markdown",
   "id": "07a0a899",
   "metadata": {},
   "source": [
    "가상 파일 시스템과 이를 다루는 도구를 갖추고 있습니다. 간단한 연구 에이전트를 만들어 테스트해 보겠습니다.\n",
    "이 에이전트는 사용자의 요청을 저장한 후, 사용자의 질문에 답하기 전에 이를 다시 읽어옵니다! \n",
    "\n",
    "이 간단한 접근 방식은 [장기간 실행되는 에이전트 시나리오에서 매우 유용합니다](https://www.anthropic.com/engineering/multi-agent-research-system#:~:text=Long%2Dhorizon%20conversation,across%20extended%20interactions.)! 이 간단한 예시에서는 모든 정보를 컨텍스트에 쉽게 유지할 수 있지만, 장기 실행 에이전트의 경우 컨텍스트 내용을 압축하거나 제거할 수 있습니다. 압축 전 정보를 저장하고 필요할 때 불러오는 것은 스마트한 컨텍스트 엔지니어링입니다."
   ]
  },
  {
   "cell_type": "code",
   "execution_count": 6,
   "id": "b6a1ac50",
   "metadata": {},
   "outputs": [
    {
     "data": {
      "text/html": [
       "<pre style=\"white-space:pre;overflow-x:auto;line-height:normal;font-family:Menlo,'DejaVu Sans Mono',consolas,'Courier New',monospace\"><span style=\"color: #000080; text-decoration-color: #000080\">╭──────────────────────────────────────────────────── </span><span style=\"color: #008000; text-decoration-color: #008000; font-weight: bold\">Prompt</span><span style=\"color: #000080; text-decoration-color: #000080\"> ─────────────────────────────────────────────────────╮</span>\n",
       "<span style=\"color: #000080; text-decoration-color: #000080\">│</span>                                                                                                                 <span style=\"color: #000080; text-decoration-color: #000080\">│</span>\n",
       "<span style=\"color: #000080; text-decoration-color: #000080\">│</span>  가상 파일 시스템에 접근하여 컨텍스트를 유지하고 저장할 수 있습니다.                                            <span style=\"color: #000080; text-decoration-color: #000080\">│</span>\n",
       "<span style=\"color: #000080; text-decoration-color: #000080\">│</span>                                                                                                                 <span style=\"color: #000080; text-decoration-color: #000080\">│</span>\n",
       "<span style=\"color: #000080; text-decoration-color: #000080\">│</span>  <span style=\"color: #800080; text-decoration-color: #800080; font-weight: bold\">## 작업 흐름 프로세스                                                                                        </span>  <span style=\"color: #000080; text-decoration-color: #000080\">│</span>\n",
       "<span style=\"color: #000080; text-decoration-color: #000080\">│</span>  1. **오리엔테이션**: 작업 시작 전 ls()를 사용하여 기존 파일을 확인합니다.                                      <span style=\"color: #000080; text-decoration-color: #000080\">│</span>\n",
       "<span style=\"color: #000080; text-decoration-color: #000080\">│</span>  2. **저장**: 사용자의 요청을 저장하기 위해 write_file()을 사용하여 나중에 사용할 수 있도록 합니다.             <span style=\"color: #000080; text-decoration-color: #000080\">│</span>\n",
       "<span style=\"color: #000080; text-decoration-color: #000080\">│</span>  3. **읽기**: 수집된 자료에 만족하면 저장된 파일을 읽고 이를 활용하여 사용자의 질문에 직접 답변할 수 있도록     <span style=\"color: #000080; text-decoration-color: #000080\">│</span>\n",
       "<span style=\"color: #000080; text-decoration-color: #000080\">│</span>  합니다.                                                                                                        <span style=\"color: #000080; text-decoration-color: #000080\">│</span>\n",
       "<span style=\"color: #000080; text-decoration-color: #000080\">│</span>                                                                                                                 <span style=\"color: #000080; text-decoration-color: #000080\">│</span>\n",
       "<span style=\"color: #000080; text-decoration-color: #000080\">│</span>  ================================================================================                               <span style=\"color: #000080; text-decoration-color: #000080\">│</span>\n",
       "<span style=\"color: #000080; text-decoration-color: #000080\">│</span>                                                                                                                 <span style=\"color: #000080; text-decoration-color: #000080\">│</span>\n",
       "<span style=\"color: #000080; text-decoration-color: #000080\">│</span>  중요: web_search 도구에 단 한 번만 호출을 수행하고, 해당 도구가 제공하는 결과를 사용하여 사용자의 질문에       <span style=\"color: #000080; text-decoration-color: #000080\">│</span>\n",
       "<span style=\"color: #000080; text-decoration-color: #000080\">│</span>  답변하십시오.                                                                                                  <span style=\"color: #000080; text-decoration-color: #000080\">│</span>\n",
       "<span style=\"color: #000080; text-decoration-color: #000080\">│</span>                                                                                                                 <span style=\"color: #000080; text-decoration-color: #000080\">│</span>\n",
       "<span style=\"color: #000080; text-decoration-color: #000080\">╰─────────────────────────────────────────────────────────────────────────────────────────────────────────────────╯</span>\n",
       "</pre>\n"
      ],
      "text/plain": [
       "\u001b[34m╭─\u001b[0m\u001b[34m───────────────────────────────────────────────────\u001b[0m\u001b[34m \u001b[0m\u001b[1;32mPrompt\u001b[0m\u001b[34m \u001b[0m\u001b[34m────────────────────────────────────────────────────\u001b[0m\u001b[34m─╮\u001b[0m\n",
       "\u001b[34m│\u001b[0m                                                                                                                 \u001b[34m│\u001b[0m\n",
       "\u001b[34m│\u001b[0m  가상 파일 시스템에 접근하여 컨텍스트를 유지하고 저장할 수 있습니다.                                            \u001b[34m│\u001b[0m\n",
       "\u001b[34m│\u001b[0m                                                                                                                 \u001b[34m│\u001b[0m\n",
       "\u001b[34m│\u001b[0m  \u001b[1;35m## 작업 흐름 프로세스                                                                                        \u001b[0m  \u001b[34m│\u001b[0m\n",
       "\u001b[34m│\u001b[0m  1. **오리엔테이션**: 작업 시작 전 ls()를 사용하여 기존 파일을 확인합니다.                                      \u001b[34m│\u001b[0m\n",
       "\u001b[34m│\u001b[0m  2. **저장**: 사용자의 요청을 저장하기 위해 write_file()을 사용하여 나중에 사용할 수 있도록 합니다.             \u001b[34m│\u001b[0m\n",
       "\u001b[34m│\u001b[0m  3. **읽기**: 수집된 자료에 만족하면 저장된 파일을 읽고 이를 활용하여 사용자의 질문에 직접 답변할 수 있도록     \u001b[34m│\u001b[0m\n",
       "\u001b[34m│\u001b[0m  합니다.                                                                                                        \u001b[34m│\u001b[0m\n",
       "\u001b[34m│\u001b[0m                                                                                                                 \u001b[34m│\u001b[0m\n",
       "\u001b[34m│\u001b[0m  ================================================================================                               \u001b[34m│\u001b[0m\n",
       "\u001b[34m│\u001b[0m                                                                                                                 \u001b[34m│\u001b[0m\n",
       "\u001b[34m│\u001b[0m  중요: web_search 도구에 단 한 번만 호출을 수행하고, 해당 도구가 제공하는 결과를 사용하여 사용자의 질문에       \u001b[34m│\u001b[0m\n",
       "\u001b[34m│\u001b[0m  답변하십시오.                                                                                                  \u001b[34m│\u001b[0m\n",
       "\u001b[34m│\u001b[0m                                                                                                                 \u001b[34m│\u001b[0m\n",
       "\u001b[34m╰─────────────────────────────────────────────────────────────────────────────────────────────────────────────────╯\u001b[0m\n"
      ]
     },
     "metadata": {},
     "output_type": "display_data"
    }
   ],
   "source": [
    "# File usage instructions\n",
    "FILE_USAGE_INSTRUCTIONS = \"\"\"가상 파일 시스템에 접근하여 컨텍스트를 유지하고 저장할 수 있습니다.                                  \n",
    "                                                                                                                \n",
    "## 작업 흐름 프로세스                                                                                            \n",
    "1. **오리엔테이션**: 작업 시작 전 ls()를 사용하여 기존 파일을 확인합니다.                                             \n",
    "2. **저장**: 사용자의 요청을 저장하기 위해 write_file()을 사용하여 나중에 사용할 수 있도록 합니다.                     \n",
    "3. **읽기**: 수집된 자료에 만족하면 저장된 파일을 읽고 이를 활용하여 사용자의 질문에 직접 답변할 수 있도록 합니다.\"\"\"\n",
    "\n",
    "# Add mock research instructions\n",
    "SIMPLE_RESEARCH_INSTRUCTIONS = \"\"\"중요: web_search 도구에 단 한 번만 호출을 수행하고, 해당 도구가 제공하는 결과를 사용하여 사용자의 질문에 답변하십시오.\"\"\"\n",
    "\n",
    "# Full prompt\n",
    "INSTRUCTIONS = (\n",
    "    FILE_USAGE_INSTRUCTIONS + \"\\n\\n\" + \"=\" * 80 + \"\\n\\n\" + SIMPLE_RESEARCH_INSTRUCTIONS\n",
    ")\n",
    "show_prompt(INSTRUCTIONS)"
   ]
  },
  {
   "cell_type": "code",
   "execution_count": 7,
   "id": "a94f78c4",
   "metadata": {},
   "outputs": [
    {
     "data": {
      "image/png": "[encoded data removed]",
      "text/plain": [
       "<IPython.core.display.Image object>"
      ]
     },
     "metadata": {},
     "output_type": "display_data"
    }
   ],
   "source": [
    "from IPython.display import Image, display\n",
    "from langchain.chat_models import init_chat_model\n",
    "from langchain_core.tools import tool\n",
    "from langgraph.prebuilt import create_react_agent\n",
    "from notebooks.utils import format_messages\n",
    "\n",
    "from deep_agents_from_scratch.file_tools import ls, read_file, write_file\n",
    "from deep_agents_from_scratch.state import DeepAgentState\n",
    "\n",
    "# Mock search result\n",
    "search_result = \"\"\"모델 컨텍스트 프로토콜(MCP)은 Anthropic이 개발한 개방형 표준 프로토콜로, \n",
    "AI 모델과 도구, 데이터베이스, 기타 서비스와 같은 외부 시스템 간의 원활한 통합을 가능하게 합니다. \n",
    "이는 표준화된 통신 계층 역할을 하여 AI 모델이 다양한 출처의 데이터에 일관되고 효율적인 방식으로 접근하고 활용할 수 있도록 합니다. 본질적으로 MCP는 데이터 교환을 위한 통합 언어를 제공함으로써\n",
    "AI 어시스턴트를 외부 서비스에 연결하는 과정을 단순화합니다.  \"\"\"\n",
    "\n",
    "\n",
    "# Mock search tool\n",
    "@tool(parse_docstring=True)\n",
    "def web_search(\n",
    "    query: str,\n",
    "):\n",
    "    \"\"\"특정 주제에 대한 정보를 웹에서 검색합니다.\n",
    "\n",
    "    이 도구는 웹 검색을 수행하고 주어진 쿼리에 대한 관련 결과를 반환합니다.\n",
    "    인터넷에서 어떤 주제에 대한 정보를 수집해야 할 때 사용하세요.\n",
    "\n",
    "    Args:\n",
    "        query: 검색 쿼리 문자열. 찾고자 하는 정보에 대해 구체적이고 명확하게 작성하세요.\n",
    "\n",
    "    Returns:\n",
    "        검색 엔진에서 반환된 검색 결과.\n",
    "\n",
    "    Example:\n",
    "        web_search(“의료 분야에서의 머신 러닝 응용”)\n",
    "    \"\"\"\n",
    "    return search_result\n",
    "\n",
    "\n",
    "# Create agent using create_react_agent directly\n",
    "model = init_chat_model(model=\"openai:gpt-5-nano\", temperature=0.0)\n",
    "tools = [ls, read_file, write_file, web_search]\n",
    "\n",
    "# Create agent with system prompt\n",
    "agent = create_react_agent(\n",
    "    model, tools, prompt=INSTRUCTIONS, state_schema=DeepAgentState\n",
    ")\n",
    "\n",
    "# Show the agent\n",
    "display(Image(agent.get_graph(xray=True).draw_mermaid_png()))"
   ]
  },
  {
   "cell_type": "markdown",
   "id": "7054ebcc",
   "metadata": {},
   "source": [
    "Start the graph with no `files` in state and an user research request. "
   ]
  },
  {
   "cell_type": "code",
   "execution_count": 8,
   "id": "c3e90ac0",
   "metadata": {},
   "outputs": [
    {
     "data": {
      "text/html": [
       "<pre style=\"white-space:pre;overflow-x:auto;line-height:normal;font-family:Menlo,'DejaVu Sans Mono',consolas,'Courier New',monospace\"><span style=\"color: #000080; text-decoration-color: #000080\">╭─────────────────────────────────────────────────── 🧑 Human ────────────────────────────────────────────────────╮</span>\n",
       "<span style=\"color: #000080; text-decoration-color: #000080\">│</span> 모델 컨텍스트 프로토콜(MCP)에 대한 개요를 설명해 주세요.                                                        <span style=\"color: #000080; text-decoration-color: #000080\">│</span>\n",
       "<span style=\"color: #000080; text-decoration-color: #000080\">╰─────────────────────────────────────────────────────────────────────────────────────────────────────────────────╯</span>\n",
       "</pre>\n"
      ],
      "text/plain": [
       "\u001b[34m╭─\u001b[0m\u001b[34m──────────────────────────────────────────────────\u001b[0m\u001b[34m 🧑 Human \u001b[0m\u001b[34m───────────────────────────────────────────────────\u001b[0m\u001b[34m─╮\u001b[0m\n",
       "\u001b[34m│\u001b[0m 모델 컨텍스트 프로토콜(MCP)에 대한 개요를 설명해 주세요.                                                        \u001b[34m│\u001b[0m\n",
       "\u001b[34m╰─────────────────────────────────────────────────────────────────────────────────────────────────────────────────╯\u001b[0m\n"
      ]
     },
     "metadata": {},
     "output_type": "display_data"
    },
    {
     "data": {
      "text/html": [
       "<pre style=\"white-space:pre;overflow-x:auto;line-height:normal;font-family:Menlo,'DejaVu Sans Mono',consolas,'Courier New',monospace\"><span style=\"color: #c0c0c0; text-decoration-color: #c0c0c0\">╭───────────────────────────────────────────────────── 📝 AI ─────────────────────────────────────────────────────╮</span>\n",
       "<span style=\"color: #c0c0c0; text-decoration-color: #c0c0c0\">│</span>                                                                                                                 <span style=\"color: #c0c0c0; text-decoration-color: #c0c0c0\">│</span>\n",
       "<span style=\"color: #c0c0c0; text-decoration-color: #c0c0c0\">│</span>                                                                                                                 <span style=\"color: #c0c0c0; text-decoration-color: #c0c0c0\">│</span>\n",
       "<span style=\"color: #c0c0c0; text-decoration-color: #c0c0c0\">│</span> 🔧 Tool Call: ls                                                                                                <span style=\"color: #c0c0c0; text-decoration-color: #c0c0c0\">│</span>\n",
       "<span style=\"color: #c0c0c0; text-decoration-color: #c0c0c0\">│</span>    Args: {}                                                                                                     <span style=\"color: #c0c0c0; text-decoration-color: #c0c0c0\">│</span>\n",
       "<span style=\"color: #c0c0c0; text-decoration-color: #c0c0c0\">│</span>    ID: call_S22j3U4TxEq8p7QFmY3UB0Y4                                                                            <span style=\"color: #c0c0c0; text-decoration-color: #c0c0c0\">│</span>\n",
       "<span style=\"color: #c0c0c0; text-decoration-color: #c0c0c0\">╰─────────────────────────────────────────────────────────────────────────────────────────────────────────────────╯</span>\n",
       "</pre>\n"
      ],
      "text/plain": [
       "\u001b[37m╭─\u001b[0m\u001b[37m────────────────────────────────────────────────────\u001b[0m\u001b[37m 📝 AI \u001b[0m\u001b[37m────────────────────────────────────────────────────\u001b[0m\u001b[37m─╮\u001b[0m\n",
       "\u001b[37m│\u001b[0m                                                                                                                 \u001b[37m│\u001b[0m\n",
       "\u001b[37m│\u001b[0m                                                                                                                 \u001b[37m│\u001b[0m\n",
       "\u001b[37m│\u001b[0m 🔧 Tool Call: ls                                                                                                \u001b[37m│\u001b[0m\n",
       "\u001b[37m│\u001b[0m    Args: {}                                                                                                     \u001b[37m│\u001b[0m\n",
       "\u001b[37m│\u001b[0m    ID: call_S22j3U4TxEq8p7QFmY3UB0Y4                                                                            \u001b[37m│\u001b[0m\n",
       "\u001b[37m╰─────────────────────────────────────────────────────────────────────────────────────────────────────────────────╯\u001b[0m\n"
      ]
     },
     "metadata": {},
     "output_type": "display_data"
    },
    {
     "data": {
      "text/html": [
       "<pre style=\"white-space:pre;overflow-x:auto;line-height:normal;font-family:Menlo,'DejaVu Sans Mono',consolas,'Courier New',monospace\"><span style=\"color: #808000; text-decoration-color: #808000\">╭──────────────────────────────────────────────── 🔧 Tool Output ─────────────────────────────────────────────────╮</span>\n",
       "<span style=\"color: #808000; text-decoration-color: #808000\">│</span>                                                                                                                 <span style=\"color: #808000; text-decoration-color: #808000\">│</span>\n",
       "<span style=\"color: #808000; text-decoration-color: #808000\">╰─────────────────────────────────────────────────────────────────────────────────────────────────────────────────╯</span>\n",
       "</pre>\n"
      ],
      "text/plain": [
       "\u001b[33m╭─\u001b[0m\u001b[33m───────────────────────────────────────────────\u001b[0m\u001b[33m 🔧 Tool Output \u001b[0m\u001b[33m────────────────────────────────────────────────\u001b[0m\u001b[33m─╮\u001b[0m\n",
       "\u001b[33m│\u001b[0m                                                                                                                 \u001b[33m│\u001b[0m\n",
       "\u001b[33m╰─────────────────────────────────────────────────────────────────────────────────────────────────────────────────╯\u001b[0m\n"
      ]
     },
     "metadata": {},
     "output_type": "display_data"
    },
    {
     "data": {
      "text/html": [
       "<pre style=\"white-space:pre;overflow-x:auto;line-height:normal;font-family:Menlo,'DejaVu Sans Mono',consolas,'Courier New',monospace\"><span style=\"color: #c0c0c0; text-decoration-color: #c0c0c0\">╭───────────────────────────────────────────────────── 📝 AI ─────────────────────────────────────────────────────╮</span>\n",
       "<span style=\"color: #c0c0c0; text-decoration-color: #c0c0c0\">│</span>                                                                                                                 <span style=\"color: #c0c0c0; text-decoration-color: #c0c0c0\">│</span>\n",
       "<span style=\"color: #c0c0c0; text-decoration-color: #c0c0c0\">│</span>                                                                                                                 <span style=\"color: #c0c0c0; text-decoration-color: #c0c0c0\">│</span>\n",
       "<span style=\"color: #c0c0c0; text-decoration-color: #c0c0c0\">│</span> 🔧 Tool Call: write_file                                                                                        <span style=\"color: #c0c0c0; text-decoration-color: #c0c0c0\">│</span>\n",
       "<span style=\"color: #c0c0c0; text-decoration-color: #c0c0c0\">│</span>    Args: {                                                                                                      <span style=\"color: #c0c0c0; text-decoration-color: #c0c0c0\">│</span>\n",
       "<span style=\"color: #c0c0c0; text-decoration-color: #c0c0c0\">│</span>   \"file_path\": \"mcp_request.txt\",                                                                               <span style=\"color: #c0c0c0; text-decoration-color: #c0c0c0\">│</span>\n",
       "<span style=\"color: #c0c0c0; text-decoration-color: #c0c0c0\">│</span>   \"content\": \"모델 컨텍스트 프로토콜(MCP)에 대한 개요를 설명해 주세요.\"                                         <span style=\"color: #c0c0c0; text-decoration-color: #c0c0c0\">│</span>\n",
       "<span style=\"color: #c0c0c0; text-decoration-color: #c0c0c0\">│</span> }                                                                                                               <span style=\"color: #c0c0c0; text-decoration-color: #c0c0c0\">│</span>\n",
       "<span style=\"color: #c0c0c0; text-decoration-color: #c0c0c0\">│</span>    ID: call_sXGgjfCdhRYboKnXkyD8uvAL                                                                            <span style=\"color: #c0c0c0; text-decoration-color: #c0c0c0\">│</span>\n",
       "<span style=\"color: #c0c0c0; text-decoration-color: #c0c0c0\">╰─────────────────────────────────────────────────────────────────────────────────────────────────────────────────╯</span>\n",
       "</pre>\n"
      ],
      "text/plain": [
       "\u001b[37m╭─\u001b[0m\u001b[37m────────────────────────────────────────────────────\u001b[0m\u001b[37m 📝 AI \u001b[0m\u001b[37m────────────────────────────────────────────────────\u001b[0m\u001b[37m─╮\u001b[0m\n",
       "\u001b[37m│\u001b[0m                                                                                                                 \u001b[37m│\u001b[0m\n",
       "\u001b[37m│\u001b[0m                                                                                                                 \u001b[37m│\u001b[0m\n",
       "\u001b[37m│\u001b[0m 🔧 Tool Call: write_file                                                                                        \u001b[37m│\u001b[0m\n",
       "\u001b[37m│\u001b[0m    Args: {                                                                                                      \u001b[37m│\u001b[0m\n",
       "\u001b[37m│\u001b[0m   \"file_path\": \"mcp_request.txt\",                                                                               \u001b[37m│\u001b[0m\n",
       "\u001b[37m│\u001b[0m   \"content\": \"모델 컨텍스트 프로토콜(MCP)에 대한 개요를 설명해 주세요.\"                                         \u001b[37m│\u001b[0m\n",
       "\u001b[37m│\u001b[0m }                                                                                                               \u001b[37m│\u001b[0m\n",
       "\u001b[37m│\u001b[0m    ID: call_sXGgjfCdhRYboKnXkyD8uvAL                                                                            \u001b[37m│\u001b[0m\n",
       "\u001b[37m╰─────────────────────────────────────────────────────────────────────────────────────────────────────────────────╯\u001b[0m\n"
      ]
     },
     "metadata": {},
     "output_type": "display_data"
    },
    {
     "data": {
      "text/html": [
       "<pre style=\"white-space:pre;overflow-x:auto;line-height:normal;font-family:Menlo,'DejaVu Sans Mono',consolas,'Courier New',monospace\"><span style=\"color: #808000; text-decoration-color: #808000\">╭──────────────────────────────────────────────── 🔧 Tool Output ─────────────────────────────────────────────────╮</span>\n",
       "<span style=\"color: #808000; text-decoration-color: #808000\">│</span> Updated file mcp_request.txt                                                                                    <span style=\"color: #808000; text-decoration-color: #808000\">│</span>\n",
       "<span style=\"color: #808000; text-decoration-color: #808000\">╰─────────────────────────────────────────────────────────────────────────────────────────────────────────────────╯</span>\n",
       "</pre>\n"
      ],
      "text/plain": [
       "\u001b[33m╭─\u001b[0m\u001b[33m───────────────────────────────────────────────\u001b[0m\u001b[33m 🔧 Tool Output \u001b[0m\u001b[33m────────────────────────────────────────────────\u001b[0m\u001b[33m─╮\u001b[0m\n",
       "\u001b[33m│\u001b[0m Updated file mcp_request.txt                                                                                    \u001b[33m│\u001b[0m\n",
       "\u001b[33m╰─────────────────────────────────────────────────────────────────────────────────────────────────────────────────╯\u001b[0m\n"
      ]
     },
     "metadata": {},
     "output_type": "display_data"
    },
    {
     "data": {
      "text/html": [
       "<pre style=\"white-space:pre;overflow-x:auto;line-height:normal;font-family:Menlo,'DejaVu Sans Mono',consolas,'Courier New',monospace\"><span style=\"color: #c0c0c0; text-decoration-color: #c0c0c0\">╭───────────────────────────────────────────────────── 📝 AI ─────────────────────────────────────────────────────╮</span>\n",
       "<span style=\"color: #c0c0c0; text-decoration-color: #c0c0c0\">│</span>                                                                                                                 <span style=\"color: #c0c0c0; text-decoration-color: #c0c0c0\">│</span>\n",
       "<span style=\"color: #c0c0c0; text-decoration-color: #c0c0c0\">│</span>                                                                                                                 <span style=\"color: #c0c0c0; text-decoration-color: #c0c0c0\">│</span>\n",
       "<span style=\"color: #c0c0c0; text-decoration-color: #c0c0c0\">│</span> 🔧 Tool Call: read_file                                                                                         <span style=\"color: #c0c0c0; text-decoration-color: #c0c0c0\">│</span>\n",
       "<span style=\"color: #c0c0c0; text-decoration-color: #c0c0c0\">│</span>    Args: {                                                                                                      <span style=\"color: #c0c0c0; text-decoration-color: #c0c0c0\">│</span>\n",
       "<span style=\"color: #c0c0c0; text-decoration-color: #c0c0c0\">│</span>   \"file_path\": \"mcp_request.txt\",                                                                               <span style=\"color: #c0c0c0; text-decoration-color: #c0c0c0\">│</span>\n",
       "<span style=\"color: #c0c0c0; text-decoration-color: #c0c0c0\">│</span>   \"offset\": 0,                                                                                                  <span style=\"color: #c0c0c0; text-decoration-color: #c0c0c0\">│</span>\n",
       "<span style=\"color: #c0c0c0; text-decoration-color: #c0c0c0\">│</span>   \"limit\": 2000                                                                                                 <span style=\"color: #c0c0c0; text-decoration-color: #c0c0c0\">│</span>\n",
       "<span style=\"color: #c0c0c0; text-decoration-color: #c0c0c0\">│</span> }                                                                                                               <span style=\"color: #c0c0c0; text-decoration-color: #c0c0c0\">│</span>\n",
       "<span style=\"color: #c0c0c0; text-decoration-color: #c0c0c0\">│</span>    ID: call_hKwRAyzZBEnjW1iLdgc7Yc1g                                                                            <span style=\"color: #c0c0c0; text-decoration-color: #c0c0c0\">│</span>\n",
       "<span style=\"color: #c0c0c0; text-decoration-color: #c0c0c0\">╰─────────────────────────────────────────────────────────────────────────────────────────────────────────────────╯</span>\n",
       "</pre>\n"
      ],
      "text/plain": [
       "\u001b[37m╭─\u001b[0m\u001b[37m────────────────────────────────────────────────────\u001b[0m\u001b[37m 📝 AI \u001b[0m\u001b[37m────────────────────────────────────────────────────\u001b[0m\u001b[37m─╮\u001b[0m\n",
       "\u001b[37m│\u001b[0m                                                                                                                 \u001b[37m│\u001b[0m\n",
       "\u001b[37m│\u001b[0m                                                                                                                 \u001b[37m│\u001b[0m\n",
       "\u001b[37m│\u001b[0m 🔧 Tool Call: read_file                                                                                         \u001b[37m│\u001b[0m\n",
       "\u001b[37m│\u001b[0m    Args: {                                                                                                      \u001b[37m│\u001b[0m\n",
       "\u001b[37m│\u001b[0m   \"file_path\": \"mcp_request.txt\",                                                                               \u001b[37m│\u001b[0m\n",
       "\u001b[37m│\u001b[0m   \"offset\": 0,                                                                                                  \u001b[37m│\u001b[0m\n",
       "\u001b[37m│\u001b[0m   \"limit\": 2000                                                                                                 \u001b[37m│\u001b[0m\n",
       "\u001b[37m│\u001b[0m }                                                                                                               \u001b[37m│\u001b[0m\n",
       "\u001b[37m│\u001b[0m    ID: call_hKwRAyzZBEnjW1iLdgc7Yc1g                                                                            \u001b[37m│\u001b[0m\n",
       "\u001b[37m╰─────────────────────────────────────────────────────────────────────────────────────────────────────────────────╯\u001b[0m\n"
      ]
     },
     "metadata": {},
     "output_type": "display_data"
    },
    {
     "data": {
      "text/html": [
       "<pre style=\"white-space:pre;overflow-x:auto;line-height:normal;font-family:Menlo,'DejaVu Sans Mono',consolas,'Courier New',monospace\"><span style=\"color: #808000; text-decoration-color: #808000\">╭──────────────────────────────────────────────── 🔧 Tool Output ─────────────────────────────────────────────────╮</span>\n",
       "<span style=\"color: #808000; text-decoration-color: #808000\">│</span>      1  모델 컨텍스트 프로토콜(MCP)에 대한 개요를 설명해 주세요.                                                <span style=\"color: #808000; text-decoration-color: #808000\">│</span>\n",
       "<span style=\"color: #808000; text-decoration-color: #808000\">╰─────────────────────────────────────────────────────────────────────────────────────────────────────────────────╯</span>\n",
       "</pre>\n"
      ],
      "text/plain": [
       "\u001b[33m╭─\u001b[0m\u001b[33m───────────────────────────────────────────────\u001b[0m\u001b[33m 🔧 Tool Output \u001b[0m\u001b[33m────────────────────────────────────────────────\u001b[0m\u001b[33m─╮\u001b[0m\n",
       "\u001b[33m│\u001b[0m      1  모델 컨텍스트 프로토콜(MCP)에 대한 개요를 설명해 주세요.                                                \u001b[33m│\u001b[0m\n",
       "\u001b[33m╰─────────────────────────────────────────────────────────────────────────────────────────────────────────────────╯\u001b[0m\n"
      ]
     },
     "metadata": {},
     "output_type": "display_data"
    },
    {
     "data": {
      "text/html": [
       "<pre style=\"white-space:pre;overflow-x:auto;line-height:normal;font-family:Menlo,'DejaVu Sans Mono',consolas,'Courier New',monospace\"><span style=\"color: #c0c0c0; text-decoration-color: #c0c0c0\">╭───────────────────────────────────────────────────── 📝 AI ─────────────────────────────────────────────────────╮</span>\n",
       "<span style=\"color: #c0c0c0; text-decoration-color: #c0c0c0\">│</span> 다음은 모델 컨텍스트 프로토콜(MCP)에 대한 일반적이고 포괄적인 개요입니다. 이는 여러 맥락에서 적용 가능한 개념적 <span style=\"color: #c0c0c0; text-decoration-color: #c0c0c0\">│</span>\n",
       "<span style=\"color: #c0c0c0; text-decoration-color: #c0c0c0\">│</span> 프레임으로, 특정 표준이 아니라 설계 가이드로 이해하시면 좋습니다. 필요에 따라 도메인에 맞춰 구체화할 수         <span style=\"color: #c0c0c0; text-decoration-color: #c0c0c0\">│</span>\n",
       "<span style=\"color: #c0c0c0; text-decoration-color: #c0c0c0\">│</span> 있습니다.                                                                                                       <span style=\"color: #c0c0c0; text-decoration-color: #c0c0c0\">│</span>\n",
       "<span style=\"color: #c0c0c0; text-decoration-color: #c0c0c0\">│</span>                                                                                                                 <span style=\"color: #c0c0c0; text-decoration-color: #c0c0c0\">│</span>\n",
       "<span style=\"color: #c0c0c0; text-decoration-color: #c0c0c0\">│</span> - MCP의 의의                                                                                                    <span style=\"color: #c0c0c0; text-decoration-color: #c0c0c0\">│</span>\n",
       "<span style=\"color: #c0c0c0; text-decoration-color: #c0c0c0\">│</span>   - 모델이 처리하는 맥락(context)을 체계적으로 수집, 저장, 관리하고 필요 시 안정적으로 적용하기 위한 표준화된   <span style=\"color: #c0c0c0; text-decoration-color: #c0c0c0\">│</span>\n",
       "<span style=\"color: #c0c0c0; text-decoration-color: #c0c0c0\">│</span> 프레임워크.                                                                                                     <span style=\"color: #c0c0c0; text-decoration-color: #c0c0c0\">│</span>\n",
       "<span style=\"color: #c0c0c0; text-decoration-color: #c0c0c0\">│</span>   - 대화의 일관성, 사용자 맞춤성, 안전성, 재현성 등을 높이기 위한 맥락 관리 원칙을 제공합니다.                  <span style=\"color: #c0c0c0; text-decoration-color: #c0c0c0\">│</span>\n",
       "<span style=\"color: #c0c0c0; text-decoration-color: #c0c0c0\">│</span>                                                                                                                 <span style=\"color: #c0c0c0; text-decoration-color: #c0c0c0\">│</span>\n",
       "<span style=\"color: #c0c0c0; text-decoration-color: #c0c0c0\">│</span> - 핵심 구성 개념                                                                                                <span style=\"color: #c0c0c0; text-decoration-color: #c0c0c0\">│</span>\n",
       "<span style=\"color: #c0c0c0; text-decoration-color: #c0c0c0\">│</span>   - 맥락 범위: 단기 대화 맥락, 사용자 프로파일, 도메인 지식, 외부 데이터 소스 등 다양한 맥락 소스의 조합 관리.  <span style=\"color: #c0c0c0; text-decoration-color: #c0c0c0\">│</span>\n",
       "<span style=\"color: #c0c0c0; text-decoration-color: #c0c0c0\">│</span>   - 맥락 소스: 사용자 프롬프트, 시스템 프롬프트, 데이터베이스/지식 베이스, 도구의 출력, 임베딩 및 검색 결과 등. <span style=\"color: #c0c0c0; text-decoration-color: #c0c0c0\">│</span>\n",
       "<span style=\"color: #c0c0c0; text-decoration-color: #c0c0c0\">│</span>   - 맥락 인코딩과 저장: 텍스트 토큰화, 임베딩, 정보를 압축하거나 구조화된 블록으로 저장.                        <span style=\"color: #c0c0c0; text-decoration-color: #c0c0c0\">│</span>\n",
       "<span style=\"color: #c0c0c0; text-decoration-color: #c0c0c0\">│</span>   - 맥락 검색과 조합: 필요 시 저장된 맥락을 검색하고, 모델 입력으로 적절히 합성.                                <span style=\"color: #c0c0c0; text-decoration-color: #c0c0c0\">│</span>\n",
       "<span style=\"color: #c0c0c0; text-decoration-color: #c0c0c0\">│</span>   - 개인정보 및 보안: 최소 데이터 원칙, 동의 관리, 암호화, 접근 제어, 보존 주기 정책.                           <span style=\"color: #c0c0c0; text-decoration-color: #c0c0c0\">│</span>\n",
       "<span style=\"color: #c0c0c0; text-decoration-color: #c0c0c0\">│</span>   - 버전 관리와 호환성: 맥락 스키마의 버전 관리, 마이그레이션 전략, 역호환성.                                   <span style=\"color: #c0c0c0; text-decoration-color: #c0c0c0\">│</span>\n",
       "<span style=\"color: #c0c0c0; text-decoration-color: #c0c0c0\">│</span>   - 성능 관리: 토큰 예산 관리, 캐싱, 지연 최소화, 로깅 및 모니터링.                                             <span style=\"color: #c0c0c0; text-decoration-color: #c0c0c0\">│</span>\n",
       "<span style=\"color: #c0c0c0; text-decoration-color: #c0c0c0\">│</span>   - 상호운용성: 명확한 API 계약, 오류 처리, 관찰 가능성.                                                        <span style=\"color: #c0c0c0; text-decoration-color: #c0c0c0\">│</span>\n",
       "<span style=\"color: #c0c0c0; text-decoration-color: #c0c0c0\">│</span>                                                                                                                 <span style=\"color: #c0c0c0; text-decoration-color: #c0c0c0\">│</span>\n",
       "<span style=\"color: #c0c0c0; text-decoration-color: #c0c0c0\">│</span> - 데이터 모델과 표현 형식                                                                                       <span style=\"color: #c0c0c0; text-decoration-color: #c0c0c0\">│</span>\n",
       "<span style=\"color: #c0c0c0; text-decoration-color: #c0c0c0\">│</span>   - 맥락 블록(block) 기반 구조: 각 블록은 유형(type), 내용(content), 메타데이터(metadata)로 구성.               <span style=\"color: #c0c0c0; text-decoration-color: #c0c0c0\">│</span>\n",
       "<span style=\"color: #c0c0c0; text-decoration-color: #c0c0c0\">│</span>   - 메타데이터 예: 출처(source), 타임스탬프(timestamp), 신뢰도(confidence), 버전(version).                      <span style=\"color: #c0c0c0; text-decoration-color: #c0c0c0\">│</span>\n",
       "<span style=\"color: #c0c0c0; text-decoration-color: #c0c0c0\">│</span>   - 예시 포맷(간단한 JSON 형태의 아이디어):                                                                     <span style=\"color: #c0c0c0; text-decoration-color: #c0c0c0\">│</span>\n",
       "<span style=\"color: #c0c0c0; text-decoration-color: #c0c0c0\">│</span>     {                                                                                                           <span style=\"color: #c0c0c0; text-decoration-color: #c0c0c0\">│</span>\n",
       "<span style=\"color: #c0c0c0; text-decoration-color: #c0c0c0\">│</span>       \"context_id\": \"user123-202509\",                                                                           <span style=\"color: #c0c0c0; text-decoration-color: #c0c0c0\">│</span>\n",
       "<span style=\"color: #c0c0c0; text-decoration-color: #c0c0c0\">│</span>       \"blocks\": [                                                                                               <span style=\"color: #c0c0c0; text-decoration-color: #c0c0c0\">│</span>\n",
       "<span style=\"color: #c0c0c0; text-decoration-color: #c0c0c0\">│</span>         {\"type\": \"user_profile\", \"content\": {\"preferences\": [\"기술\", \"과학\"]}, \"metadata\": {\"source\": \"user\",   <span style=\"color: #c0c0c0; text-decoration-color: #c0c0c0\">│</span>\n",
       "<span style=\"color: #c0c0c0; text-decoration-color: #c0c0c0\">│</span> \"timestamp\": \"2025-09-01T12:00:00Z\"}}                                                                           <span style=\"color: #c0c0c0; text-decoration-color: #c0c0c0\">│</span>\n",
       "<span style=\"color: #c0c0c0; text-decoration-color: #c0c0c0\">│</span>       ],                                                                                                        <span style=\"color: #c0c0c0; text-decoration-color: #c0c0c0\">│</span>\n",
       "<span style=\"color: #c0c0c0; text-decoration-color: #c0c0c0\">│</span>       \"version\": 1                                                                                              <span style=\"color: #c0c0c0; text-decoration-color: #c0c0c0\">│</span>\n",
       "<span style=\"color: #c0c0c0; text-decoration-color: #c0c0c0\">│</span>     }                                                                                                           <span style=\"color: #c0c0c0; text-decoration-color: #c0c0c0\">│</span>\n",
       "<span style=\"color: #c0c0c0; text-decoration-color: #c0c0c0\">│</span>                                                                                                                 <span style=\"color: #c0c0c0; text-decoration-color: #c0c0c0\">│</span>\n",
       "<span style=\"color: #c0c0c0; text-decoration-color: #c0c0c0\">│</span> - 라이프사이클                                                                                                  <span style=\"color: #c0c0c0; text-decoration-color: #c0c0c0\">│</span>\n",
       "<span style=\"color: #c0c0c0; text-decoration-color: #c0c0c0\">│</span>   - 수집 및 enrichment: 맥락 소스를 모으고 필요 시 보강.                                                        <span style=\"color: #c0c0c0; text-decoration-color: #c0c0c0\">│</span>\n",
       "<span style=\"color: #c0c0c0; text-decoration-color: #c0c0c0\">│</span>   - 검증 및 정제: 데이터 품질 및 프라이버시 요구사항 충족 여부 확인.                                            <span style=\"color: #c0c0c0; text-decoration-color: #c0c0c0\">│</span>\n",
       "<span style=\"color: #c0c0c0; text-decoration-color: #c0c0c0\">│</span>   - 저장 및 버전 관리: 맥락을 저장하고 버전으로 관리.                                                           <span style=\"color: #c0c0c0; text-decoration-color: #c0c0c0\">│</span>\n",
       "<span style=\"color: #c0c0c0; text-decoration-color: #c0c0c0\">│</span>   - 조회 및 합성: 필요 시 맥락을 검색/추출하여 모델 입력에 반영.                                                <span style=\"color: #c0c0c0; text-decoration-color: #c0c0c0\">│</span>\n",
       "<span style=\"color: #c0c0c0; text-decoration-color: #c0c0c0\">│</span>   - 업데이트 및 삭제: 피드백 반영, 만료된 데이터의 폐기.                                                        <span style=\"color: #c0c0c0; text-decoration-color: #c0c0c0\">│</span>\n",
       "<span style=\"color: #c0c0c0; text-decoration-color: #c0c0c0\">│</span>                                                                                                                 <span style=\"color: #c0c0c0; text-decoration-color: #c0c0c0\">│</span>\n",
       "<span style=\"color: #c0c0c0; text-decoration-color: #c0c0c0\">│</span> - 일반적인 아키텍처 구성 요소                                                                                   <span style=\"color: #c0c0c0; text-decoration-color: #c0c0c0\">│</span>\n",
       "<span style=\"color: #c0c0c0; text-decoration-color: #c0c0c0\">│</span>   - MCP 클라이언트 라이브러리: 애플리케이션과 MCP 간 인터페이스.                                                <span style=\"color: #c0c0c0; text-decoration-color: #c0c0c0\">│</span>\n",
       "<span style=\"color: #c0c0c0; text-decoration-color: #c0c0c0\">│</span>   - 맥락 저장소: 체계적으로 맥락 블록을 보관.                                                                   <span style=\"color: #c0c0c0; text-decoration-color: #c0c0c0\">│</span>\n",
       "<span style=\"color: #c0c0c0; text-decoration-color: #c0c0c0\">│</span>   - 맥락 인코더/직렬화: 맥락 블록을 모델이 수용할 형식으로 변환.                                                <span style=\"color: #c0c0c0; text-decoration-color: #c0c0c0\">│</span>\n",
       "<span style=\"color: #c0c0c0; text-decoration-color: #c0c0c0\">│</span>   - 맥락 검색기(리트리벌): 유사도 검색/키-값 조회 등으로 관련 맥락을 빠르게 찾음.                               <span style=\"color: #c0c0c0; text-decoration-color: #c0c0c0\">│</span>\n",
       "<span style=\"color: #c0c0c0; text-decoration-color: #c0c0c0\">│</span>   - 정책 엔진: 언제 어떤 맥락을 수집/활용할지 결정하는 규칙.                                                    <span style=\"color: #c0c0c0; text-decoration-color: #c0c0c0\">│</span>\n",
       "<span style=\"color: #c0c0c0; text-decoration-color: #c0c0c0\">│</span>   - 모델 인터페이스: 컨텍스트를 모델 입력으로 전달하는 방법과 형식.                                             <span style=\"color: #c0c0c0; text-decoration-color: #c0c0c0\">│</span>\n",
       "<span style=\"color: #c0c0c0; text-decoration-color: #c0c0c0\">│</span>   - 로깅/감사(Audit) 모듈: 맥락 처리 과정의 투명성 확보.                                                        <span style=\"color: #c0c0c0; text-decoration-color: #c0c0c0\">│</span>\n",
       "<span style=\"color: #c0c0c0; text-decoration-color: #c0c0c0\">│</span>                                                                                                                 <span style=\"color: #c0c0c0; text-decoration-color: #c0c0c0\">│</span>\n",
       "<span style=\"color: #c0c0c0; text-decoration-color: #c0c0c0\">│</span> - 일반적인 워크플로우                                                                                           <span style=\"color: #c0c0c0; text-decoration-color: #c0c0c0\">│</span>\n",
       "<span style=\"color: #c0c0c0; text-decoration-color: #c0c0c0\">│</span>   - 맥락 필요성 식별: 어떤 맥락이 필요한지 정의.                                                                <span style=\"color: #c0c0c0; text-decoration-color: #c0c0c0\">│</span>\n",
       "<span style=\"color: #c0c0c0; text-decoration-color: #c0c0c0\">│</span>   - 소스 수집: 필요한 데이터 소스에서 맥락을 수집.                                                              <span style=\"color: #c0c0c0; text-decoration-color: #c0c0c0\">│</span>\n",
       "<span style=\"color: #c0c0c0; text-decoration-color: #c0c0c0\">│</span>   - 인코딩 및 저장: 맥락을 구조화된 블록으로 변환해 저장.                                                       <span style=\"color: #c0c0c0; text-decoration-color: #c0c0c0\">│</span>\n",
       "<span style=\"color: #c0c0c0; text-decoration-color: #c0c0c0\">│</span>   - 필요 시 검색 및 조합: 입력에 맞춰 관련 맥락을 조회하고 결합.                                                <span style=\"color: #c0c0c0; text-decoration-color: #c0c0c0\">│</span>\n",
       "<span style=\"color: #c0c0c0; text-decoration-color: #c0c0c0\">│</span>   - 최종 프롬프트 구성: 맥락 블록을 포함해 모델 입력 프롬프트 구성.                                             <span style=\"color: #c0c0c0; text-decoration-color: #c0c0c0\">│</span>\n",
       "<span style=\"color: #c0c0c0; text-decoration-color: #c0c0c0\">│</span>   - 모델 실행 및 결과 활용: 모델 응답 후 피드백으로 맥락 업데이트.                                              <span style=\"color: #c0c0c0; text-decoration-color: #c0c0c0\">│</span>\n",
       "<span style=\"color: #c0c0c0; text-decoration-color: #c0c0c0\">│</span>   - 피드백 루프: 사용성/정확도 개선을 위한 맥락 업데이트.                                                       <span style=\"color: #c0c0c0; text-decoration-color: #c0c0c0\">│</span>\n",
       "<span style=\"color: #c0c0c0; text-decoration-color: #c0c0c0\">│</span>                                                                                                                 <span style=\"color: #c0c0c0; text-decoration-color: #c0c0c0\">│</span>\n",
       "<span style=\"color: #c0c0c0; text-decoration-color: #c0c0c0\">│</span> - 보안, 프라이버시 및 규정 준수                                                                                 <span style=\"color: #c0c0c0; text-decoration-color: #c0c0c0\">│</span>\n",
       "<span style=\"color: #c0c0c0; text-decoration-color: #c0c0c0\">│</span>   - 데이터 최소화: 필요한 맥락만 저장.                                                                          <span style=\"color: #c0c0c0; text-decoration-color: #c0c0c0\">│</span>\n",
       "<span style=\"color: #c0c0c0; text-decoration-color: #c0c0c0\">│</span>   - 사용자 동의 및 투명성: 어떤 맥락이 저장되는지 명확히 하기.                                                  <span style=\"color: #c0c0c0; text-decoration-color: #c0c0c0\">│</span>\n",
       "<span style=\"color: #c0c0c0; text-decoration-color: #c0c0c0\">│</span>   - 암호화 및 접근 제어: 데이터 보호와 권한 관리.                                                               <span style=\"color: #c0c0c0; text-decoration-color: #c0c0c0\">│</span>\n",
       "<span style=\"color: #c0c0c0; text-decoration-color: #c0c0c0\">│</span>   - 감사 로그: 맥락 변경 이력과 사용 이력 기록.                                                                 <span style=\"color: #c0c0c0; text-decoration-color: #c0c0c0\">│</span>\n",
       "<span style=\"color: #c0c0c0; text-decoration-color: #c0c0c0\">│</span>                                                                                                                 <span style=\"color: #c0c0c0; text-decoration-color: #c0c0c0\">│</span>\n",
       "<span style=\"color: #c0c0c0; text-decoration-color: #c0c0c0\">│</span> - 도메인 적용 시 고려사항                                                                                       <span style=\"color: #c0c0c0; text-decoration-color: #c0c0c0\">│</span>\n",
       "<span style=\"color: #c0c0c0; text-decoration-color: #c0c0c0\">│</span>   - 도메인 특화 맥락 블록 설계: 예를 들어 의료/금융/고객지원 등 도메인에 맞춘 블록 스키마.                      <span style=\"color: #c0c0c0; text-decoration-color: #c0c0c0\">│</span>\n",
       "<span style=\"color: #c0c0c0; text-decoration-color: #c0c0c0\">│</span>   - 실시간성과 지연: 실시간 대화에는 빠른 검색과 경량화된 맥락 필요.                                            <span style=\"color: #c0c0c0; text-decoration-color: #c0c0c0\">│</span>\n",
       "<span style=\"color: #c0c0c0; text-decoration-color: #c0c0c0\">│</span>   - 데이터 품질 관리: 외부 데이터 소스의 신뢰성 평가.                                                           <span style=\"color: #c0c0c0; text-decoration-color: #c0c0c0\">│</span>\n",
       "<span style=\"color: #c0c0c0; text-decoration-color: #c0c0c0\">│</span>                                                                                                                 <span style=\"color: #c0c0c0; text-decoration-color: #c0c0c0\">│</span>\n",
       "<span style=\"color: #c0c0c0; text-decoration-color: #c0c0c0\">│</span> - 간단한 활용 예시 아이디어                                                                                     <span style=\"color: #c0c0c0; text-decoration-color: #c0c0c0\">│</span>\n",
       "<span style=\"color: #c0c0c0; text-decoration-color: #c0c0c0\">│</span>   - 개인화된 대화: 사용자의 선호와 과거 대화 맥락을 저장해 맞춤형 응답 제공.                                    <span style=\"color: #c0c0c0; text-decoration-color: #c0c0c0\">│</span>\n",
       "<span style=\"color: #c0c0c0; text-decoration-color: #c0c0c0\">│</span>   - 도메인 인지 지원: 특정 분야의 용어집·절차를 맥락으로 포함해 정확한 답변 도출.                               <span style=\"color: #c0c0c0; text-decoration-color: #c0c0c0\">│</span>\n",
       "<span style=\"color: #c0c0c0; text-decoration-color: #c0c0c0\">│</span>   - 감사 가능성 확보: 어떤 맥락이 어떤 응답에 기여했는지 추적 가능.                                             <span style=\"color: #c0c0c0; text-decoration-color: #c0c0c0\">│</span>\n",
       "<span style=\"color: #c0c0c0; text-decoration-color: #c0c0c0\">│</span>                                                                                                                 <span style=\"color: #c0c0c0; text-decoration-color: #c0c0c0\">│</span>\n",
       "<span style=\"color: #c0c0c0; text-decoration-color: #c0c0c0\">│</span> 도입 시 유의점                                                                                                  <span style=\"color: #c0c0c0; text-decoration-color: #c0c0c0\">│</span>\n",
       "<span style=\"color: #c0c0c0; text-decoration-color: #c0c0c0\">│</span> - 맥락의 최신성 관리: 오래된 맥락이 현재 대화에 오히려 해로울 수 있어 정기적 갱신 필요.                         <span style=\"color: #c0c0c0; text-decoration-color: #c0c0c0\">│</span>\n",
       "<span style=\"color: #c0c0c0; text-decoration-color: #c0c0c0\">│</span> - 맥락 남용 방지: 과도한 정보가 모델의 판단을 흐릴 수 있으니 필요 최소한의 정보만 사용.                         <span style=\"color: #c0c0c0; text-decoration-color: #c0c0c0\">│</span>\n",
       "<span style=\"color: #c0c0c0; text-decoration-color: #c0c0c0\">│</span> - 상호운용성 유지: 다른 시스템과의 연계 시 API 스키마와 버전 관리에 주의.                                       <span style=\"color: #c0c0c0; text-decoration-color: #c0c0c0\">│</span>\n",
       "<span style=\"color: #c0c0c0; text-decoration-color: #c0c0c0\">│</span>                                                                                                                 <span style=\"color: #c0c0c0; text-decoration-color: #c0c0c0\">│</span>\n",
       "<span style=\"color: #c0c0c0; text-decoration-color: #c0c0c0\">│</span> 필요하시면 이 개요를 바탕으로 귀하의 도메인에 맞춘 MCP 스펙 초안이나 예제 JSON 스키마를 함께 만들어             <span style=\"color: #c0c0c0; text-decoration-color: #c0c0c0\">│</span>\n",
       "<span style=\"color: #c0c0c0; text-decoration-color: #c0c0c0\">│</span> 드리겠습니다. 또한 이 답변을 mcp_overview.txt 파일로 저장해 두고 싶으시면 말씀해 주세요.                        <span style=\"color: #c0c0c0; text-decoration-color: #c0c0c0\">│</span>\n",
       "<span style=\"color: #c0c0c0; text-decoration-color: #c0c0c0\">╰─────────────────────────────────────────────────────────────────────────────────────────────────────────────────╯</span>\n",
       "</pre>\n"
      ],
      "text/plain": [
       "\u001b[37m╭─\u001b[0m\u001b[37m────────────────────────────────────────────────────\u001b[0m\u001b[37m 📝 AI \u001b[0m\u001b[37m────────────────────────────────────────────────────\u001b[0m\u001b[37m─╮\u001b[0m\n",
       "\u001b[37m│\u001b[0m 다음은 모델 컨텍스트 프로토콜(MCP)에 대한 일반적이고 포괄적인 개요입니다. 이는 여러 맥락에서 적용 가능한 개념적 \u001b[37m│\u001b[0m\n",
       "\u001b[37m│\u001b[0m 프레임으로, 특정 표준이 아니라 설계 가이드로 이해하시면 좋습니다. 필요에 따라 도메인에 맞춰 구체화할 수         \u001b[37m│\u001b[0m\n",
       "\u001b[37m│\u001b[0m 있습니다.                                                                                                       \u001b[37m│\u001b[0m\n",
       "\u001b[37m│\u001b[0m                                                                                                                 \u001b[37m│\u001b[0m\n",
       "\u001b[37m│\u001b[0m - MCP의 의의                                                                                                    \u001b[37m│\u001b[0m\n",
       "\u001b[37m│\u001b[0m   - 모델이 처리하는 맥락(context)을 체계적으로 수집, 저장, 관리하고 필요 시 안정적으로 적용하기 위한 표준화된   \u001b[37m│\u001b[0m\n",
       "\u001b[37m│\u001b[0m 프레임워크.                                                                                                     \u001b[37m│\u001b[0m\n",
       "\u001b[37m│\u001b[0m   - 대화의 일관성, 사용자 맞춤성, 안전성, 재현성 등을 높이기 위한 맥락 관리 원칙을 제공합니다.                  \u001b[37m│\u001b[0m\n",
       "\u001b[37m│\u001b[0m                                                                                                                 \u001b[37m│\u001b[0m\n",
       "\u001b[37m│\u001b[0m - 핵심 구성 개념                                                                                                \u001b[37m│\u001b[0m\n",
       "\u001b[37m│\u001b[0m   - 맥락 범위: 단기 대화 맥락, 사용자 프로파일, 도메인 지식, 외부 데이터 소스 등 다양한 맥락 소스의 조합 관리.  \u001b[37m│\u001b[0m\n",
       "\u001b[37m│\u001b[0m   - 맥락 소스: 사용자 프롬프트, 시스템 프롬프트, 데이터베이스/지식 베이스, 도구의 출력, 임베딩 및 검색 결과 등. \u001b[37m│\u001b[0m\n",
       "\u001b[37m│\u001b[0m   - 맥락 인코딩과 저장: 텍스트 토큰화, 임베딩, 정보를 압축하거나 구조화된 블록으로 저장.                        \u001b[37m│\u001b[0m\n",
       "\u001b[37m│\u001b[0m   - 맥락 검색과 조합: 필요 시 저장된 맥락을 검색하고, 모델 입력으로 적절히 합성.                                \u001b[37m│\u001b[0m\n",
       "\u001b[37m│\u001b[0m   - 개인정보 및 보안: 최소 데이터 원칙, 동의 관리, 암호화, 접근 제어, 보존 주기 정책.                           \u001b[37m│\u001b[0m\n",
       "\u001b[37m│\u001b[0m   - 버전 관리와 호환성: 맥락 스키마의 버전 관리, 마이그레이션 전략, 역호환성.                                   \u001b[37m│\u001b[0m\n",
       "\u001b[37m│\u001b[0m   - 성능 관리: 토큰 예산 관리, 캐싱, 지연 최소화, 로깅 및 모니터링.                                             \u001b[37m│\u001b[0m\n",
       "\u001b[37m│\u001b[0m   - 상호운용성: 명확한 API 계약, 오류 처리, 관찰 가능성.                                                        \u001b[37m│\u001b[0m\n",
       "\u001b[37m│\u001b[0m                                                                                                                 \u001b[37m│\u001b[0m\n",
       "\u001b[37m│\u001b[0m - 데이터 모델과 표현 형식                                                                                       \u001b[37m│\u001b[0m\n",
       "\u001b[37m│\u001b[0m   - 맥락 블록(block) 기반 구조: 각 블록은 유형(type), 내용(content), 메타데이터(metadata)로 구성.               \u001b[37m│\u001b[0m\n",
       "\u001b[37m│\u001b[0m   - 메타데이터 예: 출처(source), 타임스탬프(timestamp), 신뢰도(confidence), 버전(version).                      \u001b[37m│\u001b[0m\n",
       "\u001b[37m│\u001b[0m   - 예시 포맷(간단한 JSON 형태의 아이디어):                                                                     \u001b[37m│\u001b[0m\n",
       "\u001b[37m│\u001b[0m     {                                                                                                           \u001b[37m│\u001b[0m\n",
       "\u001b[37m│\u001b[0m       \"context_id\": \"user123-202509\",                                                                           \u001b[37m│\u001b[0m\n",
       "\u001b[37m│\u001b[0m       \"blocks\": [                                                                                               \u001b[37m│\u001b[0m\n",
       "\u001b[37m│\u001b[0m         {\"type\": \"user_profile\", \"content\": {\"preferences\": [\"기술\", \"과학\"]}, \"metadata\": {\"source\": \"user\",   \u001b[37m│\u001b[0m\n",
       "\u001b[37m│\u001b[0m \"timestamp\": \"2025-09-01T12:00:00Z\"}}                                                                           \u001b[37m│\u001b[0m\n",
       "\u001b[37m│\u001b[0m       ],                                                                                                        \u001b[37m│\u001b[0m\n",
       "\u001b[37m│\u001b[0m       \"version\": 1                                                                                              \u001b[37m│\u001b[0m\n",
       "\u001b[37m│\u001b[0m     }                                                                                                           \u001b[37m│\u001b[0m\n",
       "\u001b[37m│\u001b[0m                                                                                                                 \u001b[37m│\u001b[0m\n",
       "\u001b[37m│\u001b[0m - 라이프사이클                                                                                                  \u001b[37m│\u001b[0m\n",
       "\u001b[37m│\u001b[0m   - 수집 및 enrichment: 맥락 소스를 모으고 필요 시 보강.                                                        \u001b[37m│\u001b[0m\n",
       "\u001b[37m│\u001b[0m   - 검증 및 정제: 데이터 품질 및 프라이버시 요구사항 충족 여부 확인.                                            \u001b[37m│\u001b[0m\n",
       "\u001b[37m│\u001b[0m   - 저장 및 버전 관리: 맥락을 저장하고 버전으로 관리.                                                           \u001b[37m│\u001b[0m\n",
       "\u001b[37m│\u001b[0m   - 조회 및 합성: 필요 시 맥락을 검색/추출하여 모델 입력에 반영.                                                \u001b[37m│\u001b[0m\n",
       "\u001b[37m│\u001b[0m   - 업데이트 및 삭제: 피드백 반영, 만료된 데이터의 폐기.                                                        \u001b[37m│\u001b[0m\n",
       "\u001b[37m│\u001b[0m                                                                                                                 \u001b[37m│\u001b[0m\n",
       "\u001b[37m│\u001b[0m - 일반적인 아키텍처 구성 요소                                                                                   \u001b[37m│\u001b[0m\n",
       "\u001b[37m│\u001b[0m   - MCP 클라이언트 라이브러리: 애플리케이션과 MCP 간 인터페이스.                                                \u001b[37m│\u001b[0m\n",
       "\u001b[37m│\u001b[0m   - 맥락 저장소: 체계적으로 맥락 블록을 보관.                                                                   \u001b[37m│\u001b[0m\n",
       "\u001b[37m│\u001b[0m   - 맥락 인코더/직렬화: 맥락 블록을 모델이 수용할 형식으로 변환.                                                \u001b[37m│\u001b[0m\n",
       "\u001b[37m│\u001b[0m   - 맥락 검색기(리트리벌): 유사도 검색/키-값 조회 등으로 관련 맥락을 빠르게 찾음.                               \u001b[37m│\u001b[0m\n",
       "\u001b[37m│\u001b[0m   - 정책 엔진: 언제 어떤 맥락을 수집/활용할지 결정하는 규칙.                                                    \u001b[37m│\u001b[0m\n",
       "\u001b[37m│\u001b[0m   - 모델 인터페이스: 컨텍스트를 모델 입력으로 전달하는 방법과 형식.                                             \u001b[37m│\u001b[0m\n",
       "\u001b[37m│\u001b[0m   - 로깅/감사(Audit) 모듈: 맥락 처리 과정의 투명성 확보.                                                        \u001b[37m│\u001b[0m\n",
       "\u001b[37m│\u001b[0m                                                                                                                 \u001b[37m│\u001b[0m\n",
       "\u001b[37m│\u001b[0m - 일반적인 워크플로우                                                                                           \u001b[37m│\u001b[0m\n",
       "\u001b[37m│\u001b[0m   - 맥락 필요성 식별: 어떤 맥락이 필요한지 정의.                                                                \u001b[37m│\u001b[0m\n",
       "\u001b[37m│\u001b[0m   - 소스 수집: 필요한 데이터 소스에서 맥락을 수집.                                                              \u001b[37m│\u001b[0m\n",
       "\u001b[37m│\u001b[0m   - 인코딩 및 저장: 맥락을 구조화된 블록으로 변환해 저장.                                                       \u001b[37m│\u001b[0m\n",
       "\u001b[37m│\u001b[0m   - 필요 시 검색 및 조합: 입력에 맞춰 관련 맥락을 조회하고 결합.                                                \u001b[37m│\u001b[0m\n",
       "\u001b[37m│\u001b[0m   - 최종 프롬프트 구성: 맥락 블록을 포함해 모델 입력 프롬프트 구성.                                             \u001b[37m│\u001b[0m\n",
       "\u001b[37m│\u001b[0m   - 모델 실행 및 결과 활용: 모델 응답 후 피드백으로 맥락 업데이트.                                              \u001b[37m│\u001b[0m\n",
       "\u001b[37m│\u001b[0m   - 피드백 루프: 사용성/정확도 개선을 위한 맥락 업데이트.                                                       \u001b[37m│\u001b[0m\n",
       "\u001b[37m│\u001b[0m                                                                                                                 \u001b[37m│\u001b[0m\n",
       "\u001b[37m│\u001b[0m - 보안, 프라이버시 및 규정 준수                                                                                 \u001b[37m│\u001b[0m\n",
       "\u001b[37m│\u001b[0m   - 데이터 최소화: 필요한 맥락만 저장.                                                                          \u001b[37m│\u001b[0m\n",
       "\u001b[37m│\u001b[0m   - 사용자 동의 및 투명성: 어떤 맥락이 저장되는지 명확히 하기.                                                  \u001b[37m│\u001b[0m\n",
       "\u001b[37m│\u001b[0m   - 암호화 및 접근 제어: 데이터 보호와 권한 관리.                                                               \u001b[37m│\u001b[0m\n",
       "\u001b[37m│\u001b[0m   - 감사 로그: 맥락 변경 이력과 사용 이력 기록.                                                                 \u001b[37m│\u001b[0m\n",
       "\u001b[37m│\u001b[0m                                                                                                                 \u001b[37m│\u001b[0m\n",
       "\u001b[37m│\u001b[0m - 도메인 적용 시 고려사항                                                                                       \u001b[37m│\u001b[0m\n",
       "\u001b[37m│\u001b[0m   - 도메인 특화 맥락 블록 설계: 예를 들어 의료/금융/고객지원 등 도메인에 맞춘 블록 스키마.                      \u001b[37m│\u001b[0m\n",
       "\u001b[37m│\u001b[0m   - 실시간성과 지연: 실시간 대화에는 빠른 검색과 경량화된 맥락 필요.                                            \u001b[37m│\u001b[0m\n",
       "\u001b[37m│\u001b[0m   - 데이터 품질 관리: 외부 데이터 소스의 신뢰성 평가.                                                           \u001b[37m│\u001b[0m\n",
       "\u001b[37m│\u001b[0m                                                                                                                 \u001b[37m│\u001b[0m\n",
       "\u001b[37m│\u001b[0m - 간단한 활용 예시 아이디어                                                                                     \u001b[37m│\u001b[0m\n",
       "\u001b[37m│\u001b[0m   - 개인화된 대화: 사용자의 선호와 과거 대화 맥락을 저장해 맞춤형 응답 제공.                                    \u001b[37m│\u001b[0m\n",
       "\u001b[37m│\u001b[0m   - 도메인 인지 지원: 특정 분야의 용어집·절차를 맥락으로 포함해 정확한 답변 도출.                               \u001b[37m│\u001b[0m\n",
       "\u001b[37m│\u001b[0m   - 감사 가능성 확보: 어떤 맥락이 어떤 응답에 기여했는지 추적 가능.                                             \u001b[37m│\u001b[0m\n",
       "\u001b[37m│\u001b[0m                                                                                                                 \u001b[37m│\u001b[0m\n",
       "\u001b[37m│\u001b[0m 도입 시 유의점                                                                                                  \u001b[37m│\u001b[0m\n",
       "\u001b[37m│\u001b[0m - 맥락의 최신성 관리: 오래된 맥락이 현재 대화에 오히려 해로울 수 있어 정기적 갱신 필요.                         \u001b[37m│\u001b[0m\n",
       "\u001b[37m│\u001b[0m - 맥락 남용 방지: 과도한 정보가 모델의 판단을 흐릴 수 있으니 필요 최소한의 정보만 사용.                         \u001b[37m│\u001b[0m\n",
       "\u001b[37m│\u001b[0m - 상호운용성 유지: 다른 시스템과의 연계 시 API 스키마와 버전 관리에 주의.                                       \u001b[37m│\u001b[0m\n",
       "\u001b[37m│\u001b[0m                                                                                                                 \u001b[37m│\u001b[0m\n",
       "\u001b[37m│\u001b[0m 필요하시면 이 개요를 바탕으로 귀하의 도메인에 맞춘 MCP 스펙 초안이나 예제 JSON 스키마를 함께 만들어             \u001b[37m│\u001b[0m\n",
       "\u001b[37m│\u001b[0m 드리겠습니다. 또한 이 답변을 mcp_overview.txt 파일로 저장해 두고 싶으시면 말씀해 주세요.                        \u001b[37m│\u001b[0m\n",
       "\u001b[37m╰─────────────────────────────────────────────────────────────────────────────────────────────────────────────────╯\u001b[0m\n"
      ]
     },
     "metadata": {},
     "output_type": "display_data"
    }
   ],
   "source": [
    "result = agent.invoke(\n",
    "    {\n",
    "        \"messages\": [\n",
    "            {\n",
    "                \"role\": \"user\",\n",
    "                \"content\": \"모델 컨텍스트 프로토콜(MCP)에 대한 개요를 설명해 주세요.\",\n",
    "            }\n",
    "        ],\n",
    "        \"files\": {},\n",
    "    }\n",
    ")\n",
    "format_messages(result[\"messages\"])"
   ]
  },
  {
   "cell_type": "markdown",
   "id": "4addd08d",
   "metadata": {},
   "source": [
    "We can see the file saved in our mock file system. "
   ]
  },
  {
   "cell_type": "code",
   "execution_count": 9,
   "id": "d79c9626",
   "metadata": {},
   "outputs": [
    {
     "data": {
      "text/plain": [
       "{'messages': [HumanMessage(content='모델 컨텍스트 프로토콜(MCP)에 대한 개요를 설명해 주세요.', additional_kwargs={}, response_metadata={}, id='f0e6b7bc-d414-4462-8ff0-17d6ef178e8f'),\n",
       "  AIMessage(content='', additional_kwargs={'tool_calls': [{'id': 'call_S22j3U4TxEq8p7QFmY3UB0Y4', 'function': {'arguments': '{}', 'name': 'ls'}, 'type': 'function'}], 'refusal': None}, response_metadata={'token_usage': {'completion_tokens': 1235, 'prompt_tokens': 833, 'total_tokens': 2068, 'completion_tokens_details': {'accepted_prediction_tokens': 0, 'audio_tokens': 0, 'reasoning_tokens': 1216, 'rejected_prediction_tokens': 0}, 'prompt_tokens_details': {'audio_tokens': 0, 'cached_tokens': 0}}, 'model_name': 'gpt-5-nano-2025-08-07', 'system_fingerprint': None, 'id': 'chatcmpl-CL0ggFJwtAvy9wO4CMhi1yQGGVr3M', 'service_tier': 'default', 'finish_reason': 'tool_calls', 'logprobs': None}, id='run--93f7e995-c5d0-458a-acd0-8d01ec74ccba-0', tool_calls=[{'name': 'ls', 'args': {}, 'id': 'call_S22j3U4TxEq8p7QFmY3UB0Y4', 'type': 'tool_call'}], usage_metadata={'input_tokens': 833, 'output_tokens': 1235, 'total_tokens': 2068, 'input_token_details': {'audio': 0, 'cache_read': 0}, 'output_token_details': {'audio': 0, 'reasoning': 1216}}),\n",
       "  ToolMessage(content=[], name='ls', id='981d9fbc-f34d-4637-854c-231c9f984656', tool_call_id='call_S22j3U4TxEq8p7QFmY3UB0Y4'),\n",
       "  AIMessage(content='', additional_kwargs={'tool_calls': [{'id': 'call_sXGgjfCdhRYboKnXkyD8uvAL', 'function': {'arguments': '{\"file_path\":\"mcp_request.txt\",\"content\":\"모델 컨텍스트 프로토콜(MCP)에 대한 개요를 설명해 주세요.\"}', 'name': 'write_file'}, 'type': 'function'}], 'refusal': None}, response_metadata={'token_usage': {'completion_tokens': 1265, 'prompt_tokens': 856, 'total_tokens': 2121, 'completion_tokens_details': {'accepted_prediction_tokens': 0, 'audio_tokens': 0, 'reasoning_tokens': 1216, 'rejected_prediction_tokens': 0}, 'prompt_tokens_details': {'audio_tokens': 0, 'cached_tokens': 0}}, 'model_name': 'gpt-5-nano-2025-08-07', 'system_fingerprint': None, 'id': 'chatcmpl-CL0gpHtKx0mTI3UTk0yjuVGJm3ytz', 'service_tier': 'default', 'finish_reason': 'tool_calls', 'logprobs': None}, id='run--811f8e18-d985-4dd3-a8b1-d0a8ce26590a-0', tool_calls=[{'name': 'write_file', 'args': {'file_path': 'mcp_request.txt', 'content': '모델 컨텍스트 프로토콜(MCP)에 대한 개요를 설명해 주세요.'}, 'id': 'call_sXGgjfCdhRYboKnXkyD8uvAL', 'type': 'tool_call'}], usage_metadata={'input_tokens': 856, 'output_tokens': 1265, 'total_tokens': 2121, 'input_token_details': {'audio': 0, 'cache_read': 0}, 'output_token_details': {'audio': 0, 'reasoning': 1216}}),\n",
       "  ToolMessage(content='Updated file mcp_request.txt', name='write_file', id='4759c84f-eb2a-4736-aad5-b444989c47de', tool_call_id='call_sXGgjfCdhRYboKnXkyD8uvAL'),\n",
       "  AIMessage(content='', additional_kwargs={'tool_calls': [{'id': 'call_hKwRAyzZBEnjW1iLdgc7Yc1g', 'function': {'arguments': '{\"file_path\":\"mcp_request.txt\",\"offset\":0,\"limit\":2000}', 'name': 'read_file'}, 'type': 'function'}], 'refusal': None}, response_metadata={'token_usage': {'completion_tokens': 30, 'prompt_tokens': 916, 'total_tokens': 946, 'completion_tokens_details': {'accepted_prediction_tokens': 0, 'audio_tokens': 0, 'reasoning_tokens': 0, 'rejected_prediction_tokens': 0}, 'prompt_tokens_details': {'audio_tokens': 0, 'cached_tokens': 0}}, 'model_name': 'gpt-5-nano-2025-08-07', 'system_fingerprint': None, 'id': 'chatcmpl-CL0gxjH4H2J6eoRRXzxsiL8t2oGpT', 'service_tier': 'default', 'finish_reason': 'tool_calls', 'logprobs': None}, id='run--70f27387-208f-4812-bcd3-0d5f1dc72f92-0', tool_calls=[{'name': 'read_file', 'args': {'file_path': 'mcp_request.txt', 'offset': 0, 'limit': 2000}, 'id': 'call_hKwRAyzZBEnjW1iLdgc7Yc1g', 'type': 'tool_call'}], usage_metadata={'input_tokens': 916, 'output_tokens': 30, 'total_tokens': 946, 'input_token_details': {'audio': 0, 'cache_read': 0}, 'output_token_details': {'audio': 0, 'reasoning': 0}}),\n",
       "  ToolMessage(content='     1\\t모델 컨텍스트 프로토콜(MCP)에 대한 개요를 설명해 주세요.', name='read_file', id='8a152f68-b475-43cf-930f-d2a140edeaa9', tool_call_id='call_hKwRAyzZBEnjW1iLdgc7Yc1g'),\n",
       "  AIMessage(content='다음은 모델 컨텍스트 프로토콜(MCP)에 대한 일반적이고 포괄적인 개요입니다. 이는 여러 맥락에서 적용 가능한 개념적 프레임으로, 특정 표준이 아니라 설계 가이드로 이해하시면 좋습니다. 필요에 따라 도메인에 맞춰 구체화할 수 있습니다.\\n\\n- MCP의 의의\\n  - 모델이 처리하는 맥락(context)을 체계적으로 수집, 저장, 관리하고 필요 시 안정적으로 적용하기 위한 표준화된 프레임워크.\\n  - 대화의 일관성, 사용자 맞춤성, 안전성, 재현성 등을 높이기 위한 맥락 관리 원칙을 제공합니다.\\n\\n- 핵심 구성 개념\\n  - 맥락 범위: 단기 대화 맥락, 사용자 프로파일, 도메인 지식, 외부 데이터 소스 등 다양한 맥락 소스의 조합 관리.\\n  - 맥락 소스: 사용자 프롬프트, 시스템 프롬프트, 데이터베이스/지식 베이스, 도구의 출력, 임베딩 및 검색 결과 등.\\n  - 맥락 인코딩과 저장: 텍스트 토큰화, 임베딩, 정보를 압축하거나 구조화된 블록으로 저장.\\n  - 맥락 검색과 조합: 필요 시 저장된 맥락을 검색하고, 모델 입력으로 적절히 합성.\\n  - 개인정보 및 보안: 최소 데이터 원칙, 동의 관리, 암호화, 접근 제어, 보존 주기 정책.\\n  - 버전 관리와 호환성: 맥락 스키마의 버전 관리, 마이그레이션 전략, 역호환성.\\n  - 성능 관리: 토큰 예산 관리, 캐싱, 지연 최소화, 로깅 및 모니터링.\\n  - 상호운용성: 명확한 API 계약, 오류 처리, 관찰 가능성.\\n\\n- 데이터 모델과 표현 형식\\n  - 맥락 블록(block) 기반 구조: 각 블록은 유형(type), 내용(content), 메타데이터(metadata)로 구성.\\n  - 메타데이터 예: 출처(source), 타임스탬프(timestamp), 신뢰도(confidence), 버전(version).\\n  - 예시 포맷(간단한 JSON 형태의 아이디어):\\n    {\\n      \"context_id\": \"user123-202509\",\\n      \"blocks\": [\\n        {\"type\": \"user_profile\", \"content\": {\"preferences\": [\"기술\", \"과학\"]}, \"metadata\": {\"source\": \"user\", \"timestamp\": \"2025-09-01T12:00:00Z\"}}\\n      ],\\n      \"version\": 1\\n    }\\n\\n- 라이프사이클\\n  - 수집 및 enrichment: 맥락 소스를 모으고 필요 시 보강.\\n  - 검증 및 정제: 데이터 품질 및 프라이버시 요구사항 충족 여부 확인.\\n  - 저장 및 버전 관리: 맥락을 저장하고 버전으로 관리.\\n  - 조회 및 합성: 필요 시 맥락을 검색/추출하여 모델 입력에 반영.\\n  - 업데이트 및 삭제: 피드백 반영, 만료된 데이터의 폐기.\\n\\n- 일반적인 아키텍처 구성 요소\\n  - MCP 클라이언트 라이브러리: 애플리케이션과 MCP 간 인터페이스.\\n  - 맥락 저장소: 체계적으로 맥락 블록을 보관.\\n  - 맥락 인코더/직렬화: 맥락 블록을 모델이 수용할 형식으로 변환.\\n  - 맥락 검색기(리트리벌): 유사도 검색/키-값 조회 등으로 관련 맥락을 빠르게 찾음.\\n  - 정책 엔진: 언제 어떤 맥락을 수집/활용할지 결정하는 규칙.\\n  - 모델 인터페이스: 컨텍스트를 모델 입력으로 전달하는 방법과 형식.\\n  - 로깅/감사(Audit) 모듈: 맥락 처리 과정의 투명성 확보.\\n\\n- 일반적인 워크플로우\\n  - 맥락 필요성 식별: 어떤 맥락이 필요한지 정의.\\n  - 소스 수집: 필요한 데이터 소스에서 맥락을 수집.\\n  - 인코딩 및 저장: 맥락을 구조화된 블록으로 변환해 저장.\\n  - 필요 시 검색 및 조합: 입력에 맞춰 관련 맥락을 조회하고 결합.\\n  - 최종 프롬프트 구성: 맥락 블록을 포함해 모델 입력 프롬프트 구성.\\n  - 모델 실행 및 결과 활용: 모델 응답 후 피드백으로 맥락 업데이트.\\n  - 피드백 루프: 사용성/정확도 개선을 위한 맥락 업데이트.\\n\\n- 보안, 프라이버시 및 규정 준수\\n  - 데이터 최소화: 필요한 맥락만 저장.\\n  - 사용자 동의 및 투명성: 어떤 맥락이 저장되는지 명확히 하기.\\n  - 암호화 및 접근 제어: 데이터 보호와 권한 관리.\\n  - 감사 로그: 맥락 변경 이력과 사용 이력 기록.\\n\\n- 도메인 적용 시 고려사항\\n  - 도메인 특화 맥락 블록 설계: 예를 들어 의료/금융/고객지원 등 도메인에 맞춘 블록 스키마.\\n  - 실시간성과 지연: 실시간 대화에는 빠른 검색과 경량화된 맥락 필요.\\n  - 데이터 품질 관리: 외부 데이터 소스의 신뢰성 평가.\\n\\n- 간단한 활용 예시 아이디어\\n  - 개인화된 대화: 사용자의 선호와 과거 대화 맥락을 저장해 맞춤형 응답 제공.\\n  - 도메인 인지 지원: 특정 분야의 용어집·절차를 맥락으로 포함해 정확한 답변 도출.\\n  - 감사 가능성 확보: 어떤 맥락이 어떤 응답에 기여했는지 추적 가능.\\n\\n도입 시 유의점\\n- 맥락의 최신성 관리: 오래된 맥락이 현재 대화에 오히려 해로울 수 있어 정기적 갱신 필요.\\n- 맥락 남용 방지: 과도한 정보가 모델의 판단을 흐릴 수 있으니 필요 최소한의 정보만 사용.\\n- 상호운용성 유지: 다른 시스템과의 연계 시 API 스키마와 버전 관리에 주의.\\n\\n필요하시면 이 개요를 바탕으로 귀하의 도메인에 맞춘 MCP 스펙 초안이나 예제 JSON 스키마를 함께 만들어 드리겠습니다. 또한 이 답변을 mcp_overview.txt 파일로 저장해 두고 싶으시면 말씀해 주세요.', additional_kwargs={'refusal': None}, response_metadata={'token_usage': {'completion_tokens': 3289, 'prompt_tokens': 980, 'total_tokens': 4269, 'completion_tokens_details': {'accepted_prediction_tokens': 0, 'audio_tokens': 0, 'reasoning_tokens': 1792, 'rejected_prediction_tokens': 0}, 'prompt_tokens_details': {'audio_tokens': 0, 'cached_tokens': 0}}, 'model_name': 'gpt-5-nano-2025-08-07', 'system_fingerprint': None, 'id': 'chatcmpl-CL0gzgY4lRYt9QLzKgdxD3JfsBc0C', 'service_tier': 'default', 'finish_reason': 'stop', 'logprobs': None}, id='run--104ff816-ee08-4e66-9e68-a7d7f49106d2-0', usage_metadata={'input_tokens': 980, 'output_tokens': 3289, 'total_tokens': 4269, 'input_token_details': {'audio': 0, 'cache_read': 0}, 'output_token_details': {'audio': 0, 'reasoning': 1792}})],\n",
       " 'files': {'mcp_request.txt': '모델 컨텍스트 프로토콜(MCP)에 대한 개요를 설명해 주세요.'}}"
      ]
     },
     "execution_count": 9,
     "metadata": {},
     "output_type": "execute_result"
    }
   ],
   "source": [
    "result"
   ]
  },
  {
   "cell_type": "code",
   "execution_count": 10,
   "id": "449c8ecd",
   "metadata": {},
   "outputs": [
    {
     "data": {
      "text/plain": [
       "{'mcp_request.txt': '모델 컨텍스트 프로토콜(MCP)에 대한 개요를 설명해 주세요.'}"
      ]
     },
     "execution_count": 10,
     "metadata": {},
     "output_type": "execute_result"
    }
   ],
   "source": [
    "result[\"files\"]"
   ]
  },
  {
   "cell_type": "markdown",
   "id": "bbbb506b",
   "metadata": {},
   "source": [
    "Trace: \n",
    "https://smith.langchain.com/public/b03e20b4-e908-488d-84a9-8f891d17addd/r\n",
    "<!-- https://smith.langchain.com/public/1066102f-d7b3-423c-b556-006865a1d479/r -->"
   ]
  },
  {
   "cell_type": "code",
   "execution_count": null,
   "id": "a2f4ec9b-6dd5-43cf-a0ee-274b0b638c01",
   "metadata": {},
   "outputs": [],
   "source": []
  }
 ],
 "metadata": {
  "kernelspec": {
   "display_name": "deep-agents-from-scratch",
   "language": "python",
   "name": "python3"
  },
  "language_info": {
   "codemirror_mode": {
    "name": "ipython",
    "version": 3
   },
   "file_extension": ".py",
   "mimetype": "text/x-python",
   "name": "python",
   "nbconvert_exporter": "python",
   "pygments_lexer": "ipython3",
   "version": "3.11.11"
  }
 },
 "nbformat": 4,
 "nbformat_minor": 5
}
