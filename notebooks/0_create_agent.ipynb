{
 "cells": [
  {
   "cell_type": "markdown",
   "id": "8b7114f7-abee-4b4f-a9bf-fbd7ac553357",
   "metadata": {},
   "source": [
    "**환경 변수 로드**: 첫 번째 모델의 “설정하기”를 참조하세요. \n",
    "\n",
    "`dotenv` [문서](https://pypi.org/project/python-dotenv/)는 `../.env` 파일을 찾습니다. 해당 파일을 발견하면, 현재 셸의 모든 변수를 덮어쓰며 그곳에서 환경 변수를 로드합니다. \n",
    "\n",
    "파일을 찾지 못하면 현재 셸에 있는 변수가 사용됩니다."
   ]
  },
  {
   "cell_type": "code",
   "execution_count": 1,
   "id": "38cb48f0",
   "metadata": {},
   "outputs": [],
   "source": [
    "import os\n",
    "\n",
    "from dotenv import load_dotenv\n",
    "\n",
    "load_dotenv(os.path.join(\".\", \".env\"), override=True)\n",
    "\n",
    "# automatically reload all modules before executing new code. The captures changes in local packages.\n",
    "%load_ext autoreload\n",
    "%autoreload 2"
   ]
  },
  {
   "attachments": {},
   "cell_type": "markdown",
   "id": "09dd8911",
   "metadata": {
    "vscode": {
     "languageId": "plaintext"
    }
   },
   "source": [
    "## Create React Agent - 사전 구축된 에이전트\n",
    "\n",
    "<img src=\"./assets/agent_header.png\" width=\"800\" style=\"display:block; margin-left:0;\">\n",
    "\n",
    "이 과정에서는 [Deep Agent](https://blog.langchain.com/deep-agents/)를 구축하게 됩니다. LangGraph의 ‘사전 구축된’ 에이전트 추상화를 기반으로 구축하여 코드를 크게 간소화할 것입니다. 이 강의에서는 사전 구축된 ReAct 에이전트에 대해 배웁니다. 학습 내용은 다음과 같습니다:\n",
    "- ReAct 에이전트란 무엇인가\n",
    "- 구현 기능 및 추가 정보 확인 방법\n",
    "    - 도구로 에이전트 구축하기\n",
    "    - 그래프, 상태 및 메시지\n",
    "    - 도구로 상태 접근 및 수정하기\n",
    "    - <span style=\"font-size:0.8em;\">🪝</span> 훅! 및 구조화된 응답\n"
   ]
  },
  {
   "cell_type": "markdown",
   "id": "b96d31dc-3ffb-4afb-85ef-5e10f9a85f24",
   "metadata": {},
   "source": [
    "### ReAct 에이전트란 무엇인가\n",
    "\n",
    "\n",
    "<img src=\"./assets/agent.png\"\n",
    "     style=\"float:left; max-width:300px; height:auto; margin:0 1rem 0.5rem 0;\">\n",
    "<div style=\"max-width: 1250px;\">\n",
    "    \n",
    "LangGraph의 오픈소스 `create_react_agent`([여기 참조](https://langchain-ai.github.io/langgraph/reference/agents/#langgraph.prebuilt.chat_agent_executor.create_react_agent)) 추상화를 사용하게 될 것입니다. **ReAct 에이전트**는 “추론과 행동”(ReAct) 프레임워크를 사용하여 사슬형 사고(CoT) 추론과 외부 도구 사용을 결합하는 AI 에이전트입니다. 이 개념은 [ReAct: 언어 모델에서 추론과 행동의 시너지](https://arxiv.org/abs/2210.03629) 논문으로 널리 알려졌습니다. \n",
    "\n",
    "이 에이전트는 세 가지 구성 요소로 이루어집니다: 대규모 언어 모델(LLM), 사용 가능한 도구 세트, 지시를 제공하는 프롬프트입니다.\n",
    "\n",
    "LLM은 루프 방식으로 작동합니다. 각 반복에서 LLM은 사용 가능한 도구 목록을 포함한 컨텍스트를 검토합니다. 도구를 호출할 필요가 있는지 결정합니다. 호출할 도구를 선택하고 도구 호출을 구성합니다. 이 호출은 실행을 위해 도구 노드로 전송됩니다. 도구 노드는 해당 도구를 실행하고 결과(관측값)를 LLM으로 다시 전송합니다. LLM은 관측값을 수신하여 다음 행동을 결정하는 데 활용합니다. 이 루프는 중지 조건이 충족될 때까지 계속됩니다. 일반적으로 에이전트가 더 이상 도구를 호출할 필요가 없다고 판단할 때 중지됩니다.\n",
    "</div>\n",
    "\n",
    "<div style=\"clear:both;\"></div>\n",
    "\n",
    "> 참고: `create_react_agent`는 곧 출시될 V1에서 이동됩니다! LangChain에 포함되며 이름이 단순한 `create_agent`로 변경될 예정입니다."
   ]
  },
  {
   "attachments": {},
   "cell_type": "markdown",
   "id": "038dca59",
   "metadata": {},
   "source": [
    "### LangGraph 사전 구축 `create_react_agent`의 주요 기능\n",
    "\n",
    "`create_react_agent` 추상화와 함께 제공되는 기능 중 일부를 소개합니다. 본 과정에서는 모든 기능을 활용하지는 않지만, `create_react_agent`를 사용하여 과정을 구축하는 동기를 부여합니다(자세한 내용은 [여기](https://langchain-ai.github.io/langgraph/agents/overview/#what-is-an-agent)에서 확인하세요):\n",
    "\n",
    "- [메모리 통합](../how-tos/memory/add-memory.md): _단기_ (세션 기반) 및 _장기_ (세션 간 지속적) 메모리에 대한 네이티브 지원으로, 챗봇 및 어시스턴트에서 상태 유지 동작을 가능하게 합니다.\n",
    "- [인간 개입 제어](../concepts/human_in_the_loop.md): 웹소켓 기반 솔루션과 달리 실시간 상호작용에 국한되지 않고, 실행을 무기한 일시 중지하여 인간 피드백을 기다릴 수 있습니다. 이를 통해 워크플로우의 어느 단계에서든 비동기적 승인, 수정 또는 개입이 가능합니다.\n",
    "- [스트리밍 지원](../how-tos/streaming.md): 에이전트 상태, 모델 토큰, 도구 출력 또는 결합된 스트림의 실시간 스트리밍을 제공합니다.\n",
    "- [배포 도구](../tutorials/langgraph-platform/local-server.md): 인프라가 필요 없는 배포 도구를 포함합니다. [**LangGraph 플랫폼**](https://langchain-ai.github.io/langgraph/concepts/langgraph_platform/)은 테스트, 디버깅 및 배포를 지원합니다.\n",
    "  - [Studio](https://langchain-ai.github.io/langgraph/concepts/langgraph_studio/): 워크플로우 검사 및 디버깅을 위한 시각적 IDE.\n",
    "  - [LangSmith](https://smith.langchain.com/): 추적 및 평가 도구입니다.\n",
    "  - 프로덕션 환경을 위한 다양한 [배포 옵션](https://langchain-ai.github.io/langgraph/concepts/deployment_options.md)을 지원합니다.\n",
    "\n",
    "`create-react-agent`는 매우 정교하여 다양한 입력 형식을 수용하고 많은 커스터마이징을 허용합니다. 단순한 에이전트-툴 루프일 수도 있고, 프리/포스트 훅 및/또는 구조화된 출력을 통해 커스터마이징할 수도 있습니다.\n",
    "\n",
    "<div style=\"display:flex; justify-content:center; align-items:flex-end; gap:40px;\">\n",
    "\n",
    "  <figure style=\"margin:0; text-align:center; width:250px;\">\n",
    "    <img src=\"./assets/simple_agent.png\" style=\"max-height:350px; width:auto; display:block; margin:0 auto;\">  \n",
    "    <figcaption style=\"font-weight:bold; font-size:1.1em; margin-top:8px;\">단순 에이전트</figcaption>\n",
    "  </figure>\n",
    "\n",
    "  <figure style=\"margin:0; text-align:center; width:250px;\">\n",
    "    <img src=\"./assets/complex_agent.png\" style=\"max-height:350px; width:auto; display:block; margin:0 auto;\">  \n",
    "    <figcaption style=\"font-weight:bold; font-size:1.1em; margin-top:8px;\">복잡한 에이전트</figcaption>\n",
    "  </figure>\n",
    "\n",
    "</div>\n",
    "</div>\n",
    "<br>\n",
    "\n",
    "이 과정에서는 간단한 형식을 사용하게 될 것입니다. 다만 과정 후반부에 하위 에이전트 <span style=\"font-size:20px;\">🤖 🤖 🤖</span>을 추가하게 될 것입니다!   \n",
    "\n",
    "  "
   ]
  },
  {
   "cell_type": "markdown",
   "id": "ee33aed8-3c03-4fe3-b2ba-ae448ad86111",
   "metadata": {},
   "source": [
    "#### 도구를 활용한 에이전트 구축\n",
    "\n",
    "시작하기 위해 간단한 계산기 도구로 에이전트를 만들어 보겠습니다. 구성 방식을 파악한 후 더 자세한 내용을 살펴보겠습니다.\n"
   ]
  },
  {
   "cell_type": "code",
   "execution_count": 2,
   "id": "77dbbaf1-a3d2-4094-80c6-55dbb1632f21",
   "metadata": {},
   "outputs": [],
   "source": [
    "from typing import Annotated, List, Literal, Union\n",
    "\n",
    "from langchain_core.messages import ToolMessage\n",
    "from langchain_core.tools import InjectedToolCallId, tool\n",
    "from langgraph.prebuilt import InjectedState\n",
    "from langgraph.types import Command\n",
    "\n",
    "\n",
    "@tool\n",
    "def calculator(\n",
    "    operation: Literal[\"add\",\"subtract\",\"multiply\",\"divide\"],\n",
    "    a: Union[int, float],\n",
    "    b: Union[int, float],\n",
    ") -> Union[int, float]:\n",
    "    \"\"\"\n",
    "    두 개의 입력값을 받는 계산기 도구를 정의하세요.\n",
    "\n",
    "    인수:\n",
    "        연산(문자열): 수행할 연산(‘더하기’, ‘빼기’, ‘곱하기’, ‘나누기’).\n",
    "        a(부동소수점 또는 정수): 첫 번째 숫자.\n",
    "        b(부동소수점 또는 정수): 두 번째 숫자.\n",
    "        \n",
    "    반환값:\n",
    "        result (float 또는 int): 연산 결과\n",
    "    예시\n",
    "        나누기: result   = a / b\n",
    "        빼기: result = a - b\n",
    "    \"\"\"\n",
    "    if operation == 'divide' and b == 0:\n",
    "        return {\"error\": \"Division by zero is not allowed.\"}\n",
    "\n",
    "    # Perform calculation\n",
    "    if operation == 'add':\n",
    "        result = a + b\n",
    "    elif operation == 'subtract':\n",
    "        result = a - b\n",
    "    elif operation == 'multiply':\n",
    "        result = a * b\n",
    "    elif operation == 'divide':\n",
    "        result = a / b\n",
    "    else: \n",
    "        result = \"unknown operation\"\n",
    "    return result\n"
   ]
  },
  {
   "cell_type": "code",
   "execution_count": 3,
   "id": "95c0fc53",
   "metadata": {},
   "outputs": [
    {
     "data": {
      "image/png": "[encoded data removed]",
      "text/plain": [
       "<IPython.core.display.Image object>"
      ]
     },
     "metadata": {},
     "output_type": "display_data"
    }
   ],
   "source": [
    "from IPython.display import Image, display\n",
    "from langchain.chat_models import init_chat_model\n",
    "from langchain_core.tools import tool\n",
    "from langgraph.prebuilt import create_react_agent\n",
    "from notebooks.utils import format_messages\n",
    "\n",
    "# Create agent using create_react_agent directly\n",
    "\n",
    "SYSTEM_PROMPT = \"당신은 계산기 사용에 능숙한 유용한 산술 보조자입니다.\"\n",
    "\n",
    "model = init_chat_model(model=\"openai:gpt-4.1-mini\", temperature=0.0)\n",
    "tools = [calculator]\n",
    "\n",
    "# Create agent\n",
    "agent = create_react_agent(\n",
    "    model,\n",
    "    tools,\n",
    "    prompt=SYSTEM_PROMPT,\n",
    "    #state_schema=AgentState,  # default\n",
    ").with_config({\"recursion_limit\": 20})  #recursion_limit limits the number of steps the agent will run\n",
    "\n",
    "# Show the agent\n",
    "display(Image(agent.get_graph(xray=True).draw_mermaid_png()))"
   ]
  },
  {
   "cell_type": "code",
   "execution_count": 4,
   "id": "6e2aa0ee-0e6b-49ac-9085-39f5f50969ba",
   "metadata": {},
   "outputs": [
    {
     "data": {
      "text/plain": [
       "langgraph.graph.state.CompiledStateGraph"
      ]
     },
     "execution_count": 4,
     "metadata": {},
     "output_type": "execute_result"
    }
   ],
   "source": [
    "# create_react_agent returns a compiled graph\n",
    "type(agent)"
   ]
  },
  {
   "cell_type": "markdown",
   "id": "abf73e64-eb00-4d13-89cb-5857e4861f34",
   "metadata": {},
   "source": [
    "### 그래프, 상태 및 메시지\n",
    "잠시 후 에이전트를 실행할 예정이지만, 먼저 그래프를 좀 더 자세히 살펴보겠습니다.\n",
    "`create_react_agent`를 구현하는 코드는 [여기](https://github.com/langchain-ai/langgraph/blob/c37c9cbab3287f0988fabe2b853569a23960e3db/libs/prebuilt/langgraph/prebuilt/chat_agent_executor.py)에서 확인할 수 있습니다.  간단한 버전을 직접 만들어보고 싶다면 [Foundation: LangGraph 소개, 모듈 1, 레슨 6, 에이전트](https://academy.langchain.com/courses/take/intro-to-langgraph/lessons/58239232-lesson-6-agent)를 참고하세요.\n",
    "\n",
    "**에이전트 정의하기**: 위와 같이 에이전트를 정의할 때 다음을 제공해야 합니다: 모델, 하나 이상의 도구, “시스템” 프롬프트, 그리고 상태 스키마(기본값: <a href=\"https://github.com/langchain-ai/langgraph/blob/ e365b2b8bd695e03d758b19ff109152b2e342a87/libs/prebuilt/langgraph/prebuilt/chat_agent_executor.py#L62-L69\">\n",
    "  <code style=\"color:#0366d6;\">AgentState</code>\n",
    "</a>로, 주로 메시지 목록으로 구성됩니다. ([여기서 통화 세부 정보 참조.](https://langchain-ai.github.io/langgraph/reference/agents/#langgraph.prebuilt.chat_agent_executor.create_react_agent))\n",
    "내부적으로는 위에서 보여준 LangGraph 그래프를 정의하고 컴파일하는 작업입니다. 중요한 세부사항은 tools 노드가 또 다른 사전 구축된 항목인 `ToolNode`라는 점인데, 이에 대한 설명은 [여기](https://github.com/langchain-ai/langgraph/blob/e365b2b8bd695e03d758b19ff109152b2e342a87/libs/prebuilt/langgraph/prebuilt/tool_node.py#L239-L293)에서 설명됩니다. 툴 노드는 LLM의 메시지에서 식별된 모든 도구를 실행하고 결과를 반환합니다.\n",
    "\n",
    "**에이전트 호출:**\n",
    "에이전트를 호출하여 결과를 확인해 보겠습니다!"
   ]
  },
  {
   "cell_type": "code",
   "execution_count": 5,
   "id": "3d2648f0",
   "metadata": {},
   "outputs": [
    {
     "data": {
      "text/html": [
       "<pre style=\"white-space:pre;overflow-x:auto;line-height:normal;font-family:Menlo,'DejaVu Sans Mono',consolas,'Courier New',monospace\"><span style=\"color: #000080; text-decoration-color: #000080\">╭─────────────────────────────────────────────────── 🧑 Human ────────────────────────────────────────────────────╮</span>\n",
       "<span style=\"color: #000080; text-decoration-color: #000080\">│</span> What is 3.1 * 4.2?                                                                                              <span style=\"color: #000080; text-decoration-color: #000080\">│</span>\n",
       "<span style=\"color: #000080; text-decoration-color: #000080\">╰─────────────────────────────────────────────────────────────────────────────────────────────────────────────────╯</span>\n",
       "</pre>\n"
      ],
      "text/plain": [
       "\u001b[34m╭─\u001b[0m\u001b[34m──────────────────────────────────────────────────\u001b[0m\u001b[34m 🧑 Human \u001b[0m\u001b[34m───────────────────────────────────────────────────\u001b[0m\u001b[34m─╮\u001b[0m\n",
       "\u001b[34m│\u001b[0m What is 3.1 * 4.2?                                                                                              \u001b[34m│\u001b[0m\n",
       "\u001b[34m╰─────────────────────────────────────────────────────────────────────────────────────────────────────────────────╯\u001b[0m\n"
      ]
     },
     "metadata": {},
     "output_type": "display_data"
    },
    {
     "data": {
      "text/html": [
       "<pre style=\"white-space:pre;overflow-x:auto;line-height:normal;font-family:Menlo,'DejaVu Sans Mono',consolas,'Courier New',monospace\"><span style=\"color: #c0c0c0; text-decoration-color: #c0c0c0\">╭───────────────────────────────────────────────────── 📝 AI ─────────────────────────────────────────────────────╮</span>\n",
       "<span style=\"color: #c0c0c0; text-decoration-color: #c0c0c0\">│</span>                                                                                                                 <span style=\"color: #c0c0c0; text-decoration-color: #c0c0c0\">│</span>\n",
       "<span style=\"color: #c0c0c0; text-decoration-color: #c0c0c0\">│</span>                                                                                                                 <span style=\"color: #c0c0c0; text-decoration-color: #c0c0c0\">│</span>\n",
       "<span style=\"color: #c0c0c0; text-decoration-color: #c0c0c0\">│</span> 🔧 Tool Call: calculator                                                                                        <span style=\"color: #c0c0c0; text-decoration-color: #c0c0c0\">│</span>\n",
       "<span style=\"color: #c0c0c0; text-decoration-color: #c0c0c0\">│</span>    Args: {                                                                                                      <span style=\"color: #c0c0c0; text-decoration-color: #c0c0c0\">│</span>\n",
       "<span style=\"color: #c0c0c0; text-decoration-color: #c0c0c0\">│</span>   \"operation\": \"multiply\",                                                                                      <span style=\"color: #c0c0c0; text-decoration-color: #c0c0c0\">│</span>\n",
       "<span style=\"color: #c0c0c0; text-decoration-color: #c0c0c0\">│</span>   \"a\": 3.1,                                                                                                     <span style=\"color: #c0c0c0; text-decoration-color: #c0c0c0\">│</span>\n",
       "<span style=\"color: #c0c0c0; text-decoration-color: #c0c0c0\">│</span>   \"b\": 4.2                                                                                                      <span style=\"color: #c0c0c0; text-decoration-color: #c0c0c0\">│</span>\n",
       "<span style=\"color: #c0c0c0; text-decoration-color: #c0c0c0\">│</span> }                                                                                                               <span style=\"color: #c0c0c0; text-decoration-color: #c0c0c0\">│</span>\n",
       "<span style=\"color: #c0c0c0; text-decoration-color: #c0c0c0\">│</span>    ID: call_xe8esnEPjYrJB3mTfeLG8yJD                                                                            <span style=\"color: #c0c0c0; text-decoration-color: #c0c0c0\">│</span>\n",
       "<span style=\"color: #c0c0c0; text-decoration-color: #c0c0c0\">╰─────────────────────────────────────────────────────────────────────────────────────────────────────────────────╯</span>\n",
       "</pre>\n"
      ],
      "text/plain": [
       "\u001b[37m╭─\u001b[0m\u001b[37m────────────────────────────────────────────────────\u001b[0m\u001b[37m 📝 AI \u001b[0m\u001b[37m────────────────────────────────────────────────────\u001b[0m\u001b[37m─╮\u001b[0m\n",
       "\u001b[37m│\u001b[0m                                                                                                                 \u001b[37m│\u001b[0m\n",
       "\u001b[37m│\u001b[0m                                                                                                                 \u001b[37m│\u001b[0m\n",
       "\u001b[37m│\u001b[0m 🔧 Tool Call: calculator                                                                                        \u001b[37m│\u001b[0m\n",
       "\u001b[37m│\u001b[0m    Args: {                                                                                                      \u001b[37m│\u001b[0m\n",
       "\u001b[37m│\u001b[0m   \"operation\": \"multiply\",                                                                                      \u001b[37m│\u001b[0m\n",
       "\u001b[37m│\u001b[0m   \"a\": 3.1,                                                                                                     \u001b[37m│\u001b[0m\n",
       "\u001b[37m│\u001b[0m   \"b\": 4.2                                                                                                      \u001b[37m│\u001b[0m\n",
       "\u001b[37m│\u001b[0m }                                                                                                               \u001b[37m│\u001b[0m\n",
       "\u001b[37m│\u001b[0m    ID: call_xe8esnEPjYrJB3mTfeLG8yJD                                                                            \u001b[37m│\u001b[0m\n",
       "\u001b[37m╰─────────────────────────────────────────────────────────────────────────────────────────────────────────────────╯\u001b[0m\n"
      ]
     },
     "metadata": {},
     "output_type": "display_data"
    },
    {
     "data": {
      "text/html": [
       "<pre style=\"white-space:pre;overflow-x:auto;line-height:normal;font-family:Menlo,'DejaVu Sans Mono',consolas,'Courier New',monospace\"><span style=\"color: #808000; text-decoration-color: #808000\">╭──────────────────────────────────────────────── 🔧 Tool Output ─────────────────────────────────────────────────╮</span>\n",
       "<span style=\"color: #808000; text-decoration-color: #808000\">│</span> 13.020000000000001                                                                                              <span style=\"color: #808000; text-decoration-color: #808000\">│</span>\n",
       "<span style=\"color: #808000; text-decoration-color: #808000\">╰─────────────────────────────────────────────────────────────────────────────────────────────────────────────────╯</span>\n",
       "</pre>\n"
      ],
      "text/plain": [
       "\u001b[33m╭─\u001b[0m\u001b[33m───────────────────────────────────────────────\u001b[0m\u001b[33m 🔧 Tool Output \u001b[0m\u001b[33m────────────────────────────────────────────────\u001b[0m\u001b[33m─╮\u001b[0m\n",
       "\u001b[33m│\u001b[0m 13.020000000000001                                                                                              \u001b[33m│\u001b[0m\n",
       "\u001b[33m╰─────────────────────────────────────────────────────────────────────────────────────────────────────────────────╯\u001b[0m\n"
      ]
     },
     "metadata": {},
     "output_type": "display_data"
    },
    {
     "data": {
      "text/html": [
       "<pre style=\"white-space:pre;overflow-x:auto;line-height:normal;font-family:Menlo,'DejaVu Sans Mono',consolas,'Courier New',monospace\"><span style=\"color: #c0c0c0; text-decoration-color: #c0c0c0\">╭───────────────────────────────────────────────────── 📝 AI ─────────────────────────────────────────────────────╮</span>\n",
       "<span style=\"color: #c0c0c0; text-decoration-color: #c0c0c0\">│</span> 3.1 곱하기 4.2는 약 13.02입니다.                                                                                <span style=\"color: #c0c0c0; text-decoration-color: #c0c0c0\">│</span>\n",
       "<span style=\"color: #c0c0c0; text-decoration-color: #c0c0c0\">╰─────────────────────────────────────────────────────────────────────────────────────────────────────────────────╯</span>\n",
       "</pre>\n"
      ],
      "text/plain": [
       "\u001b[37m╭─\u001b[0m\u001b[37m────────────────────────────────────────────────────\u001b[0m\u001b[37m 📝 AI \u001b[0m\u001b[37m────────────────────────────────────────────────────\u001b[0m\u001b[37m─╮\u001b[0m\n",
       "\u001b[37m│\u001b[0m 3.1 곱하기 4.2는 약 13.02입니다.                                                                                \u001b[37m│\u001b[0m\n",
       "\u001b[37m╰─────────────────────────────────────────────────────────────────────────────────────────────────────────────────╯\u001b[0m\n"
      ]
     },
     "metadata": {},
     "output_type": "display_data"
    }
   ],
   "source": [
    "# Example usage\n",
    "result1 = agent.invoke(\n",
    "    {\n",
    "        \"messages\": [\n",
    "            {\n",
    "                \"role\": \"user\",\n",
    "                \"content\": \"What is 3.1 * 4.2?\",\n",
    "            }\n",
    "        ],\n",
    "    }\n",
    ")\n",
    "\n",
    "format_messages(result1[\"messages\"])"
   ]
  },
  {
   "cell_type": "markdown",
   "id": "8b437e65-8b4f-48ec-9ab5-b988fe6b536d",
   "metadata": {},
   "source": [
    "**에이전트 호출:**\n",
    "시퀀스 다이어그램은 모델이 호출될 때 발생하는 과정을 살펴보는 훌륭한 방법입니다.\n",
    "\n",
    "<div style=\"display:none\">\n",
    "    머메이드 코드는 향후 사용을 위해 여기에 저장됩니다\n",
    "```mermaid\n",
    "sequenceDiagram\n",
    "    participant U as User\n",
    "    participant A as LLM\n",
    "    participant T as Tools\n",
    "    Note over A: System message<br/>“You are a helpful assistant...”\n",
    "    U->>A: Initial input,<br/>“What is 3.1 * 4.2?”\n",
    "    도구 호출이 존재하는 동안 반복\n",
    "        A->>T: AIMessage(id=“call_123”, tool_calls=[...])\n",
    "        T-->>A: ToolMessage(tool_call_id=“call_123”, content=\"xx\")\n",
    "    종료\n",
    "    A->>U: 최종 상태 반환\n",
    "```\n",
    "</div> \n",
    "\n",
    "<img src=\"./assets/agent_sequence_diagram.png\"\n",
    "     style=\"float:left; max-width:500px; height:auto; margin:0 1rem 0.5rem 0;\">\n",
    "<div style=\"max-width: 1100px;\">\n",
    "이 예시에서 사용자 입력은 “3.1 * 4.2의 값은 무엇인가요?”입니다. 이 입력은 시스템 프롬프트 및 도구 설명과 함께 LLM으로 전송됩니다.  \n",
    "<br/>\n",
    "<p style=\"margin-bottom:0; margin-top:5px;\">LLM은 계산기 도구를 호출해야 한다고 결정합니다. <br/> `messages`에 `AIMessage`를 추가합니다:</p>\n",
    "<pre style=\"font-size:0.85em; margin-top:5px; margin-bottom:0;\">\n",
    "<code class=\"language-python\">AIMessage(\n",
    "    content=\"\",\n",
    "    tool_calls=[{“id”: “call_123”,\n",
    "                 “name”: “calculator”,\n",
    "                 “args”: {“a”: 3.1, “b”: 4.2, ‘operation’: “multiply”}}])</code></pre>   \n",
    "</code></pre>\n",
    "<br/>\n",
    "<p style=\"margin-bottom:0;\">도구 노드는 AIMessage를 수신하고 모든 도구 호출을 처리합니다. tool_call_ids를 추적합니다. `messages`에 ToolMessage로 응답합니다: </p>\n",
    "<pre style=\"font-size:0.85em; margin-top:5px; margin-bottom:10px;\">\n",
    "<code class=\"language-python\">ToolMessage(\n",
    "    content=\"13.02\",         # 도구 실행 결과.\n",
    "    tool_call_id=\"call_123\")  # AIMessage.tool_calls의 ID와 일치.\n",
    "</code></pre>\n",
    "LLM은 `messages`의 응답을 검토하고 완료된 것으로 판단한 후 사용자에게 보낼 `AIMessage`를 생성합니다.\n",
    "\n",
    "</div>\n",
    "\n",
    "<div style=\"clear:both;\"></div>"
   ]
  },
  {
   "cell_type": "markdown",
   "id": "784297e4-a617-41f6-a300-9ff06598c023",
   "metadata": {},
   "source": [
    "[LangSmith의 추적 기록](https://smith.langchain.com/public/3d2062e3-8713-4510-a797-801abe44d1f7/r)을 살펴보겠습니다. 주목할 점은 다음과 같습니다:\n",
    "- LLM 호출 메타데이터에서 ‘calculator’ 도구 설명을 확인할 수 있습니다.\n",
    "- 모델의 응답은 인수를 포함한 도구 호출입니다.\n",
    "- 최종 LLM 호출에서 도구 노드가 제공한 tool_call_id가 일치하는지 확인하세요."
   ]
  },
  {
   "cell_type": "markdown",
   "id": "0378644e-7630-40f7-946f-00f4e5d3a912",
   "metadata": {},
   "source": [
    "#### 직접 해보세요\n",
    "잠시 시간을 내어 직접 해보세요. 쿼리를 실행하고 LangSmith에서 확인하여 예상과 일치하는지 살펴보세요. 계산기를 확장해 보세요. 예를 들어 제곱 함수를 추가해 볼 수도 있습니다."
   ]
  },
  {
   "cell_type": "code",
   "execution_count": 6,
   "id": "8fb3e30b-dec9-43a4-a340-6aee9370bf80",
   "metadata": {},
   "outputs": [
    {
     "data": {
      "text/html": [
       "<pre style=\"white-space:pre;overflow-x:auto;line-height:normal;font-family:Menlo,'DejaVu Sans Mono',consolas,'Courier New',monospace\"><span style=\"color: #000080; text-decoration-color: #000080\">╭─────────────────────────────────────────────────── 🧑 Human ────────────────────────────────────────────────────╮</span>\n",
       "<span style=\"color: #000080; text-decoration-color: #000080\">│</span> What is ...?                                                                                                    <span style=\"color: #000080; text-decoration-color: #000080\">│</span>\n",
       "<span style=\"color: #000080; text-decoration-color: #000080\">╰─────────────────────────────────────────────────────────────────────────────────────────────────────────────────╯</span>\n",
       "</pre>\n"
      ],
      "text/plain": [
       "\u001b[34m╭─\u001b[0m\u001b[34m──────────────────────────────────────────────────\u001b[0m\u001b[34m 🧑 Human \u001b[0m\u001b[34m───────────────────────────────────────────────────\u001b[0m\u001b[34m─╮\u001b[0m\n",
       "\u001b[34m│\u001b[0m What is ...?                                                                                                    \u001b[34m│\u001b[0m\n",
       "\u001b[34m╰─────────────────────────────────────────────────────────────────────────────────────────────────────────────────╯\u001b[0m\n"
      ]
     },
     "metadata": {},
     "output_type": "display_data"
    },
    {
     "data": {
      "text/html": [
       "<pre style=\"white-space:pre;overflow-x:auto;line-height:normal;font-family:Menlo,'DejaVu Sans Mono',consolas,'Courier New',monospace\"><span style=\"color: #c0c0c0; text-decoration-color: #c0c0c0\">╭───────────────────────────────────────────────────── 📝 AI ─────────────────────────────────────────────────────╮</span>\n",
       "<span style=\"color: #c0c0c0; text-decoration-color: #c0c0c0\">│</span> 안녕하세요! 궁금한 점을 구체적으로 말씀해 주시면 도와드리겠습니다. 무엇이 궁금하신가요?                         <span style=\"color: #c0c0c0; text-decoration-color: #c0c0c0\">│</span>\n",
       "<span style=\"color: #c0c0c0; text-decoration-color: #c0c0c0\">╰─────────────────────────────────────────────────────────────────────────────────────────────────────────────────╯</span>\n",
       "</pre>\n"
      ],
      "text/plain": [
       "\u001b[37m╭─\u001b[0m\u001b[37m────────────────────────────────────────────────────\u001b[0m\u001b[37m 📝 AI \u001b[0m\u001b[37m────────────────────────────────────────────────────\u001b[0m\u001b[37m─╮\u001b[0m\n",
       "\u001b[37m│\u001b[0m 안녕하세요! 궁금한 점을 구체적으로 말씀해 주시면 도와드리겠습니다. 무엇이 궁금하신가요?                         \u001b[37m│\u001b[0m\n",
       "\u001b[37m╰─────────────────────────────────────────────────────────────────────────────────────────────────────────────────╯\u001b[0m\n"
      ]
     },
     "metadata": {},
     "output_type": "display_data"
    }
   ],
   "source": [
    "# Try your own \n",
    "result = agent.invoke(\n",
    "    {\n",
    "        \"messages\": [\n",
    "            {\n",
    "                \"role\": \"user\",\n",
    "                \"content\": \"What is ...?\",\n",
    "            }\n",
    "        ],\n",
    "    }\n",
    ")\n",
    "\n",
    "format_messages(result[\"messages\"])"
   ]
  },
  {
   "cell_type": "markdown",
   "id": "146bef29-b1f2-45e1-883b-5fc51f6d54df",
   "metadata": {},
   "source": [
    "### 도구 내에서 상태 접근 및 수정\n",
    "#### 상태\n",
    "LangGraph의 유용한 기능 중 하나는 상태입니다. 그래프는 각 노드가 그래프 실행 기간 동안 사용할 수 있고 장기 저장소에 지속 저장될 수 있는 타입화된 데이터 구조를 가집니다. 이를 통해 노드 간 공유할 정보를 저장하거나, 그래프를 디버깅하거나, 장시간 실행 중인 그래프를 이전 시점으로 재설정할 수 있습니다.\n",
    "\n",
    "그래프에 상태를 정의할 때는 데이터 유형과 ‘리듀서’ 함수를 지정합니다. 리듀서는 해당 요소에 정보가 추가되는 방식을 설명합니다. 이는 특히 작업이 여러 노드에 매핑되어 병렬로 실행되며 상태를 동시에 업데이트할 때 유용합니다.\n",
    "\n",
    "이 예제에서는 기본 `AgentState`가 사용되었습니다. 이는 [langgraph.prebuilt. chat_agent_executor](https://github.com/langchain-ai/langgraph/blob/e365b2b8bd695e03d758b19ff109152b2e342a87/libs/prebuilt/langgraph/prebuilt/chat_agent_executor.py)에 정의되어 있습니다.   \n",
    "\n",
    "```python\n",
    "    class AgentState(TypedDict):\n",
    "        “”“에이전트의 상태.”“”\n",
    "        messages: Annotated[Sequence[BaseMessage], add_messages]\n",
    "        remaining_steps: NotRequired[RemainingSteps]\n",
    "```\n",
    "        \n",
    "- `messages`는 `BaseMessage`의 리스트로, LLM과의 메시지를 포함합니다.\n",
    "    - typing.Annotated는 타입 힌트에 임의의 메타데이터를 첨부할 수 있게 합니다. 구문: Annotated[Type, metadata1, metadata2, ...] \n",
    "- `add_messages` 리듀서는 메시지 목록 끝에 새 메시지를 추가합니다.\n",
    "- `remaining_steps`는 그래프 내 단계를 추적합니다. `recursion_limit`로 초기화되지만, 이는 그래프가 추적하며 사용자에게는 표시되지 않습니다.\n",
    "간단히 살펴보겠습니다."
   ]
  },
  {
   "cell_type": "code",
   "execution_count": 7,
   "id": "35787543-06dc-43cb-8f18-2abbf7bf3b07",
   "metadata": {},
   "outputs": [
    {
     "data": {
      "application/json": {
       "messages": [
        {
         "data": {
          "additional_kwargs": {},
          "content": "What is 3.1 * 4.2?",
          "example": false,
          "id": "d8e40d4f-3e09-4654-9e1d-f3f27f3ad7f8",
          "name": null,
          "response_metadata": {},
          "type": "human"
         },
         "type": "human"
        },
        {
         "data": {
          "additional_kwargs": {
           "refusal": null,
           "tool_calls": [
            {
             "function": {
              "arguments": "{\"operation\":\"multiply\",\"a\":3.1,\"b\":4.2}",
              "name": "calculator"
             },
             "id": "call_xe8esnEPjYrJB3mTfeLG8yJD",
             "type": "function"
            }
           ]
          },
          "content": "",
          "example": false,
          "id": "run--9aea6577-62b7-4441-9c05-6b7177b87004-0",
          "invalid_tool_calls": [],
          "name": null,
          "response_metadata": {
           "finish_reason": "tool_calls",
           "id": "chatcmpl-CL0foUUn7yEjCPLKBzhxGhmMYbP8q",
           "logprobs": null,
           "model_name": "gpt-4.1-mini-2025-04-14",
           "service_tier": "default",
           "system_fingerprint": "fp_4fce0778af",
           "token_usage": {
            "completion_tokens": 26,
            "completion_tokens_details": {
             "accepted_prediction_tokens": 0,
             "audio_tokens": 0,
             "reasoning_tokens": 0,
             "rejected_prediction_tokens": 0
            },
            "prompt_tokens": 217,
            "prompt_tokens_details": {
             "audio_tokens": 0,
             "cached_tokens": 0
            },
            "total_tokens": 243
           }
          },
          "tool_calls": [
           {
            "args": {
             "a": 3.1,
             "b": 4.2,
             "operation": "multiply"
            },
            "id": "call_xe8esnEPjYrJB3mTfeLG8yJD",
            "name": "calculator",
            "type": "tool_call"
           }
          ],
          "type": "ai",
          "usage_metadata": {
           "input_token_details": {
            "audio": 0,
            "cache_read": 0
           },
           "input_tokens": 217,
           "output_token_details": {
            "audio": 0,
            "reasoning": 0
           },
           "output_tokens": 26,
           "total_tokens": 243
          }
         },
         "type": "ai"
        },
        {
         "data": {
          "additional_kwargs": {},
          "artifact": null,
          "content": "13.020000000000001",
          "id": "38012912-4f27-4526-8e38-c735bb9aba3a",
          "name": "calculator",
          "response_metadata": {},
          "status": "success",
          "tool_call_id": "call_xe8esnEPjYrJB3mTfeLG8yJD",
          "type": "tool"
         },
         "type": "tool"
        },
        {
         "data": {
          "additional_kwargs": {
           "refusal": null
          },
          "content": "3.1 곱하기 4.2는 약 13.02입니다.",
          "example": false,
          "id": "run--940e888d-7afa-4d2a-ba9d-c1d00a1fd78d-0",
          "invalid_tool_calls": [],
          "name": null,
          "response_metadata": {
           "finish_reason": "stop",
           "id": "chatcmpl-CL0fpiFUeSL8EXE68htytCV1dqByR",
           "logprobs": null,
           "model_name": "gpt-4.1-mini-2025-04-14",
           "service_tier": "default",
           "system_fingerprint": "fp_6d7dcc9a98",
           "token_usage": {
            "completion_tokens": 19,
            "completion_tokens_details": {
             "accepted_prediction_tokens": 0,
             "audio_tokens": 0,
             "reasoning_tokens": 0,
             "rejected_prediction_tokens": 0
            },
            "prompt_tokens": 257,
            "prompt_tokens_details": {
             "audio_tokens": 0,
             "cached_tokens": 0
            },
            "total_tokens": 276
           }
          },
          "tool_calls": [],
          "type": "ai",
          "usage_metadata": {
           "input_token_details": {
            "audio": 0,
            "cache_read": 0
           },
           "input_tokens": 257,
           "output_token_details": {
            "audio": 0,
            "reasoning": 0
           },
           "output_tokens": 19,
           "total_tokens": 276
          }
         },
         "type": "ai"
        }
       ]
      },
      "text/plain": [
       "<IPython.core.display.JSON object>"
      ]
     },
     "execution_count": 7,
     "metadata": {
      "application/json": {
       "expanded": false,
       "root": "root"
      }
     },
     "output_type": "execute_result"
    }
   ],
   "source": [
    "from IPython.display import JSON\n",
    "from langchain_core.messages import messages_to_dict\n",
    "\n",
    "JSON({\"messages\": messages_to_dict(result1[\"messages\"])})"
   ]
  },
  {
   "cell_type": "markdown",
   "id": "4720982e-16c2-4b90-84d6-94aba6a13e04",
   "metadata": {},
   "source": [
    "#### 사용자 정의 상태\n",
    "계산기에 수행된 모든 연산 목록을 저장하도록 확장해 보겠습니다. 이를 위해 상태에 목록을 추가하고, 상태를 목록에 추가하는 리듀서 함수가 필요합니다. 이렇게 하면 목록이나 연산이 비어 있는 경우도 안전하게 처리할 수 있습니다."
   ]
  },
  {
   "cell_type": "code",
   "execution_count": 8,
   "id": "1ea8d331-3e9c-4195-99a1-fa5cf6659c11",
   "metadata": {},
   "outputs": [],
   "source": [
    "from langgraph.prebuilt.chat_agent_executor import AgentState\n",
    "\n",
    "\n",
    "def reduce_list(left: list | None, right: list | None) -> list:\n",
    "    \"\"\"두 목록을 안전하게 결합하며, 입력값 중 하나 또는 둘 다 None일 수 있는 경우를 처리합니다.\n",
    "\n",
    "    인수:\n",
    "        left (list | None): 결합할 첫 번째 목록 또는 None.\n",
    "        right (list | None): 결합할 두 번째 목록 또는 None.\n",
    "\n",
    "    반환값:\n",
    "        list: 두 입력 목록의 모든 요소를 포함하는 새 목록.\n",
    "               입력값이 None인 경우 빈 목록으로 처리됩니다.\n",
    "    \"\"\"\n",
    "    if not left:\n",
    "        left = []\n",
    "    if not right:\n",
    "        right = []\n",
    "    return left + right\n",
    "\n",
    "class CalcState(AgentState):\n",
    "    \"\"\"Graph State.\"\"\"\n",
    "    ops: Annotated[List[str], reduce_list]\n"
   ]
  },
  {
   "cell_type": "markdown",
   "id": "aebd4660-83b9-4a23-9108-a03cbd26877a",
   "metadata": {},
   "source": [
    "상태 접근 \n",
    "이제 계산기에 업데이트 기능을 추가할 수 있습니다. 여기서 문제가 발생합니다! 이제 상태가 계산기 도구의 인수가 되었습니다. \n",
    "<img src=\"./assets/state_arg_diagram.png\" width=\"800\" style=\"display:block; margin-left:0;\">\n",
    "도표에서 명확히 알 수 있듯이, LLM은 도구 호출을 생성하는 임무를 맡고 있지만, 그 컨텍스트에 `state` 인자가 없기 때문에 이를 구성할 수 없습니다!  \n",
    "해결책은 LLM 이후에 **상태를 주입**하는 것입니다.\n",
    "<img src=\"./assets/inject_state_diagram.png\" width=\"1000\" style=\"display:block; margin-left:0;\"> <img src=\"./assets/inject_state_diagram.png\" width=\"1000\" style=\"display:block; margin-left:0;\">"
   ]
  },
  {
   "cell_type": "markdown",
   "id": "a01aea69-1704-48ff-b33d-7484e35a691b",
   "metadata": {},
   "source": [
    "<div style=\"margin:0; padding:0\">\n",
    "  <p style=\"margin:0;\">이는 아래와 같이 <code>InjectedState</code> 어노테이션을 사용하여 구현됩니다.</p>\n",
    "  <pre style=\"font-size:0.90em; margin:0; padding-top:0;\">\n",
    "<code class=\"language-python\">    @tool\n",
    "    def calculator_wstate(\n",
    "        operation: Literal[“add”,“subtract”,‘multiply’,“divide”],\n",
    "        a: Union[int, float],\n",
    "        b: Union[int, float],\n",
    "        <span style=\"background:#fff3a3; padding:0 2px;\">상태: 주석 처리된[계산 상태, 주입된 상태],</span>  # ← LLM에 전송되지 않음\n",
    "        <span style=\"background:#fff3a3; padding:0 2px;\">tool_call_id: Annotated[str, InjectedToolCallId],</span>  # ← LLM에 전송되지 않음\n",
    "    ) -> Union[int, float]:\n",
    "</code></pre>\n",
    "<p style=\"margin:0; padding-top:4px;\">\n",
    "    이는 LLM에 제공되는 설명에서 <code>state</code>를 제거하고, <code>ToolNode</code>에서 도구를 호출할 때 이를 주입합니다. <code>tool_call_id</code>도 포함됩니다. 이는 다음 섹션에서 설명됩니다.\n",
    "  </p>\n",
    "</div>"
   ]
  },
  {
   "cell_type": "markdown",
   "id": "7dcaea07-fa1b-4b1a-bd1f-c7e77a6fe451",
   "metadata": {},
   "source": [
    "상태 업데이트\n",
    "도구는 일반적으로 상태의 `messages` 필드에 포함된 `ToolMessage`를 통해 관측 결과를 LLM에 반환합니다. 상태의 추가 멤버를 업데이트하려면 이 업데이트를 확장해야 합니다. 아래 반환 예시와 같이 `Command`를 사용하여 수행합니다. \n",
    "```python\n",
    "    return Command(\n",
    "        update={\n",
    "            “ops”: ops,\n",
    "            “messages”: [\n",
    "                ToolMessage(f“{result}”, tool_call_id=tool_call_id)\n",
    "            ]})\n",
    "```\n",
    "참고: `ToolMessage`를 생성하려면 `tool_call_id`가 필요합니다."
   ]
  },
  {
   "cell_type": "code",
   "execution_count": 9,
   "id": "b52ed717-9390-437d-991c-1df0d9a337e9",
   "metadata": {},
   "outputs": [],
   "source": [
    "@tool\n",
    "def calculator_wstate(\n",
    "    operation: Literal[\"add\",\"subtract\",\"multiply\",\"divide\"],\n",
    "    a: Union[int, float],\n",
    "    b: Union[int, float],\n",
    "    state: Annotated[CalcState, InjectedState],   # not sent to LLM\n",
    "    tool_call_id: Annotated[str, InjectedToolCallId] # not sent to LLM\n",
    ") -> Union[int, float]:\n",
    "    \"\"\"Define a two-input calculator tool.\n",
    "\n",
    "    Arg:\n",
    "        operation (str): The operation to perform ('add', 'subtract', 'multiply', 'divide').\n",
    "        a (float or int): The first number.\n",
    "        b (float or int): The second number.\n",
    "        \n",
    "    Returns:\n",
    "        result (float or int): the result of the operation\n",
    "    Example\n",
    "        Divide: result   = a / b\n",
    "        Subtract: result = a - b\n",
    "    \"\"\"\n",
    "    if operation == 'divide' and b == 0:\n",
    "        return {\"error\": \"Division by zero is not allowed.\"}\n",
    "\n",
    "    # Perform calculation\n",
    "    if operation == 'add':\n",
    "        result = a + b\n",
    "    elif operation == 'subtract':\n",
    "        result = a - b\n",
    "    elif operation == 'multiply':\n",
    "        result = a * b\n",
    "    elif operation == 'divide':\n",
    "        result = a / b\n",
    "    else: \n",
    "        result = \"unknown operation\"\n",
    "    ops = [f\"({operation}, {a}, {b}),\" ]\n",
    "    return Command(\n",
    "        update={\n",
    "            \"ops\": ops,\n",
    "            \"messages\": [\n",
    "                ToolMessage(f\"{result}\", tool_call_id=tool_call_id)\n",
    "            ],\n",
    "        }\n",
    "    )\n",
    "\n"
   ]
  },
  {
   "cell_type": "code",
   "execution_count": 10,
   "id": "fe5163b6-673a-4e01-a226-34c9924f837f",
   "metadata": {},
   "outputs": [],
   "source": [
    "SYSTEM_PROMPT = \"You are a helpful arithmetic assistant who is an expert at using a calculator.\"\n",
    "\n",
    "model = init_chat_model(model=\"openai:gpt-4o-mini\", temperature=0.0)\n",
    "tools = [calculator_wstate]  # new tool\n",
    "\n",
    "# Create agent\n",
    "agent = create_react_agent(\n",
    "    model,\n",
    "    tools,\n",
    "    prompt=SYSTEM_PROMPT,\n",
    "    state_schema=CalcState,  # now defining state scheme\n",
    ").with_config({\"recursion_limit\": 20})  #recursion_limit limits the number of steps the agent will run"
   ]
  },
  {
   "cell_type": "code",
   "execution_count": 11,
   "id": "f666a44a-ada6-4d64-9dfd-39dfa04533b2",
   "metadata": {},
   "outputs": [
    {
     "data": {
      "text/html": [
       "<pre style=\"white-space:pre;overflow-x:auto;line-height:normal;font-family:Menlo,'DejaVu Sans Mono',consolas,'Courier New',monospace\"><span style=\"color: #000080; text-decoration-color: #000080\">╭─────────────────────────────────────────────────── 🧑 Human ────────────────────────────────────────────────────╮</span>\n",
       "<span style=\"color: #000080; text-decoration-color: #000080\">│</span> What is 3.1 * 4.2?                                                                                              <span style=\"color: #000080; text-decoration-color: #000080\">│</span>\n",
       "<span style=\"color: #000080; text-decoration-color: #000080\">╰─────────────────────────────────────────────────────────────────────────────────────────────────────────────────╯</span>\n",
       "</pre>\n"
      ],
      "text/plain": [
       "\u001b[34m╭─\u001b[0m\u001b[34m──────────────────────────────────────────────────\u001b[0m\u001b[34m 🧑 Human \u001b[0m\u001b[34m───────────────────────────────────────────────────\u001b[0m\u001b[34m─╮\u001b[0m\n",
       "\u001b[34m│\u001b[0m What is 3.1 * 4.2?                                                                                              \u001b[34m│\u001b[0m\n",
       "\u001b[34m╰─────────────────────────────────────────────────────────────────────────────────────────────────────────────────╯\u001b[0m\n"
      ]
     },
     "metadata": {},
     "output_type": "display_data"
    },
    {
     "data": {
      "text/html": [
       "<pre style=\"white-space:pre;overflow-x:auto;line-height:normal;font-family:Menlo,'DejaVu Sans Mono',consolas,'Courier New',monospace\"><span style=\"color: #c0c0c0; text-decoration-color: #c0c0c0\">╭───────────────────────────────────────────────────── 📝 AI ─────────────────────────────────────────────────────╮</span>\n",
       "<span style=\"color: #c0c0c0; text-decoration-color: #c0c0c0\">│</span>                                                                                                                 <span style=\"color: #c0c0c0; text-decoration-color: #c0c0c0\">│</span>\n",
       "<span style=\"color: #c0c0c0; text-decoration-color: #c0c0c0\">│</span>                                                                                                                 <span style=\"color: #c0c0c0; text-decoration-color: #c0c0c0\">│</span>\n",
       "<span style=\"color: #c0c0c0; text-decoration-color: #c0c0c0\">│</span> 🔧 Tool Call: calculator_wstate                                                                                 <span style=\"color: #c0c0c0; text-decoration-color: #c0c0c0\">│</span>\n",
       "<span style=\"color: #c0c0c0; text-decoration-color: #c0c0c0\">│</span>    Args: {                                                                                                      <span style=\"color: #c0c0c0; text-decoration-color: #c0c0c0\">│</span>\n",
       "<span style=\"color: #c0c0c0; text-decoration-color: #c0c0c0\">│</span>   \"operation\": \"multiply\",                                                                                      <span style=\"color: #c0c0c0; text-decoration-color: #c0c0c0\">│</span>\n",
       "<span style=\"color: #c0c0c0; text-decoration-color: #c0c0c0\">│</span>   \"a\": 3.1,                                                                                                     <span style=\"color: #c0c0c0; text-decoration-color: #c0c0c0\">│</span>\n",
       "<span style=\"color: #c0c0c0; text-decoration-color: #c0c0c0\">│</span>   \"b\": 4.2                                                                                                      <span style=\"color: #c0c0c0; text-decoration-color: #c0c0c0\">│</span>\n",
       "<span style=\"color: #c0c0c0; text-decoration-color: #c0c0c0\">│</span> }                                                                                                               <span style=\"color: #c0c0c0; text-decoration-color: #c0c0c0\">│</span>\n",
       "<span style=\"color: #c0c0c0; text-decoration-color: #c0c0c0\">│</span>    ID: call_xoitJ5b0yADTfepcLWGOAyJQ                                                                            <span style=\"color: #c0c0c0; text-decoration-color: #c0c0c0\">│</span>\n",
       "<span style=\"color: #c0c0c0; text-decoration-color: #c0c0c0\">╰─────────────────────────────────────────────────────────────────────────────────────────────────────────────────╯</span>\n",
       "</pre>\n"
      ],
      "text/plain": [
       "\u001b[37m╭─\u001b[0m\u001b[37m────────────────────────────────────────────────────\u001b[0m\u001b[37m 📝 AI \u001b[0m\u001b[37m────────────────────────────────────────────────────\u001b[0m\u001b[37m─╮\u001b[0m\n",
       "\u001b[37m│\u001b[0m                                                                                                                 \u001b[37m│\u001b[0m\n",
       "\u001b[37m│\u001b[0m                                                                                                                 \u001b[37m│\u001b[0m\n",
       "\u001b[37m│\u001b[0m 🔧 Tool Call: calculator_wstate                                                                                 \u001b[37m│\u001b[0m\n",
       "\u001b[37m│\u001b[0m    Args: {                                                                                                      \u001b[37m│\u001b[0m\n",
       "\u001b[37m│\u001b[0m   \"operation\": \"multiply\",                                                                                      \u001b[37m│\u001b[0m\n",
       "\u001b[37m│\u001b[0m   \"a\": 3.1,                                                                                                     \u001b[37m│\u001b[0m\n",
       "\u001b[37m│\u001b[0m   \"b\": 4.2                                                                                                      \u001b[37m│\u001b[0m\n",
       "\u001b[37m│\u001b[0m }                                                                                                               \u001b[37m│\u001b[0m\n",
       "\u001b[37m│\u001b[0m    ID: call_xoitJ5b0yADTfepcLWGOAyJQ                                                                            \u001b[37m│\u001b[0m\n",
       "\u001b[37m╰─────────────────────────────────────────────────────────────────────────────────────────────────────────────────╯\u001b[0m\n"
      ]
     },
     "metadata": {},
     "output_type": "display_data"
    },
    {
     "data": {
      "text/html": [
       "<pre style=\"white-space:pre;overflow-x:auto;line-height:normal;font-family:Menlo,'DejaVu Sans Mono',consolas,'Courier New',monospace\"><span style=\"color: #808000; text-decoration-color: #808000\">╭──────────────────────────────────────────────── 🔧 Tool Output ─────────────────────────────────────────────────╮</span>\n",
       "<span style=\"color: #808000; text-decoration-color: #808000\">│</span> 13.020000000000001                                                                                              <span style=\"color: #808000; text-decoration-color: #808000\">│</span>\n",
       "<span style=\"color: #808000; text-decoration-color: #808000\">╰─────────────────────────────────────────────────────────────────────────────────────────────────────────────────╯</span>\n",
       "</pre>\n"
      ],
      "text/plain": [
       "\u001b[33m╭─\u001b[0m\u001b[33m───────────────────────────────────────────────\u001b[0m\u001b[33m 🔧 Tool Output \u001b[0m\u001b[33m────────────────────────────────────────────────\u001b[0m\u001b[33m─╮\u001b[0m\n",
       "\u001b[33m│\u001b[0m 13.020000000000001                                                                                              \u001b[33m│\u001b[0m\n",
       "\u001b[33m╰─────────────────────────────────────────────────────────────────────────────────────────────────────────────────╯\u001b[0m\n"
      ]
     },
     "metadata": {},
     "output_type": "display_data"
    },
    {
     "data": {
      "text/html": [
       "<pre style=\"white-space:pre;overflow-x:auto;line-height:normal;font-family:Menlo,'DejaVu Sans Mono',consolas,'Courier New',monospace\"><span style=\"color: #c0c0c0; text-decoration-color: #c0c0c0\">╭───────────────────────────────────────────────────── 📝 AI ─────────────────────────────────────────────────────╮</span>\n",
       "<span style=\"color: #c0c0c0; text-decoration-color: #c0c0c0\">│</span> The result of \\( 3.1 \\times 4.2 \\) is approximately \\( 13.02 \\).                                                <span style=\"color: #c0c0c0; text-decoration-color: #c0c0c0\">│</span>\n",
       "<span style=\"color: #c0c0c0; text-decoration-color: #c0c0c0\">╰─────────────────────────────────────────────────────────────────────────────────────────────────────────────────╯</span>\n",
       "</pre>\n"
      ],
      "text/plain": [
       "\u001b[37m╭─\u001b[0m\u001b[37m────────────────────────────────────────────────────\u001b[0m\u001b[37m 📝 AI \u001b[0m\u001b[37m────────────────────────────────────────────────────\u001b[0m\u001b[37m─╮\u001b[0m\n",
       "\u001b[37m│\u001b[0m The result of \\( 3.1 \\times 4.2 \\) is approximately \\( 13.02 \\).                                                \u001b[37m│\u001b[0m\n",
       "\u001b[37m╰─────────────────────────────────────────────────────────────────────────────────────────────────────────────────╯\u001b[0m\n"
      ]
     },
     "metadata": {},
     "output_type": "display_data"
    }
   ],
   "source": [
    "# Example usage\n",
    "result2 = agent.invoke(\n",
    "    {\n",
    "        \"messages\": [\n",
    "            {\n",
    "                \"role\": \"user\",\n",
    "                \"content\": \"What is 3.1 * 4.2?\",\n",
    "            }\n",
    "        ],\n",
    "    }\n",
    ")\n",
    "\n",
    "format_messages(result2[\"messages\"])"
   ]
  },
  {
   "cell_type": "code",
   "execution_count": 12,
   "id": "8a55b1e3-ccba-4899-bbd3-6ab5fb729716",
   "metadata": {},
   "outputs": [
    {
     "data": {
      "application/json": {
       "messages": [
        [
         [
          "content",
          "What is 3.1 * 4.2?"
         ],
         [
          "additional_kwargs",
          {}
         ],
         [
          "response_metadata",
          {}
         ],
         [
          "type",
          "human"
         ],
         [
          "name",
          null
         ],
         [
          "id",
          "e1038efd-5622-48c0-915b-62e776b70b14"
         ],
         [
          "example",
          false
         ]
        ],
        [
         [
          "content",
          ""
         ],
         [
          "additional_kwargs",
          {
           "refusal": null,
           "tool_calls": [
            {
             "function": {
              "arguments": "{\"operation\":\"multiply\",\"a\":3.1,\"b\":4.2}",
              "name": "calculator_wstate"
             },
             "id": "call_xoitJ5b0yADTfepcLWGOAyJQ",
             "type": "function"
            }
           ]
          }
         ],
         [
          "response_metadata",
          {
           "finish_reason": "tool_calls",
           "id": "chatcmpl-CL0fsCDxKnMNFuJRYXTV28M1nd9zB",
           "logprobs": null,
           "model_name": "gpt-4o-mini-2024-07-18",
           "service_tier": "default",
           "system_fingerprint": "fp_560af6e559",
           "token_usage": {
            "completion_tokens": 28,
            "completion_tokens_details": {
             "accepted_prediction_tokens": 0,
             "audio_tokens": 0,
             "reasoning_tokens": 0,
             "rejected_prediction_tokens": 0
            },
            "prompt_tokens": 177,
            "prompt_tokens_details": {
             "audio_tokens": 0,
             "cached_tokens": 0
            },
            "total_tokens": 205
           }
          }
         ],
         [
          "type",
          "ai"
         ],
         [
          "name",
          null
         ],
         [
          "id",
          "run--9f3ef184-1031-4631-a88e-7cac133ced5d-0"
         ],
         [
          "example",
          false
         ],
         [
          "tool_calls",
          [
           {
            "args": {
             "a": 3.1,
             "b": 4.2,
             "operation": "multiply"
            },
            "id": "call_xoitJ5b0yADTfepcLWGOAyJQ",
            "name": "calculator_wstate",
            "type": "tool_call"
           }
          ]
         ],
         [
          "invalid_tool_calls",
          []
         ],
         [
          "usage_metadata",
          {
           "input_token_details": {
            "audio": 0,
            "cache_read": 0
           },
           "input_tokens": 177,
           "output_token_details": {
            "audio": 0,
            "reasoning": 0
           },
           "output_tokens": 28,
           "total_tokens": 205
          }
         ]
        ],
        [
         [
          "content",
          "13.020000000000001"
         ],
         [
          "additional_kwargs",
          {}
         ],
         [
          "response_metadata",
          {}
         ],
         [
          "type",
          "tool"
         ],
         [
          "name",
          "calculator_wstate"
         ],
         [
          "id",
          "e1b7cd21-c0ba-4107-b2d6-2402a614befc"
         ],
         [
          "tool_call_id",
          "call_xoitJ5b0yADTfepcLWGOAyJQ"
         ],
         [
          "artifact",
          null
         ],
         [
          "status",
          "success"
         ]
        ],
        [
         [
          "content",
          "The result of \\( 3.1 \\times 4.2 \\) is approximately \\( 13.02 \\)."
         ],
         [
          "additional_kwargs",
          {
           "refusal": null
          }
         ],
         [
          "response_metadata",
          {
           "finish_reason": "stop",
           "id": "chatcmpl-CL0ft2nfOrq3jwKB0OGOZy2jB3qeM",
           "logprobs": null,
           "model_name": "gpt-4o-mini-2024-07-18",
           "service_tier": "default",
           "system_fingerprint": "fp_560af6e559",
           "token_usage": {
            "completion_tokens": 26,
            "completion_tokens_details": {
             "accepted_prediction_tokens": 0,
             "audio_tokens": 0,
             "reasoning_tokens": 0,
             "rejected_prediction_tokens": 0
            },
            "prompt_tokens": 221,
            "prompt_tokens_details": {
             "audio_tokens": 0,
             "cached_tokens": 0
            },
            "total_tokens": 247
           }
          }
         ],
         [
          "type",
          "ai"
         ],
         [
          "name",
          null
         ],
         [
          "id",
          "run--52c11b7a-fbc5-4c13-bcb0-9bfa49bf95eb-0"
         ],
         [
          "example",
          false
         ],
         [
          "tool_calls",
          []
         ],
         [
          "invalid_tool_calls",
          []
         ],
         [
          "usage_metadata",
          {
           "input_token_details": {
            "audio": 0,
            "cache_read": 0
           },
           "input_tokens": 221,
           "output_token_details": {
            "audio": 0,
            "reasoning": 0
           },
           "output_tokens": 26,
           "total_tokens": 247
          }
         ]
        ]
       ],
       "ops": [
        "(multiply, 3.1, 4.2),"
       ]
      },
      "text/plain": [
       "<IPython.core.display.JSON object>"
      ]
     },
     "execution_count": 12,
     "metadata": {
      "application/json": {
       "expanded": false,
       "root": "root"
      }
     },
     "output_type": "execute_result"
    }
   ],
   "source": [
    "# notice the ops field is now in the response\n",
    "JSON(result2)"
   ]
  },
  {
   "cell_type": "markdown",
   "id": "578f86a4-53b4-4814-9ee5-cb8919a1c9c4",
   "metadata": {},
   "source": [
    "Let's try one more example. Notice the dual tool call in this example. The tool node will execute these in parallel."
   ]
  },
  {
   "cell_type": "code",
   "execution_count": 13,
   "id": "9b15902d-064c-49fe-8266-c9cc5e895344",
   "metadata": {},
   "outputs": [
    {
     "data": {
      "text/html": [
       "<pre style=\"white-space:pre;overflow-x:auto;line-height:normal;font-family:Menlo,'DejaVu Sans Mono',consolas,'Courier New',monospace\"><span style=\"color: #000080; text-decoration-color: #000080\">╭─────────────────────────────────────────────────── 🧑 Human ────────────────────────────────────────────────────╮</span>\n",
       "<span style=\"color: #000080; text-decoration-color: #000080\">│</span> What is 3.1 * 4.2 + 5.5 * 6.5?                                                                                  <span style=\"color: #000080; text-decoration-color: #000080\">│</span>\n",
       "<span style=\"color: #000080; text-decoration-color: #000080\">╰─────────────────────────────────────────────────────────────────────────────────────────────────────────────────╯</span>\n",
       "</pre>\n"
      ],
      "text/plain": [
       "\u001b[34m╭─\u001b[0m\u001b[34m──────────────────────────────────────────────────\u001b[0m\u001b[34m 🧑 Human \u001b[0m\u001b[34m───────────────────────────────────────────────────\u001b[0m\u001b[34m─╮\u001b[0m\n",
       "\u001b[34m│\u001b[0m What is 3.1 * 4.2 + 5.5 * 6.5?                                                                                  \u001b[34m│\u001b[0m\n",
       "\u001b[34m╰─────────────────────────────────────────────────────────────────────────────────────────────────────────────────╯\u001b[0m\n"
      ]
     },
     "metadata": {},
     "output_type": "display_data"
    },
    {
     "data": {
      "text/html": [
       "<pre style=\"white-space:pre;overflow-x:auto;line-height:normal;font-family:Menlo,'DejaVu Sans Mono',consolas,'Courier New',monospace\"><span style=\"color: #c0c0c0; text-decoration-color: #c0c0c0\">╭───────────────────────────────────────────────────── 📝 AI ─────────────────────────────────────────────────────╮</span>\n",
       "<span style=\"color: #c0c0c0; text-decoration-color: #c0c0c0\">│</span>                                                                                                                 <span style=\"color: #c0c0c0; text-decoration-color: #c0c0c0\">│</span>\n",
       "<span style=\"color: #c0c0c0; text-decoration-color: #c0c0c0\">│</span>                                                                                                                 <span style=\"color: #c0c0c0; text-decoration-color: #c0c0c0\">│</span>\n",
       "<span style=\"color: #c0c0c0; text-decoration-color: #c0c0c0\">│</span> 🔧 Tool Call: calculator_wstate                                                                                 <span style=\"color: #c0c0c0; text-decoration-color: #c0c0c0\">│</span>\n",
       "<span style=\"color: #c0c0c0; text-decoration-color: #c0c0c0\">│</span>    Args: {                                                                                                      <span style=\"color: #c0c0c0; text-decoration-color: #c0c0c0\">│</span>\n",
       "<span style=\"color: #c0c0c0; text-decoration-color: #c0c0c0\">│</span>   \"operation\": \"multiply\",                                                                                      <span style=\"color: #c0c0c0; text-decoration-color: #c0c0c0\">│</span>\n",
       "<span style=\"color: #c0c0c0; text-decoration-color: #c0c0c0\">│</span>   \"a\": 3.1,                                                                                                     <span style=\"color: #c0c0c0; text-decoration-color: #c0c0c0\">│</span>\n",
       "<span style=\"color: #c0c0c0; text-decoration-color: #c0c0c0\">│</span>   \"b\": 4.2                                                                                                      <span style=\"color: #c0c0c0; text-decoration-color: #c0c0c0\">│</span>\n",
       "<span style=\"color: #c0c0c0; text-decoration-color: #c0c0c0\">│</span> }                                                                                                               <span style=\"color: #c0c0c0; text-decoration-color: #c0c0c0\">│</span>\n",
       "<span style=\"color: #c0c0c0; text-decoration-color: #c0c0c0\">│</span>    ID: call_YRj2GJNKtwSSOyUb8jylVH0G                                                                            <span style=\"color: #c0c0c0; text-decoration-color: #c0c0c0\">│</span>\n",
       "<span style=\"color: #c0c0c0; text-decoration-color: #c0c0c0\">│</span>                                                                                                                 <span style=\"color: #c0c0c0; text-decoration-color: #c0c0c0\">│</span>\n",
       "<span style=\"color: #c0c0c0; text-decoration-color: #c0c0c0\">│</span> 🔧 Tool Call: calculator_wstate                                                                                 <span style=\"color: #c0c0c0; text-decoration-color: #c0c0c0\">│</span>\n",
       "<span style=\"color: #c0c0c0; text-decoration-color: #c0c0c0\">│</span>    Args: {                                                                                                      <span style=\"color: #c0c0c0; text-decoration-color: #c0c0c0\">│</span>\n",
       "<span style=\"color: #c0c0c0; text-decoration-color: #c0c0c0\">│</span>   \"operation\": \"multiply\",                                                                                      <span style=\"color: #c0c0c0; text-decoration-color: #c0c0c0\">│</span>\n",
       "<span style=\"color: #c0c0c0; text-decoration-color: #c0c0c0\">│</span>   \"a\": 5.5,                                                                                                     <span style=\"color: #c0c0c0; text-decoration-color: #c0c0c0\">│</span>\n",
       "<span style=\"color: #c0c0c0; text-decoration-color: #c0c0c0\">│</span>   \"b\": 6.5                                                                                                      <span style=\"color: #c0c0c0; text-decoration-color: #c0c0c0\">│</span>\n",
       "<span style=\"color: #c0c0c0; text-decoration-color: #c0c0c0\">│</span> }                                                                                                               <span style=\"color: #c0c0c0; text-decoration-color: #c0c0c0\">│</span>\n",
       "<span style=\"color: #c0c0c0; text-decoration-color: #c0c0c0\">│</span>    ID: call_OKaeeVyWFK2sH7kQ8zGHAsWC                                                                            <span style=\"color: #c0c0c0; text-decoration-color: #c0c0c0\">│</span>\n",
       "<span style=\"color: #c0c0c0; text-decoration-color: #c0c0c0\">╰─────────────────────────────────────────────────────────────────────────────────────────────────────────────────╯</span>\n",
       "</pre>\n"
      ],
      "text/plain": [
       "\u001b[37m╭─\u001b[0m\u001b[37m────────────────────────────────────────────────────\u001b[0m\u001b[37m 📝 AI \u001b[0m\u001b[37m────────────────────────────────────────────────────\u001b[0m\u001b[37m─╮\u001b[0m\n",
       "\u001b[37m│\u001b[0m                                                                                                                 \u001b[37m│\u001b[0m\n",
       "\u001b[37m│\u001b[0m                                                                                                                 \u001b[37m│\u001b[0m\n",
       "\u001b[37m│\u001b[0m 🔧 Tool Call: calculator_wstate                                                                                 \u001b[37m│\u001b[0m\n",
       "\u001b[37m│\u001b[0m    Args: {                                                                                                      \u001b[37m│\u001b[0m\n",
       "\u001b[37m│\u001b[0m   \"operation\": \"multiply\",                                                                                      \u001b[37m│\u001b[0m\n",
       "\u001b[37m│\u001b[0m   \"a\": 3.1,                                                                                                     \u001b[37m│\u001b[0m\n",
       "\u001b[37m│\u001b[0m   \"b\": 4.2                                                                                                      \u001b[37m│\u001b[0m\n",
       "\u001b[37m│\u001b[0m }                                                                                                               \u001b[37m│\u001b[0m\n",
       "\u001b[37m│\u001b[0m    ID: call_YRj2GJNKtwSSOyUb8jylVH0G                                                                            \u001b[37m│\u001b[0m\n",
       "\u001b[37m│\u001b[0m                                                                                                                 \u001b[37m│\u001b[0m\n",
       "\u001b[37m│\u001b[0m 🔧 Tool Call: calculator_wstate                                                                                 \u001b[37m│\u001b[0m\n",
       "\u001b[37m│\u001b[0m    Args: {                                                                                                      \u001b[37m│\u001b[0m\n",
       "\u001b[37m│\u001b[0m   \"operation\": \"multiply\",                                                                                      \u001b[37m│\u001b[0m\n",
       "\u001b[37m│\u001b[0m   \"a\": 5.5,                                                                                                     \u001b[37m│\u001b[0m\n",
       "\u001b[37m│\u001b[0m   \"b\": 6.5                                                                                                      \u001b[37m│\u001b[0m\n",
       "\u001b[37m│\u001b[0m }                                                                                                               \u001b[37m│\u001b[0m\n",
       "\u001b[37m│\u001b[0m    ID: call_OKaeeVyWFK2sH7kQ8zGHAsWC                                                                            \u001b[37m│\u001b[0m\n",
       "\u001b[37m╰─────────────────────────────────────────────────────────────────────────────────────────────────────────────────╯\u001b[0m\n"
      ]
     },
     "metadata": {},
     "output_type": "display_data"
    },
    {
     "data": {
      "text/html": [
       "<pre style=\"white-space:pre;overflow-x:auto;line-height:normal;font-family:Menlo,'DejaVu Sans Mono',consolas,'Courier New',monospace\"><span style=\"color: #808000; text-decoration-color: #808000\">╭──────────────────────────────────────────────── 🔧 Tool Output ─────────────────────────────────────────────────╮</span>\n",
       "<span style=\"color: #808000; text-decoration-color: #808000\">│</span> 13.020000000000001                                                                                              <span style=\"color: #808000; text-decoration-color: #808000\">│</span>\n",
       "<span style=\"color: #808000; text-decoration-color: #808000\">╰─────────────────────────────────────────────────────────────────────────────────────────────────────────────────╯</span>\n",
       "</pre>\n"
      ],
      "text/plain": [
       "\u001b[33m╭─\u001b[0m\u001b[33m───────────────────────────────────────────────\u001b[0m\u001b[33m 🔧 Tool Output \u001b[0m\u001b[33m────────────────────────────────────────────────\u001b[0m\u001b[33m─╮\u001b[0m\n",
       "\u001b[33m│\u001b[0m 13.020000000000001                                                                                              \u001b[33m│\u001b[0m\n",
       "\u001b[33m╰─────────────────────────────────────────────────────────────────────────────────────────────────────────────────╯\u001b[0m\n"
      ]
     },
     "metadata": {},
     "output_type": "display_data"
    },
    {
     "data": {
      "text/html": [
       "<pre style=\"white-space:pre;overflow-x:auto;line-height:normal;font-family:Menlo,'DejaVu Sans Mono',consolas,'Courier New',monospace\"><span style=\"color: #808000; text-decoration-color: #808000\">╭──────────────────────────────────────────────── 🔧 Tool Output ─────────────────────────────────────────────────╮</span>\n",
       "<span style=\"color: #808000; text-decoration-color: #808000\">│</span> 35.75                                                                                                           <span style=\"color: #808000; text-decoration-color: #808000\">│</span>\n",
       "<span style=\"color: #808000; text-decoration-color: #808000\">╰─────────────────────────────────────────────────────────────────────────────────────────────────────────────────╯</span>\n",
       "</pre>\n"
      ],
      "text/plain": [
       "\u001b[33m╭─\u001b[0m\u001b[33m───────────────────────────────────────────────\u001b[0m\u001b[33m 🔧 Tool Output \u001b[0m\u001b[33m────────────────────────────────────────────────\u001b[0m\u001b[33m─╮\u001b[0m\n",
       "\u001b[33m│\u001b[0m 35.75                                                                                                           \u001b[33m│\u001b[0m\n",
       "\u001b[33m╰─────────────────────────────────────────────────────────────────────────────────────────────────────────────────╯\u001b[0m\n"
      ]
     },
     "metadata": {},
     "output_type": "display_data"
    },
    {
     "data": {
      "text/html": [
       "<pre style=\"white-space:pre;overflow-x:auto;line-height:normal;font-family:Menlo,'DejaVu Sans Mono',consolas,'Courier New',monospace\"><span style=\"color: #c0c0c0; text-decoration-color: #c0c0c0\">╭───────────────────────────────────────────────────── 📝 AI ─────────────────────────────────────────────────────╮</span>\n",
       "<span style=\"color: #c0c0c0; text-decoration-color: #c0c0c0\">│</span>                                                                                                                 <span style=\"color: #c0c0c0; text-decoration-color: #c0c0c0\">│</span>\n",
       "<span style=\"color: #c0c0c0; text-decoration-color: #c0c0c0\">│</span>                                                                                                                 <span style=\"color: #c0c0c0; text-decoration-color: #c0c0c0\">│</span>\n",
       "<span style=\"color: #c0c0c0; text-decoration-color: #c0c0c0\">│</span> 🔧 Tool Call: calculator_wstate                                                                                 <span style=\"color: #c0c0c0; text-decoration-color: #c0c0c0\">│</span>\n",
       "<span style=\"color: #c0c0c0; text-decoration-color: #c0c0c0\">│</span>    Args: {                                                                                                      <span style=\"color: #c0c0c0; text-decoration-color: #c0c0c0\">│</span>\n",
       "<span style=\"color: #c0c0c0; text-decoration-color: #c0c0c0\">│</span>   \"operation\": \"add\",                                                                                           <span style=\"color: #c0c0c0; text-decoration-color: #c0c0c0\">│</span>\n",
       "<span style=\"color: #c0c0c0; text-decoration-color: #c0c0c0\">│</span>   \"a\": 13.020000000000001,                                                                                      <span style=\"color: #c0c0c0; text-decoration-color: #c0c0c0\">│</span>\n",
       "<span style=\"color: #c0c0c0; text-decoration-color: #c0c0c0\">│</span>   \"b\": 35.75                                                                                                    <span style=\"color: #c0c0c0; text-decoration-color: #c0c0c0\">│</span>\n",
       "<span style=\"color: #c0c0c0; text-decoration-color: #c0c0c0\">│</span> }                                                                                                               <span style=\"color: #c0c0c0; text-decoration-color: #c0c0c0\">│</span>\n",
       "<span style=\"color: #c0c0c0; text-decoration-color: #c0c0c0\">│</span>    ID: call_9NinmoZYmEhq9dNinTD4okG4                                                                            <span style=\"color: #c0c0c0; text-decoration-color: #c0c0c0\">│</span>\n",
       "<span style=\"color: #c0c0c0; text-decoration-color: #c0c0c0\">╰─────────────────────────────────────────────────────────────────────────────────────────────────────────────────╯</span>\n",
       "</pre>\n"
      ],
      "text/plain": [
       "\u001b[37m╭─\u001b[0m\u001b[37m────────────────────────────────────────────────────\u001b[0m\u001b[37m 📝 AI \u001b[0m\u001b[37m────────────────────────────────────────────────────\u001b[0m\u001b[37m─╮\u001b[0m\n",
       "\u001b[37m│\u001b[0m                                                                                                                 \u001b[37m│\u001b[0m\n",
       "\u001b[37m│\u001b[0m                                                                                                                 \u001b[37m│\u001b[0m\n",
       "\u001b[37m│\u001b[0m 🔧 Tool Call: calculator_wstate                                                                                 \u001b[37m│\u001b[0m\n",
       "\u001b[37m│\u001b[0m    Args: {                                                                                                      \u001b[37m│\u001b[0m\n",
       "\u001b[37m│\u001b[0m   \"operation\": \"add\",                                                                                           \u001b[37m│\u001b[0m\n",
       "\u001b[37m│\u001b[0m   \"a\": 13.020000000000001,                                                                                      \u001b[37m│\u001b[0m\n",
       "\u001b[37m│\u001b[0m   \"b\": 35.75                                                                                                    \u001b[37m│\u001b[0m\n",
       "\u001b[37m│\u001b[0m }                                                                                                               \u001b[37m│\u001b[0m\n",
       "\u001b[37m│\u001b[0m    ID: call_9NinmoZYmEhq9dNinTD4okG4                                                                            \u001b[37m│\u001b[0m\n",
       "\u001b[37m╰─────────────────────────────────────────────────────────────────────────────────────────────────────────────────╯\u001b[0m\n"
      ]
     },
     "metadata": {},
     "output_type": "display_data"
    },
    {
     "data": {
      "text/html": [
       "<pre style=\"white-space:pre;overflow-x:auto;line-height:normal;font-family:Menlo,'DejaVu Sans Mono',consolas,'Courier New',monospace\"><span style=\"color: #808000; text-decoration-color: #808000\">╭──────────────────────────────────────────────── 🔧 Tool Output ─────────────────────────────────────────────────╮</span>\n",
       "<span style=\"color: #808000; text-decoration-color: #808000\">│</span> 48.77                                                                                                           <span style=\"color: #808000; text-decoration-color: #808000\">│</span>\n",
       "<span style=\"color: #808000; text-decoration-color: #808000\">╰─────────────────────────────────────────────────────────────────────────────────────────────────────────────────╯</span>\n",
       "</pre>\n"
      ],
      "text/plain": [
       "\u001b[33m╭─\u001b[0m\u001b[33m───────────────────────────────────────────────\u001b[0m\u001b[33m 🔧 Tool Output \u001b[0m\u001b[33m────────────────────────────────────────────────\u001b[0m\u001b[33m─╮\u001b[0m\n",
       "\u001b[33m│\u001b[0m 48.77                                                                                                           \u001b[33m│\u001b[0m\n",
       "\u001b[33m╰─────────────────────────────────────────────────────────────────────────────────────────────────────────────────╯\u001b[0m\n"
      ]
     },
     "metadata": {},
     "output_type": "display_data"
    },
    {
     "data": {
      "text/html": [
       "<pre style=\"white-space:pre;overflow-x:auto;line-height:normal;font-family:Menlo,'DejaVu Sans Mono',consolas,'Courier New',monospace\"><span style=\"color: #c0c0c0; text-decoration-color: #c0c0c0\">╭───────────────────────────────────────────────────── 📝 AI ─────────────────────────────────────────────────────╮</span>\n",
       "<span style=\"color: #c0c0c0; text-decoration-color: #c0c0c0\">│</span> The result of \\( 3.1 \\times 4.2 + 5.5 \\times 6.5 \\) is \\( 48.77 \\).                                             <span style=\"color: #c0c0c0; text-decoration-color: #c0c0c0\">│</span>\n",
       "<span style=\"color: #c0c0c0; text-decoration-color: #c0c0c0\">╰─────────────────────────────────────────────────────────────────────────────────────────────────────────────────╯</span>\n",
       "</pre>\n"
      ],
      "text/plain": [
       "\u001b[37m╭─\u001b[0m\u001b[37m────────────────────────────────────────────────────\u001b[0m\u001b[37m 📝 AI \u001b[0m\u001b[37m────────────────────────────────────────────────────\u001b[0m\u001b[37m─╮\u001b[0m\n",
       "\u001b[37m│\u001b[0m The result of \\( 3.1 \\times 4.2 + 5.5 \\times 6.5 \\) is \\( 48.77 \\).                                             \u001b[37m│\u001b[0m\n",
       "\u001b[37m╰─────────────────────────────────────────────────────────────────────────────────────────────────────────────────╯\u001b[0m\n"
      ]
     },
     "metadata": {},
     "output_type": "display_data"
    }
   ],
   "source": [
    "# Example usage\n",
    "result3 = agent.invoke(\n",
    "    {\n",
    "        \"messages\": [\n",
    "            {\n",
    "                \"role\": \"user\",\n",
    "                \"content\": \"What is 3.1 * 4.2 + 5.5 * 6.5?\",\n",
    "            }\n",
    "        ],\n",
    "    }\n",
    ")\n",
    "\n",
    "format_messages(result3[\"messages\"])"
   ]
  },
  {
   "cell_type": "code",
   "execution_count": 14,
   "id": "eddba925-7132-4972-94d2-33e21c15ed45",
   "metadata": {},
   "outputs": [
    {
     "data": {
      "application/json": {
       "messages": [
        [
         [
          "content",
          "What is 3.1 * 4.2 + 5.5 * 6.5?"
         ],
         [
          "additional_kwargs",
          {}
         ],
         [
          "response_metadata",
          {}
         ],
         [
          "type",
          "human"
         ],
         [
          "name",
          null
         ],
         [
          "id",
          "7b93c09f-96c9-42b7-9243-e80e5fd6b846"
         ],
         [
          "example",
          false
         ]
        ],
        [
         [
          "content",
          ""
         ],
         [
          "additional_kwargs",
          {
           "refusal": null,
           "tool_calls": [
            {
             "function": {
              "arguments": "{\"operation\": \"multiply\", \"a\": 3.1, \"b\": 4.2}",
              "name": "calculator_wstate"
             },
             "id": "call_YRj2GJNKtwSSOyUb8jylVH0G",
             "type": "function"
            },
            {
             "function": {
              "arguments": "{\"operation\": \"multiply\", \"a\": 5.5, \"b\": 6.5}",
              "name": "calculator_wstate"
             },
             "id": "call_OKaeeVyWFK2sH7kQ8zGHAsWC",
             "type": "function"
            }
           ]
          }
         ],
         [
          "response_metadata",
          {
           "finish_reason": "tool_calls",
           "id": "chatcmpl-CL0fuiQfkq4XAmFqgUIiaGrKRFbtD",
           "logprobs": null,
           "model_name": "gpt-4o-mini-2024-07-18",
           "service_tier": "default",
           "system_fingerprint": "fp_51db84afab",
           "token_usage": {
            "completion_tokens": 72,
            "completion_tokens_details": {
             "accepted_prediction_tokens": 0,
             "audio_tokens": 0,
             "reasoning_tokens": 0,
             "rejected_prediction_tokens": 0
            },
            "prompt_tokens": 187,
            "prompt_tokens_details": {
             "audio_tokens": 0,
             "cached_tokens": 0
            },
            "total_tokens": 259
           }
          }
         ],
         [
          "type",
          "ai"
         ],
         [
          "name",
          null
         ],
         [
          "id",
          "run--8496c6e5-ffb4-4299-9e98-eee41dab57b2-0"
         ],
         [
          "example",
          false
         ],
         [
          "tool_calls",
          [
           {
            "args": {
             "a": 3.1,
             "b": 4.2,
             "operation": "multiply"
            },
            "id": "call_YRj2GJNKtwSSOyUb8jylVH0G",
            "name": "calculator_wstate",
            "type": "tool_call"
           },
           {
            "args": {
             "a": 5.5,
             "b": 6.5,
             "operation": "multiply"
            },
            "id": "call_OKaeeVyWFK2sH7kQ8zGHAsWC",
            "name": "calculator_wstate",
            "type": "tool_call"
           }
          ]
         ],
         [
          "invalid_tool_calls",
          []
         ],
         [
          "usage_metadata",
          {
           "input_token_details": {
            "audio": 0,
            "cache_read": 0
           },
           "input_tokens": 187,
           "output_token_details": {
            "audio": 0,
            "reasoning": 0
           },
           "output_tokens": 72,
           "total_tokens": 259
          }
         ]
        ],
        [
         [
          "content",
          "13.020000000000001"
         ],
         [
          "additional_kwargs",
          {}
         ],
         [
          "response_metadata",
          {}
         ],
         [
          "type",
          "tool"
         ],
         [
          "name",
          "calculator_wstate"
         ],
         [
          "id",
          "5df5b1bf-ae20-4ccc-9fd0-0a5579319636"
         ],
         [
          "tool_call_id",
          "call_YRj2GJNKtwSSOyUb8jylVH0G"
         ],
         [
          "artifact",
          null
         ],
         [
          "status",
          "success"
         ]
        ],
        [
         [
          "content",
          "35.75"
         ],
         [
          "additional_kwargs",
          {}
         ],
         [
          "response_metadata",
          {}
         ],
         [
          "type",
          "tool"
         ],
         [
          "name",
          "calculator_wstate"
         ],
         [
          "id",
          "530985dd-3c40-4dd8-abfc-efdfde0fc1e6"
         ],
         [
          "tool_call_id",
          "call_OKaeeVyWFK2sH7kQ8zGHAsWC"
         ],
         [
          "artifact",
          null
         ],
         [
          "status",
          "success"
         ]
        ],
        [
         [
          "content",
          ""
         ],
         [
          "additional_kwargs",
          {
           "refusal": null,
           "tool_calls": [
            {
             "function": {
              "arguments": "{\"operation\":\"add\",\"a\":13.020000000000001,\"b\":35.75}",
              "name": "calculator_wstate"
             },
             "id": "call_9NinmoZYmEhq9dNinTD4okG4",
             "type": "function"
            }
           ]
          }
         ],
         [
          "response_metadata",
          {
           "finish_reason": "tool_calls",
           "id": "chatcmpl-CL0fwckl53gNblVWId86ZblSXclZz",
           "logprobs": null,
           "model_name": "gpt-4o-mini-2024-07-18",
           "service_tier": "default",
           "system_fingerprint": "fp_560af6e559",
           "token_usage": {
            "completion_tokens": 32,
            "completion_tokens_details": {
             "accepted_prediction_tokens": 0,
             "audio_tokens": 0,
             "reasoning_tokens": 0,
             "rejected_prediction_tokens": 0
            },
            "prompt_tokens": 283,
            "prompt_tokens_details": {
             "audio_tokens": 0,
             "cached_tokens": 0
            },
            "total_tokens": 315
           }
          }
         ],
         [
          "type",
          "ai"
         ],
         [
          "name",
          null
         ],
         [
          "id",
          "run--de1f7381-ae5f-42e8-8afd-3c9fc8aabd84-0"
         ],
         [
          "example",
          false
         ],
         [
          "tool_calls",
          [
           {
            "args": {
             "a": 13.020000000000001,
             "b": 35.75,
             "operation": "add"
            },
            "id": "call_9NinmoZYmEhq9dNinTD4okG4",
            "name": "calculator_wstate",
            "type": "tool_call"
           }
          ]
         ],
         [
          "invalid_tool_calls",
          []
         ],
         [
          "usage_metadata",
          {
           "input_token_details": {
            "audio": 0,
            "cache_read": 0
           },
           "input_tokens": 283,
           "output_token_details": {
            "audio": 0,
            "reasoning": 0
           },
           "output_tokens": 32,
           "total_tokens": 315
          }
         ]
        ],
        [
         [
          "content",
          "48.77"
         ],
         [
          "additional_kwargs",
          {}
         ],
         [
          "response_metadata",
          {}
         ],
         [
          "type",
          "tool"
         ],
         [
          "name",
          "calculator_wstate"
         ],
         [
          "id",
          "ef3db610-d2ac-4a83-a011-1beed83a0608"
         ],
         [
          "tool_call_id",
          "call_9NinmoZYmEhq9dNinTD4okG4"
         ],
         [
          "artifact",
          null
         ],
         [
          "status",
          "success"
         ]
        ],
        [
         [
          "content",
          "The result of \\( 3.1 \\times 4.2 + 5.5 \\times 6.5 \\) is \\( 48.77 \\)."
         ],
         [
          "additional_kwargs",
          {
           "refusal": null
          }
         ],
         [
          "response_metadata",
          {
           "finish_reason": "stop",
           "id": "chatcmpl-CL0fx2lap2iEbKfuGOO5tuTMF0eNE",
           "logprobs": null,
           "model_name": "gpt-4o-mini-2024-07-18",
           "service_tier": "default",
           "system_fingerprint": "fp_51db84afab",
           "token_usage": {
            "completion_tokens": 36,
            "completion_tokens_details": {
             "accepted_prediction_tokens": 0,
             "audio_tokens": 0,
             "reasoning_tokens": 0,
             "rejected_prediction_tokens": 0
            },
            "prompt_tokens": 327,
            "prompt_tokens_details": {
             "audio_tokens": 0,
             "cached_tokens": 0
            },
            "total_tokens": 363
           }
          }
         ],
         [
          "type",
          "ai"
         ],
         [
          "name",
          null
         ],
         [
          "id",
          "run--74270565-c593-43a9-bec1-4e90b043eace-0"
         ],
         [
          "example",
          false
         ],
         [
          "tool_calls",
          []
         ],
         [
          "invalid_tool_calls",
          []
         ],
         [
          "usage_metadata",
          {
           "input_token_details": {
            "audio": 0,
            "cache_read": 0
           },
           "input_tokens": 327,
           "output_token_details": {
            "audio": 0,
            "reasoning": 0
           },
           "output_tokens": 36,
           "total_tokens": 363
          }
         ]
        ]
       ],
       "ops": [
        "(multiply, 3.1, 4.2),",
        "(multiply, 5.5, 6.5),",
        "(add, 13.020000000000001, 35.75),"
       ]
      },
      "text/plain": [
       "<IPython.core.display.JSON object>"
      ]
     },
     "execution_count": 14,
     "metadata": {
      "application/json": {
       "expanded": false,
       "root": "root"
      }
     },
     "output_type": "execute_result"
    }
   ],
   "source": [
    "JSON(result3)"
   ]
  },
  {
   "cell_type": "code",
   "execution_count": 15,
   "id": "f48168b8-54bb-4b72-a494-dccbdbf2c16a",
   "metadata": {},
   "outputs": [
    {
     "data": {
      "text/html": [
       "<pre style=\"white-space:pre;overflow-x:auto;line-height:normal;font-family:Menlo,'DejaVu Sans Mono',consolas,'Courier New',monospace\"><span style=\"color: #000080; text-decoration-color: #000080\">╭─────────────────────────────────────────────────── 🧑 Human ────────────────────────────────────────────────────╮</span>\n",
       "<span style=\"color: #000080; text-decoration-color: #000080\">│</span> Create an example of your own?                                                                                  <span style=\"color: #000080; text-decoration-color: #000080\">│</span>\n",
       "<span style=\"color: #000080; text-decoration-color: #000080\">╰─────────────────────────────────────────────────────────────────────────────────────────────────────────────────╯</span>\n",
       "</pre>\n"
      ],
      "text/plain": [
       "\u001b[34m╭─\u001b[0m\u001b[34m──────────────────────────────────────────────────\u001b[0m\u001b[34m 🧑 Human \u001b[0m\u001b[34m───────────────────────────────────────────────────\u001b[0m\u001b[34m─╮\u001b[0m\n",
       "\u001b[34m│\u001b[0m Create an example of your own?                                                                                  \u001b[34m│\u001b[0m\n",
       "\u001b[34m╰─────────────────────────────────────────────────────────────────────────────────────────────────────────────────╯\u001b[0m\n"
      ]
     },
     "metadata": {},
     "output_type": "display_data"
    },
    {
     "data": {
      "text/html": [
       "<pre style=\"white-space:pre;overflow-x:auto;line-height:normal;font-family:Menlo,'DejaVu Sans Mono',consolas,'Courier New',monospace\"><span style=\"color: #c0c0c0; text-decoration-color: #c0c0c0\">╭───────────────────────────────────────────────────── 📝 AI ─────────────────────────────────────────────────────╮</span>\n",
       "<span style=\"color: #c0c0c0; text-decoration-color: #c0c0c0\">│</span> Sure! Let's say we want to perform a series of arithmetic operations on two numbers: 15 and 5. We can perform   <span style=\"color: #c0c0c0; text-decoration-color: #c0c0c0\">│</span>\n",
       "<span style=\"color: #c0c0c0; text-decoration-color: #c0c0c0\">│</span> the following operations:                                                                                       <span style=\"color: #c0c0c0; text-decoration-color: #c0c0c0\">│</span>\n",
       "<span style=\"color: #c0c0c0; text-decoration-color: #c0c0c0\">│</span>                                                                                                                 <span style=\"color: #c0c0c0; text-decoration-color: #c0c0c0\">│</span>\n",
       "<span style=\"color: #c0c0c0; text-decoration-color: #c0c0c0\">│</span> 1. Addition: \\( 15 + 5 \\)                                                                                       <span style=\"color: #c0c0c0; text-decoration-color: #c0c0c0\">│</span>\n",
       "<span style=\"color: #c0c0c0; text-decoration-color: #c0c0c0\">│</span> 2. Subtraction: \\( 15 - 5 \\)                                                                                    <span style=\"color: #c0c0c0; text-decoration-color: #c0c0c0\">│</span>\n",
       "<span style=\"color: #c0c0c0; text-decoration-color: #c0c0c0\">│</span> 3. Multiplication: \\( 15 \\times 5 \\)                                                                            <span style=\"color: #c0c0c0; text-decoration-color: #c0c0c0\">│</span>\n",
       "<span style=\"color: #c0c0c0; text-decoration-color: #c0c0c0\">│</span> 4. Division: \\( 15 \\div 5 \\)                                                                                    <span style=\"color: #c0c0c0; text-decoration-color: #c0c0c0\">│</span>\n",
       "<span style=\"color: #c0c0c0; text-decoration-color: #c0c0c0\">│</span>                                                                                                                 <span style=\"color: #c0c0c0; text-decoration-color: #c0c0c0\">│</span>\n",
       "<span style=\"color: #c0c0c0; text-decoration-color: #c0c0c0\">│</span> I will calculate these operations now.                                                                          <span style=\"color: #c0c0c0; text-decoration-color: #c0c0c0\">│</span>\n",
       "<span style=\"color: #c0c0c0; text-decoration-color: #c0c0c0\">│</span>                                                                                                                 <span style=\"color: #c0c0c0; text-decoration-color: #c0c0c0\">│</span>\n",
       "<span style=\"color: #c0c0c0; text-decoration-color: #c0c0c0\">│</span> 🔧 Tool Call: calculator_wstate                                                                                 <span style=\"color: #c0c0c0; text-decoration-color: #c0c0c0\">│</span>\n",
       "<span style=\"color: #c0c0c0; text-decoration-color: #c0c0c0\">│</span>    Args: {                                                                                                      <span style=\"color: #c0c0c0; text-decoration-color: #c0c0c0\">│</span>\n",
       "<span style=\"color: #c0c0c0; text-decoration-color: #c0c0c0\">│</span>   \"operation\": \"add\",                                                                                           <span style=\"color: #c0c0c0; text-decoration-color: #c0c0c0\">│</span>\n",
       "<span style=\"color: #c0c0c0; text-decoration-color: #c0c0c0\">│</span>   \"a\": 15,                                                                                                      <span style=\"color: #c0c0c0; text-decoration-color: #c0c0c0\">│</span>\n",
       "<span style=\"color: #c0c0c0; text-decoration-color: #c0c0c0\">│</span>   \"b\": 5                                                                                                        <span style=\"color: #c0c0c0; text-decoration-color: #c0c0c0\">│</span>\n",
       "<span style=\"color: #c0c0c0; text-decoration-color: #c0c0c0\">│</span> }                                                                                                               <span style=\"color: #c0c0c0; text-decoration-color: #c0c0c0\">│</span>\n",
       "<span style=\"color: #c0c0c0; text-decoration-color: #c0c0c0\">│</span>    ID: call_U26uFZQO5zNAtV3eTideIPje                                                                            <span style=\"color: #c0c0c0; text-decoration-color: #c0c0c0\">│</span>\n",
       "<span style=\"color: #c0c0c0; text-decoration-color: #c0c0c0\">│</span>                                                                                                                 <span style=\"color: #c0c0c0; text-decoration-color: #c0c0c0\">│</span>\n",
       "<span style=\"color: #c0c0c0; text-decoration-color: #c0c0c0\">│</span> 🔧 Tool Call: calculator_wstate                                                                                 <span style=\"color: #c0c0c0; text-decoration-color: #c0c0c0\">│</span>\n",
       "<span style=\"color: #c0c0c0; text-decoration-color: #c0c0c0\">│</span>    Args: {                                                                                                      <span style=\"color: #c0c0c0; text-decoration-color: #c0c0c0\">│</span>\n",
       "<span style=\"color: #c0c0c0; text-decoration-color: #c0c0c0\">│</span>   \"operation\": \"subtract\",                                                                                      <span style=\"color: #c0c0c0; text-decoration-color: #c0c0c0\">│</span>\n",
       "<span style=\"color: #c0c0c0; text-decoration-color: #c0c0c0\">│</span>   \"a\": 15,                                                                                                      <span style=\"color: #c0c0c0; text-decoration-color: #c0c0c0\">│</span>\n",
       "<span style=\"color: #c0c0c0; text-decoration-color: #c0c0c0\">│</span>   \"b\": 5                                                                                                        <span style=\"color: #c0c0c0; text-decoration-color: #c0c0c0\">│</span>\n",
       "<span style=\"color: #c0c0c0; text-decoration-color: #c0c0c0\">│</span> }                                                                                                               <span style=\"color: #c0c0c0; text-decoration-color: #c0c0c0\">│</span>\n",
       "<span style=\"color: #c0c0c0; text-decoration-color: #c0c0c0\">│</span>    ID: call_6EmWYNbVH5718ZWOTgUI5Nv7                                                                            <span style=\"color: #c0c0c0; text-decoration-color: #c0c0c0\">│</span>\n",
       "<span style=\"color: #c0c0c0; text-decoration-color: #c0c0c0\">│</span>                                                                                                                 <span style=\"color: #c0c0c0; text-decoration-color: #c0c0c0\">│</span>\n",
       "<span style=\"color: #c0c0c0; text-decoration-color: #c0c0c0\">│</span> 🔧 Tool Call: calculator_wstate                                                                                 <span style=\"color: #c0c0c0; text-decoration-color: #c0c0c0\">│</span>\n",
       "<span style=\"color: #c0c0c0; text-decoration-color: #c0c0c0\">│</span>    Args: {                                                                                                      <span style=\"color: #c0c0c0; text-decoration-color: #c0c0c0\">│</span>\n",
       "<span style=\"color: #c0c0c0; text-decoration-color: #c0c0c0\">│</span>   \"operation\": \"multiply\",                                                                                      <span style=\"color: #c0c0c0; text-decoration-color: #c0c0c0\">│</span>\n",
       "<span style=\"color: #c0c0c0; text-decoration-color: #c0c0c0\">│</span>   \"a\": 15,                                                                                                      <span style=\"color: #c0c0c0; text-decoration-color: #c0c0c0\">│</span>\n",
       "<span style=\"color: #c0c0c0; text-decoration-color: #c0c0c0\">│</span>   \"b\": 5                                                                                                        <span style=\"color: #c0c0c0; text-decoration-color: #c0c0c0\">│</span>\n",
       "<span style=\"color: #c0c0c0; text-decoration-color: #c0c0c0\">│</span> }                                                                                                               <span style=\"color: #c0c0c0; text-decoration-color: #c0c0c0\">│</span>\n",
       "<span style=\"color: #c0c0c0; text-decoration-color: #c0c0c0\">│</span>    ID: call_s45Ok6EjYxvP98brPcqyh8m6                                                                            <span style=\"color: #c0c0c0; text-decoration-color: #c0c0c0\">│</span>\n",
       "<span style=\"color: #c0c0c0; text-decoration-color: #c0c0c0\">│</span>                                                                                                                 <span style=\"color: #c0c0c0; text-decoration-color: #c0c0c0\">│</span>\n",
       "<span style=\"color: #c0c0c0; text-decoration-color: #c0c0c0\">│</span> 🔧 Tool Call: calculator_wstate                                                                                 <span style=\"color: #c0c0c0; text-decoration-color: #c0c0c0\">│</span>\n",
       "<span style=\"color: #c0c0c0; text-decoration-color: #c0c0c0\">│</span>    Args: {                                                                                                      <span style=\"color: #c0c0c0; text-decoration-color: #c0c0c0\">│</span>\n",
       "<span style=\"color: #c0c0c0; text-decoration-color: #c0c0c0\">│</span>   \"operation\": \"divide\",                                                                                        <span style=\"color: #c0c0c0; text-decoration-color: #c0c0c0\">│</span>\n",
       "<span style=\"color: #c0c0c0; text-decoration-color: #c0c0c0\">│</span>   \"a\": 15,                                                                                                      <span style=\"color: #c0c0c0; text-decoration-color: #c0c0c0\">│</span>\n",
       "<span style=\"color: #c0c0c0; text-decoration-color: #c0c0c0\">│</span>   \"b\": 5                                                                                                        <span style=\"color: #c0c0c0; text-decoration-color: #c0c0c0\">│</span>\n",
       "<span style=\"color: #c0c0c0; text-decoration-color: #c0c0c0\">│</span> }                                                                                                               <span style=\"color: #c0c0c0; text-decoration-color: #c0c0c0\">│</span>\n",
       "<span style=\"color: #c0c0c0; text-decoration-color: #c0c0c0\">│</span>    ID: call_jSTlmM4mjmK73Pt2O9Wqtr6Z                                                                            <span style=\"color: #c0c0c0; text-decoration-color: #c0c0c0\">│</span>\n",
       "<span style=\"color: #c0c0c0; text-decoration-color: #c0c0c0\">╰─────────────────────────────────────────────────────────────────────────────────────────────────────────────────╯</span>\n",
       "</pre>\n"
      ],
      "text/plain": [
       "\u001b[37m╭─\u001b[0m\u001b[37m────────────────────────────────────────────────────\u001b[0m\u001b[37m 📝 AI \u001b[0m\u001b[37m────────────────────────────────────────────────────\u001b[0m\u001b[37m─╮\u001b[0m\n",
       "\u001b[37m│\u001b[0m Sure! Let's say we want to perform a series of arithmetic operations on two numbers: 15 and 5. We can perform   \u001b[37m│\u001b[0m\n",
       "\u001b[37m│\u001b[0m the following operations:                                                                                       \u001b[37m│\u001b[0m\n",
       "\u001b[37m│\u001b[0m                                                                                                                 \u001b[37m│\u001b[0m\n",
       "\u001b[37m│\u001b[0m 1. Addition: \\( 15 + 5 \\)                                                                                       \u001b[37m│\u001b[0m\n",
       "\u001b[37m│\u001b[0m 2. Subtraction: \\( 15 - 5 \\)                                                                                    \u001b[37m│\u001b[0m\n",
       "\u001b[37m│\u001b[0m 3. Multiplication: \\( 15 \\times 5 \\)                                                                            \u001b[37m│\u001b[0m\n",
       "\u001b[37m│\u001b[0m 4. Division: \\( 15 \\div 5 \\)                                                                                    \u001b[37m│\u001b[0m\n",
       "\u001b[37m│\u001b[0m                                                                                                                 \u001b[37m│\u001b[0m\n",
       "\u001b[37m│\u001b[0m I will calculate these operations now.                                                                          \u001b[37m│\u001b[0m\n",
       "\u001b[37m│\u001b[0m                                                                                                                 \u001b[37m│\u001b[0m\n",
       "\u001b[37m│\u001b[0m 🔧 Tool Call: calculator_wstate                                                                                 \u001b[37m│\u001b[0m\n",
       "\u001b[37m│\u001b[0m    Args: {                                                                                                      \u001b[37m│\u001b[0m\n",
       "\u001b[37m│\u001b[0m   \"operation\": \"add\",                                                                                           \u001b[37m│\u001b[0m\n",
       "\u001b[37m│\u001b[0m   \"a\": 15,                                                                                                      \u001b[37m│\u001b[0m\n",
       "\u001b[37m│\u001b[0m   \"b\": 5                                                                                                        \u001b[37m│\u001b[0m\n",
       "\u001b[37m│\u001b[0m }                                                                                                               \u001b[37m│\u001b[0m\n",
       "\u001b[37m│\u001b[0m    ID: call_U26uFZQO5zNAtV3eTideIPje                                                                            \u001b[37m│\u001b[0m\n",
       "\u001b[37m│\u001b[0m                                                                                                                 \u001b[37m│\u001b[0m\n",
       "\u001b[37m│\u001b[0m 🔧 Tool Call: calculator_wstate                                                                                 \u001b[37m│\u001b[0m\n",
       "\u001b[37m│\u001b[0m    Args: {                                                                                                      \u001b[37m│\u001b[0m\n",
       "\u001b[37m│\u001b[0m   \"operation\": \"subtract\",                                                                                      \u001b[37m│\u001b[0m\n",
       "\u001b[37m│\u001b[0m   \"a\": 15,                                                                                                      \u001b[37m│\u001b[0m\n",
       "\u001b[37m│\u001b[0m   \"b\": 5                                                                                                        \u001b[37m│\u001b[0m\n",
       "\u001b[37m│\u001b[0m }                                                                                                               \u001b[37m│\u001b[0m\n",
       "\u001b[37m│\u001b[0m    ID: call_6EmWYNbVH5718ZWOTgUI5Nv7                                                                            \u001b[37m│\u001b[0m\n",
       "\u001b[37m│\u001b[0m                                                                                                                 \u001b[37m│\u001b[0m\n",
       "\u001b[37m│\u001b[0m 🔧 Tool Call: calculator_wstate                                                                                 \u001b[37m│\u001b[0m\n",
       "\u001b[37m│\u001b[0m    Args: {                                                                                                      \u001b[37m│\u001b[0m\n",
       "\u001b[37m│\u001b[0m   \"operation\": \"multiply\",                                                                                      \u001b[37m│\u001b[0m\n",
       "\u001b[37m│\u001b[0m   \"a\": 15,                                                                                                      \u001b[37m│\u001b[0m\n",
       "\u001b[37m│\u001b[0m   \"b\": 5                                                                                                        \u001b[37m│\u001b[0m\n",
       "\u001b[37m│\u001b[0m }                                                                                                               \u001b[37m│\u001b[0m\n",
       "\u001b[37m│\u001b[0m    ID: call_s45Ok6EjYxvP98brPcqyh8m6                                                                            \u001b[37m│\u001b[0m\n",
       "\u001b[37m│\u001b[0m                                                                                                                 \u001b[37m│\u001b[0m\n",
       "\u001b[37m│\u001b[0m 🔧 Tool Call: calculator_wstate                                                                                 \u001b[37m│\u001b[0m\n",
       "\u001b[37m│\u001b[0m    Args: {                                                                                                      \u001b[37m│\u001b[0m\n",
       "\u001b[37m│\u001b[0m   \"operation\": \"divide\",                                                                                        \u001b[37m│\u001b[0m\n",
       "\u001b[37m│\u001b[0m   \"a\": 15,                                                                                                      \u001b[37m│\u001b[0m\n",
       "\u001b[37m│\u001b[0m   \"b\": 5                                                                                                        \u001b[37m│\u001b[0m\n",
       "\u001b[37m│\u001b[0m }                                                                                                               \u001b[37m│\u001b[0m\n",
       "\u001b[37m│\u001b[0m    ID: call_jSTlmM4mjmK73Pt2O9Wqtr6Z                                                                            \u001b[37m│\u001b[0m\n",
       "\u001b[37m╰─────────────────────────────────────────────────────────────────────────────────────────────────────────────────╯\u001b[0m\n"
      ]
     },
     "metadata": {},
     "output_type": "display_data"
    },
    {
     "data": {
      "text/html": [
       "<pre style=\"white-space:pre;overflow-x:auto;line-height:normal;font-family:Menlo,'DejaVu Sans Mono',consolas,'Courier New',monospace\"><span style=\"color: #808000; text-decoration-color: #808000\">╭──────────────────────────────────────────────── 🔧 Tool Output ─────────────────────────────────────────────────╮</span>\n",
       "<span style=\"color: #808000; text-decoration-color: #808000\">│</span> 20                                                                                                              <span style=\"color: #808000; text-decoration-color: #808000\">│</span>\n",
       "<span style=\"color: #808000; text-decoration-color: #808000\">╰─────────────────────────────────────────────────────────────────────────────────────────────────────────────────╯</span>\n",
       "</pre>\n"
      ],
      "text/plain": [
       "\u001b[33m╭─\u001b[0m\u001b[33m───────────────────────────────────────────────\u001b[0m\u001b[33m 🔧 Tool Output \u001b[0m\u001b[33m────────────────────────────────────────────────\u001b[0m\u001b[33m─╮\u001b[0m\n",
       "\u001b[33m│\u001b[0m 20                                                                                                              \u001b[33m│\u001b[0m\n",
       "\u001b[33m╰─────────────────────────────────────────────────────────────────────────────────────────────────────────────────╯\u001b[0m\n"
      ]
     },
     "metadata": {},
     "output_type": "display_data"
    },
    {
     "data": {
      "text/html": [
       "<pre style=\"white-space:pre;overflow-x:auto;line-height:normal;font-family:Menlo,'DejaVu Sans Mono',consolas,'Courier New',monospace\"><span style=\"color: #808000; text-decoration-color: #808000\">╭──────────────────────────────────────────────── 🔧 Tool Output ─────────────────────────────────────────────────╮</span>\n",
       "<span style=\"color: #808000; text-decoration-color: #808000\">│</span> 10                                                                                                              <span style=\"color: #808000; text-decoration-color: #808000\">│</span>\n",
       "<span style=\"color: #808000; text-decoration-color: #808000\">╰─────────────────────────────────────────────────────────────────────────────────────────────────────────────────╯</span>\n",
       "</pre>\n"
      ],
      "text/plain": [
       "\u001b[33m╭─\u001b[0m\u001b[33m───────────────────────────────────────────────\u001b[0m\u001b[33m 🔧 Tool Output \u001b[0m\u001b[33m────────────────────────────────────────────────\u001b[0m\u001b[33m─╮\u001b[0m\n",
       "\u001b[33m│\u001b[0m 10                                                                                                              \u001b[33m│\u001b[0m\n",
       "\u001b[33m╰─────────────────────────────────────────────────────────────────────────────────────────────────────────────────╯\u001b[0m\n"
      ]
     },
     "metadata": {},
     "output_type": "display_data"
    },
    {
     "data": {
      "text/html": [
       "<pre style=\"white-space:pre;overflow-x:auto;line-height:normal;font-family:Menlo,'DejaVu Sans Mono',consolas,'Courier New',monospace\"><span style=\"color: #808000; text-decoration-color: #808000\">╭──────────────────────────────────────────────── 🔧 Tool Output ─────────────────────────────────────────────────╮</span>\n",
       "<span style=\"color: #808000; text-decoration-color: #808000\">│</span> 75                                                                                                              <span style=\"color: #808000; text-decoration-color: #808000\">│</span>\n",
       "<span style=\"color: #808000; text-decoration-color: #808000\">╰─────────────────────────────────────────────────────────────────────────────────────────────────────────────────╯</span>\n",
       "</pre>\n"
      ],
      "text/plain": [
       "\u001b[33m╭─\u001b[0m\u001b[33m───────────────────────────────────────────────\u001b[0m\u001b[33m 🔧 Tool Output \u001b[0m\u001b[33m────────────────────────────────────────────────\u001b[0m\u001b[33m─╮\u001b[0m\n",
       "\u001b[33m│\u001b[0m 75                                                                                                              \u001b[33m│\u001b[0m\n",
       "\u001b[33m╰─────────────────────────────────────────────────────────────────────────────────────────────────────────────────╯\u001b[0m\n"
      ]
     },
     "metadata": {},
     "output_type": "display_data"
    },
    {
     "data": {
      "text/html": [
       "<pre style=\"white-space:pre;overflow-x:auto;line-height:normal;font-family:Menlo,'DejaVu Sans Mono',consolas,'Courier New',monospace\"><span style=\"color: #808000; text-decoration-color: #808000\">╭──────────────────────────────────────────────── 🔧 Tool Output ─────────────────────────────────────────────────╮</span>\n",
       "<span style=\"color: #808000; text-decoration-color: #808000\">│</span> 3.0                                                                                                             <span style=\"color: #808000; text-decoration-color: #808000\">│</span>\n",
       "<span style=\"color: #808000; text-decoration-color: #808000\">╰─────────────────────────────────────────────────────────────────────────────────────────────────────────────────╯</span>\n",
       "</pre>\n"
      ],
      "text/plain": [
       "\u001b[33m╭─\u001b[0m\u001b[33m───────────────────────────────────────────────\u001b[0m\u001b[33m 🔧 Tool Output \u001b[0m\u001b[33m────────────────────────────────────────────────\u001b[0m\u001b[33m─╮\u001b[0m\n",
       "\u001b[33m│\u001b[0m 3.0                                                                                                             \u001b[33m│\u001b[0m\n",
       "\u001b[33m╰─────────────────────────────────────────────────────────────────────────────────────────────────────────────────╯\u001b[0m\n"
      ]
     },
     "metadata": {},
     "output_type": "display_data"
    },
    {
     "data": {
      "text/html": [
       "<pre style=\"white-space:pre;overflow-x:auto;line-height:normal;font-family:Menlo,'DejaVu Sans Mono',consolas,'Courier New',monospace\"><span style=\"color: #c0c0c0; text-decoration-color: #c0c0c0\">╭───────────────────────────────────────────────────── 📝 AI ─────────────────────────────────────────────────────╮</span>\n",
       "<span style=\"color: #c0c0c0; text-decoration-color: #c0c0c0\">│</span> Here are the results of the arithmetic operations on the numbers 15 and 5:                                      <span style=\"color: #c0c0c0; text-decoration-color: #c0c0c0\">│</span>\n",
       "<span style=\"color: #c0c0c0; text-decoration-color: #c0c0c0\">│</span>                                                                                                                 <span style=\"color: #c0c0c0; text-decoration-color: #c0c0c0\">│</span>\n",
       "<span style=\"color: #c0c0c0; text-decoration-color: #c0c0c0\">│</span> 1. **Addition**: \\( 15 + 5 = 20 \\)                                                                              <span style=\"color: #c0c0c0; text-decoration-color: #c0c0c0\">│</span>\n",
       "<span style=\"color: #c0c0c0; text-decoration-color: #c0c0c0\">│</span> 2. **Subtraction**: \\( 15 - 5 = 10 \\)                                                                           <span style=\"color: #c0c0c0; text-decoration-color: #c0c0c0\">│</span>\n",
       "<span style=\"color: #c0c0c0; text-decoration-color: #c0c0c0\">│</span> 3. **Multiplication**: \\( 15 \\times 5 = 75 \\)                                                                   <span style=\"color: #c0c0c0; text-decoration-color: #c0c0c0\">│</span>\n",
       "<span style=\"color: #c0c0c0; text-decoration-color: #c0c0c0\">│</span> 4. **Division**: \\( 15 \\div 5 = 3.0 \\)                                                                          <span style=\"color: #c0c0c0; text-decoration-color: #c0c0c0\">│</span>\n",
       "<span style=\"color: #c0c0c0; text-decoration-color: #c0c0c0\">│</span>                                                                                                                 <span style=\"color: #c0c0c0; text-decoration-color: #c0c0c0\">│</span>\n",
       "<span style=\"color: #c0c0c0; text-decoration-color: #c0c0c0\">│</span> If you have any other operations or numbers in mind, feel free to ask!                                          <span style=\"color: #c0c0c0; text-decoration-color: #c0c0c0\">│</span>\n",
       "<span style=\"color: #c0c0c0; text-decoration-color: #c0c0c0\">╰─────────────────────────────────────────────────────────────────────────────────────────────────────────────────╯</span>\n",
       "</pre>\n"
      ],
      "text/plain": [
       "\u001b[37m╭─\u001b[0m\u001b[37m────────────────────────────────────────────────────\u001b[0m\u001b[37m 📝 AI \u001b[0m\u001b[37m────────────────────────────────────────────────────\u001b[0m\u001b[37m─╮\u001b[0m\n",
       "\u001b[37m│\u001b[0m Here are the results of the arithmetic operations on the numbers 15 and 5:                                      \u001b[37m│\u001b[0m\n",
       "\u001b[37m│\u001b[0m                                                                                                                 \u001b[37m│\u001b[0m\n",
       "\u001b[37m│\u001b[0m 1. **Addition**: \\( 15 + 5 = 20 \\)                                                                              \u001b[37m│\u001b[0m\n",
       "\u001b[37m│\u001b[0m 2. **Subtraction**: \\( 15 - 5 = 10 \\)                                                                           \u001b[37m│\u001b[0m\n",
       "\u001b[37m│\u001b[0m 3. **Multiplication**: \\( 15 \\times 5 = 75 \\)                                                                   \u001b[37m│\u001b[0m\n",
       "\u001b[37m│\u001b[0m 4. **Division**: \\( 15 \\div 5 = 3.0 \\)                                                                          \u001b[37m│\u001b[0m\n",
       "\u001b[37m│\u001b[0m                                                                                                                 \u001b[37m│\u001b[0m\n",
       "\u001b[37m│\u001b[0m If you have any other operations or numbers in mind, feel free to ask!                                          \u001b[37m│\u001b[0m\n",
       "\u001b[37m╰─────────────────────────────────────────────────────────────────────────────────────────────────────────────────╯\u001b[0m\n"
      ]
     },
     "metadata": {},
     "output_type": "display_data"
    }
   ],
   "source": [
    "# Example usage - create your own\n",
    "result4 = agent.invoke(\n",
    "    {\n",
    "        \"messages\": [\n",
    "            {\n",
    "                \"role\": \"user\",\n",
    "                \"content\": \"Create an example of your own?\",\n",
    "            }\n",
    "        ],\n",
    "    }\n",
    ")\n",
    "\n",
    "format_messages(result4[\"messages\"])"
   ]
  },
  {
   "cell_type": "markdown",
   "id": "9d93063f-9625-4667-b9d8-407b1103d4f9",
   "metadata": {},
   "source": [
    "## <span style=\"font-size:0.8em;\">🪝</span> Hooks and structured responses"
   ]
  },
  {
   "cell_type": "markdown",
   "id": "234cce2b-7124-4933-8c34-9b5a409b4683",
   "metadata": {},
   "source": [
    "<table>\n",
    "<tr>\n",
    "<td style=\"width:300px;\">\n",
    "  <img src=\"./assets/complex_agent.png\" style=\"max-width:100%; height:auto;\">\n",
    "</td>\n",
    "<td>\n",
    "  <code>create_react_agent</code>는 다양한 추가 기능을 제공합니다.  \n",
    "  본 과정에서는 해당 기능들을 사용하지 않을 예정이므로, 여기서는 간단히 설명하고 탐색은 다른 과정으로 미루겠습니다. \n",
    "\n",
    "  - 참고로 `create_react_agent` 호출 정의는 [여기](https://langchain-ai.github.io/langgraph/reference/agents/#:~:text=of%20the%20agent.-,create_react_agent,-%C2%B6)에서 확인할 수 있습니다.\n",
    "\n",
    "  - pre-hook: 에이전트 노드 앞에 노드를 삽입합니다. `state`에 접근할 수 있습니다. 메시지를 요약하거나 압축하여 관리하는 데 자주 사용됩니다. \n",
    "  - post-hook: LLM 호출 후, 도구 호출 전에 노드를 삽입합니다. 인간 개입(human-in-the-loop), 가드레일(guardrails), 검증 또는 기타 후처리 구현에 유용합니다.\n",
    "  - 응답 형식(response_format): `END` 앞에 노드를 추가합니다. LLM.with_structured_output을 호출하여 주어진 스키마에 맞게 출력을 형식화하고 ‘structured_response’ 상태 키로 반환합니다.\n",
    "</td>\n",
    "</tr>\n",
    "</table> \n",
    "\n",
    " "
   ]
  },
  {
   "cell_type": "markdown",
   "id": "a2c2dab8-2156-4c1f-87c6-5773f841cbe3",
   "metadata": {},
   "source": []
  },
  {
   "cell_type": "code",
   "execution_count": null,
   "id": "6f1c57dd-a9cc-4e8d-9555-9eb414fb9151",
   "metadata": {},
   "outputs": [],
   "source": []
  }
 ],
 "metadata": {
  "kernelspec": {
   "display_name": "deep-agents-from-scratch",
   "language": "python",
   "name": "python3"
  },
  "language_info": {
   "codemirror_mode": {
    "name": "ipython",
    "version": 3
   },
   "file_extension": ".py",
   "mimetype": "text/x-python",
   "name": "python",
   "nbconvert_exporter": "python",
   "pygments_lexer": "ipython3",
   "version": "3.11.11"
  }
 },
 "nbformat": 4,
 "nbformat_minor": 5
}
